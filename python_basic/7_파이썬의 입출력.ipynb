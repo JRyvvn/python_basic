{
 "cells": [
  {
   "cell_type": "markdown",
   "id": "7ad304a7-938f-4259-98c0-005ef1001838",
   "metadata": {},
   "source": [
    "# 1. 사용자 입출력"
   ]
  },
  {
   "cell_type": "code",
   "execution_count": 2,
   "id": "80fa0124-36d2-4d3d-b013-eafef2f00345",
   "metadata": {},
   "outputs": [
    {
     "name": "stdin",
     "output_type": "stream",
     "text": [
      " Life is too short, you need python\n"
     ]
    }
   ],
   "source": []
  },
  {
   "cell_type": "code",
   "execution_count": 3,
   "id": "62cd6d6b-c86c-449f-a1c1-d0a4c84dcfae",
   "metadata": {},
   "outputs": [
    {
     "name": "stdin",
     "output_type": "stream",
     "text": [
      "  Life is too short, you need python\n"
     ]
    }
   ],
   "source": [
    "a=input()"
   ]
  },
  {
   "cell_type": "code",
   "execution_count": 4,
   "id": "c2c24d2b-ef16-4650-b0e4-b17f9f382ea3",
   "metadata": {},
   "outputs": [
    {
     "name": "stdout",
     "output_type": "stream",
     "text": [
      " Life is too short, you need python\n"
     ]
    }
   ],
   "source": [
    "print(a)\n"
   ]
  },
  {
   "cell_type": "code",
   "execution_count": 6,
   "id": "3fcc7ff0-25b2-4e25-be3c-7ea8b3678e1b",
   "metadata": {},
   "outputs": [
    {
     "name": "stdin",
     "output_type": "stream",
     "text": [
      " 100\n"
     ]
    }
   ],
   "source": [
    "num=input()"
   ]
  },
  {
   "cell_type": "code",
   "execution_count": 7,
   "id": "c6284237-866a-4287-87fa-8de2f694be7e",
   "metadata": {},
   "outputs": [
    {
     "name": "stdout",
     "output_type": "stream",
     "text": [
      "100\n"
     ]
    }
   ],
   "source": [
    "print(num)"
   ]
  },
  {
   "cell_type": "code",
   "execution_count": 8,
   "id": "51c2ff87-3361-42cd-9996-7e6a0ded0dfd",
   "metadata": {},
   "outputs": [
    {
     "data": {
      "text/plain": [
       "str"
      ]
     },
     "execution_count": 8,
     "metadata": {},
     "output_type": "execute_result"
    }
   ],
   "source": [
    "type(num) #input에 입력한 모든 것은 문자열이다."
   ]
  },
  {
   "cell_type": "code",
   "execution_count": 9,
   "id": "0303a4d1-afaa-4540-995e-fb4c1ccb4e17",
   "metadata": {},
   "outputs": [
    {
     "name": "stdout",
     "output_type": "stream",
     "text": [
      "123\n"
     ]
    }
   ],
   "source": [
    "a=123\n",
    "print(a)"
   ]
  },
  {
   "cell_type": "code",
   "execution_count": 10,
   "id": "e809d310-66f0-4bb1-80c9-3317d0bd16a9",
   "metadata": {},
   "outputs": [
    {
     "name": "stdout",
     "output_type": "stream",
     "text": [
      "python\n"
     ]
    }
   ],
   "source": [
    "a='python'\n",
    "print(a)"
   ]
  },
  {
   "cell_type": "code",
   "execution_count": 11,
   "id": "bef1938f-29c3-459b-912f-240270b0673e",
   "metadata": {},
   "outputs": [
    {
     "name": "stdout",
     "output_type": "stream",
     "text": [
      "[1, 2, 3]\n"
     ]
    }
   ],
   "source": [
    "a=[1,2,3]\n",
    "print(a)"
   ]
  },
  {
   "cell_type": "code",
   "execution_count": 13,
   "id": "6ccad86b-7f25-4f49-a35b-d3876f6f089e",
   "metadata": {},
   "outputs": [
    {
     "name": "stdout",
     "output_type": "stream",
     "text": [
      "lifeistoo short\n"
     ]
    }
   ],
   "source": [
    "print(\"life\"\"is\"\"too short\")"
   ]
  },
  {
   "cell_type": "raw",
   "id": "a0edee85-a1be-41ab-adee-b63d861186a8",
   "metadata": {},
   "source": [
    "print(\"life\"+\"is\"+\"too short\")"
   ]
  },
  {
   "cell_type": "code",
   "execution_count": 14,
   "id": "0bb9efe4-50c2-46ed-8bbf-7f6a962bb64c",
   "metadata": {},
   "outputs": [
    {
     "name": "stdout",
     "output_type": "stream",
     "text": [
      "life is too short\n"
     ]
    }
   ],
   "source": [
    "print('life' ' is' ' too short')"
   ]
  },
  {
   "cell_type": "code",
   "execution_count": 15,
   "id": "ca8fa6ef-193f-43ed-80b3-8aaca9afc295",
   "metadata": {},
   "outputs": [
    {
     "name": "stdout",
     "output_type": "stream",
     "text": [
      "life  is  too short\n"
     ]
    }
   ],
   "source": [
    "print(\"life\",\" is\",\" too short\")"
   ]
  },
  {
   "cell_type": "code",
   "execution_count": 16,
   "id": "ad3a490d-83b1-4506-81b4-9b094b8e1fdb",
   "metadata": {},
   "outputs": [
    {
     "name": "stdout",
     "output_type": "stream",
     "text": [
      "life  is  too short\n"
     ]
    }
   ],
   "source": [
    "print('life',' is',' too short')"
   ]
  },
  {
   "cell_type": "code",
   "execution_count": 17,
   "id": "d2d1b5a4-ec02-498b-9598-c8d67c3f5d35",
   "metadata": {},
   "outputs": [
    {
     "name": "stdout",
     "output_type": "stream",
     "text": [
      "0123456789"
     ]
    }
   ],
   "source": [
    "for i in range(10):\n",
    "    print(i,end='')"
   ]
  },
  {
   "cell_type": "markdown",
   "id": "69a1f422-e991-46ee-bd6e-2abf8b78a8c1",
   "metadata": {},
   "source": [
    "# 2. 파일 읽고 쓰기\n"
   ]
  },
  {
   "cell_type": "markdown",
   "id": "8dceb0a7-222c-4b05-88ed-4f8f70c344c9",
   "metadata": {},
   "source": [
    "### 1) 파일 생성하기\n"
   ]
  },
  {
   "cell_type": "code",
   "execution_count": 18,
   "id": "2be3a58c-ef94-4c06-a33c-a80635bd1443",
   "metadata": {},
   "outputs": [],
   "source": [
    "f=open(\"newfile.txt\",'w')\n",
    "f.close()"
   ]
  },
  {
   "cell_type": "markdown",
   "id": "5f0e0821-20f8-4e8d-8c8f-4872974fbd5d",
   "metadata": {},
   "source": [
    "## 2) 파일을 쓰기 모드로 열어 내용 쓰기"
   ]
  },
  {
   "cell_type": "code",
   "execution_count": 19,
   "id": "a0162c3b-0943-4f4e-abf6-bd1f52e043c5",
   "metadata": {},
   "outputs": [],
   "source": [
    "f=open(\"newfile.txt\",\"w\")\n",
    "for i in range(1,11):\n",
    "    data=\"%d번째 줄입니다.\\n\" %i\n",
    "    f.write(data)\n",
    "f.close()"
   ]
  },
  {
   "cell_type": "markdown",
   "id": "a2a6883b-4fc0-4a2c-8821-a5e7e6318948",
   "metadata": {},
   "source": [
    "### 3) 파일을 읽는 여러가지 방법\n"
   ]
  },
  {
   "cell_type": "code",
   "execution_count": 21,
   "id": "4dc27b46-d324-49c9-97be-388ac174a118",
   "metadata": {},
   "outputs": [
    {
     "name": "stdout",
     "output_type": "stream",
     "text": [
      "1번째 줄입니다.\n",
      "\n"
     ]
    }
   ],
   "source": [
    "f=open(\"newfile.txt\",'r')\n",
    "line=f.readline()\n",
    "print(line)\n",
    "f.close()"
   ]
  },
  {
   "cell_type": "code",
   "execution_count": 22,
   "id": "284409d9-849e-4e72-8e47-79ea95b90df7",
   "metadata": {},
   "outputs": [
    {
     "name": "stdout",
     "output_type": "stream",
     "text": [
      "1번째 줄입니다.\n",
      "\n",
      "2번째 줄입니다.\n",
      "\n",
      "3번째 줄입니다.\n",
      "\n",
      "4번째 줄입니다.\n",
      "\n",
      "5번째 줄입니다.\n",
      "\n",
      "6번째 줄입니다.\n",
      "\n",
      "7번째 줄입니다.\n",
      "\n",
      "8번째 줄입니다.\n",
      "\n",
      "9번째 줄입니다.\n",
      "\n",
      "10번째 줄입니다.\n",
      "\n"
     ]
    }
   ],
   "source": [
    "f=open(\"newfile.txt\",'r')\n",
    "while True:\n",
    "    line = f.readline()\n",
    "    if not line:\n",
    "        break\n",
    "    print(line)\n",
    "f.close()"
   ]
  },
  {
   "cell_type": "code",
   "execution_count": 23,
   "id": "b3ef5b77-74ae-42d6-873a-ed079598de2c",
   "metadata": {},
   "outputs": [],
   "source": [
    "# 사용자 입력을 받아서 여러줄 출력하기"
   ]
  },
  {
   "cell_type": "code",
   "execution_count": 24,
   "id": "88f3cb74-b7e0-4679-9294-56ede0d9f7b0",
   "metadata": {},
   "outputs": [
    {
     "name": "stdin",
     "output_type": "stream",
     "text": [
      " 입력합니다.\n"
     ]
    },
    {
     "name": "stdout",
     "output_type": "stream",
     "text": [
      "입력합니다.\n"
     ]
    },
    {
     "name": "stdin",
     "output_type": "stream",
     "text": [
      " 점심 뭐먹지\n"
     ]
    },
    {
     "name": "stdout",
     "output_type": "stream",
     "text": [
      "점심 뭐먹지\n"
     ]
    },
    {
     "name": "stdin",
     "output_type": "stream",
     "text": [
      " 살찌는데\n"
     ]
    },
    {
     "name": "stdout",
     "output_type": "stream",
     "text": [
      "살찌는데\n"
     ]
    },
    {
     "name": "stdin",
     "output_type": "stream",
     "text": [
      " \n"
     ]
    }
   ],
   "source": [
    "while True:\n",
    "    data=input()\n",
    "    if not data:break\n",
    "    print(data)"
   ]
  },
  {
   "cell_type": "code",
   "execution_count": 25,
   "id": "42910020-3aca-4a7b-8740-6c04514f1b13",
   "metadata": {},
   "outputs": [
    {
     "name": "stdout",
     "output_type": "stream",
     "text": [
      "1번째 줄입니다.\n",
      "\n",
      "2번째 줄입니다.\n",
      "\n",
      "3번째 줄입니다.\n",
      "\n",
      "4번째 줄입니다.\n",
      "\n",
      "5번째 줄입니다.\n",
      "\n",
      "6번째 줄입니다.\n",
      "\n",
      "7번째 줄입니다.\n",
      "\n",
      "8번째 줄입니다.\n",
      "\n",
      "9번째 줄입니다.\n",
      "\n",
      "10번째 줄입니다.\n",
      "\n"
     ]
    }
   ],
   "source": [
    "f=open(\"newfile.txt\",'r')\n",
    "lines=f.readlines()\n",
    "for line in lines:\n",
    "    print(line)\n",
    "f.close()"
   ]
  },
  {
   "cell_type": "code",
   "execution_count": 27,
   "id": "96969d91-a1fc-4a4c-843d-6599c385a032",
   "metadata": {},
   "outputs": [
    {
     "name": "stdout",
     "output_type": "stream",
     "text": [
      "1번째 줄입니다.\n",
      "2번째 줄입니다.\n",
      "3번째 줄입니다.\n",
      "4번째 줄입니다.\n",
      "5번째 줄입니다.\n",
      "6번째 줄입니다.\n",
      "7번째 줄입니다.\n",
      "8번째 줄입니다.\n",
      "9번째 줄입니다.\n",
      "10번째 줄입니다.\n"
     ]
    }
   ],
   "source": [
    "# 줄바꿈 (\\n) 문자 제거하기\n",
    "\n",
    "f=open(\"newfile.txt\",'r')\n",
    "lines=f.readlines()\n",
    "for line in lines:\n",
    "    line=line.strip() # 줄 끝의 줄 마꿈 문자를 제거한다.\n",
    "    print(line)\n",
    "f.close()"
   ]
  },
  {
   "cell_type": "code",
   "execution_count": 28,
   "id": "139a2626-fa23-4b50-8cb1-2f692077e5cc",
   "metadata": {},
   "outputs": [],
   "source": [
    "# read 함수로 파일 전체 내용 읽기\n"
   ]
  },
  {
   "cell_type": "code",
   "execution_count": 29,
   "id": "1b4e61a7-4d8e-4d15-ae60-82438c1062e3",
   "metadata": {},
   "outputs": [
    {
     "name": "stdout",
     "output_type": "stream",
     "text": [
      "1번째 줄입니다.\n",
      "2번째 줄입니다.\n",
      "3번째 줄입니다.\n",
      "4번째 줄입니다.\n",
      "5번째 줄입니다.\n",
      "6번째 줄입니다.\n",
      "7번째 줄입니다.\n",
      "8번째 줄입니다.\n",
      "9번째 줄입니다.\n",
      "10번째 줄입니다.\n",
      "\n"
     ]
    }
   ],
   "source": [
    "f=open(\"newfile.txt\",'r')\n",
    "data=f.read()\n",
    "print(data)\n",
    "f.close()"
   ]
  },
  {
   "cell_type": "code",
   "execution_count": 30,
   "id": "9b8a5727-477c-4ca6-9b0e-f6e9ddbb6aa5",
   "metadata": {},
   "outputs": [],
   "source": [
    "# 파일 객체를 for문과 함께 사용하기"
   ]
  },
  {
   "cell_type": "code",
   "execution_count": 31,
   "id": "e1b73243-a6a3-488e-a8b3-c0aec9562a48",
   "metadata": {},
   "outputs": [
    {
     "name": "stdout",
     "output_type": "stream",
     "text": [
      "1번째 줄입니다.\n",
      "\n",
      "2번째 줄입니다.\n",
      "\n",
      "3번째 줄입니다.\n",
      "\n",
      "4번째 줄입니다.\n",
      "\n",
      "5번째 줄입니다.\n",
      "\n",
      "6번째 줄입니다.\n",
      "\n",
      "7번째 줄입니다.\n",
      "\n",
      "8번째 줄입니다.\n",
      "\n",
      "9번째 줄입니다.\n",
      "\n",
      "10번째 줄입니다.\n",
      "\n"
     ]
    }
   ],
   "source": [
    "f=open(\"newfile.txt\",'r')\n",
    "for line in f:\n",
    "    print(line)\n",
    "f.close()"
   ]
  },
  {
   "cell_type": "markdown",
   "id": "e12ed5cb-7293-475f-b6c8-65423002be82",
   "metadata": {},
   "source": [
    "### 4) 파일에 새로운 내용 추가\n"
   ]
  },
  {
   "cell_type": "code",
   "execution_count": 34,
   "id": "a9754510-4d6c-445a-abc9-eafedfb035bd",
   "metadata": {},
   "outputs": [],
   "source": [
    "f=open(\"newfile.txt\" , 'a')\n",
    "for i in range(11,20):\n",
    "    data=\"%d번째 줄입니다.\\n\" %i\n",
    "    f.write(data)\n",
    "f.close()"
   ]
  },
  {
   "cell_type": "markdown",
   "id": "21bb1d3a-26f0-4534-bc7c-12bf4720c1e3",
   "metadata": {},
   "source": [
    "### with문과 함께 사용하기"
   ]
  },
  {
   "cell_type": "code",
   "execution_count": 35,
   "id": "a0443683-0b68-498d-8b5e-3d299e4efa22",
   "metadata": {},
   "outputs": [],
   "source": [
    "with open(\"foo.txt\",\"w\")as f:\n",
    "    f.write(\"Life is too short, you need python\")"
   ]
  },
  {
   "cell_type": "code",
   "execution_count": 36,
   "id": "5db3a556-adeb-4d44-8196-2a98f679ebd9",
   "metadata": {},
   "outputs": [],
   "source": [
    "# 파일을 열면 항상 닫아 줘야 한다. 이것을 자동으로 처리 할수있다면? with 문의 역할이다.\n"
   ]
  },
  {
   "cell_type": "markdown",
   "id": "e7a935d1-2103-46e4-bb4f-b4ec6cc20336",
   "metadata": {},
   "source": [
    "# 3. 프로그램 입출력"
   ]
  },
  {
   "cell_type": "code",
   "execution_count": null,
   "id": "aa79db3b-7789-4581-a947-ffd3b35b1d54",
   "metadata": {},
   "outputs": [],
   "source": []
  }
 ],
 "metadata": {
  "kernelspec": {
   "display_name": "Python [conda env:base] *",
   "language": "python",
   "name": "conda-base-py"
  },
  "language_info": {
   "codemirror_mode": {
    "name": "ipython",
    "version": 3
   },
   "file_extension": ".py",
   "mimetype": "text/x-python",
   "name": "python",
   "nbconvert_exporter": "python",
   "pygments_lexer": "ipython3",
   "version": "3.13.5"
  },
  "widgets": {
   "application/vnd.jupyter.widget-state+json": {
    "state": {},
    "version_major": 2,
    "version_minor": 0
   }
  }
 },
 "nbformat": 4,
 "nbformat_minor": 5
}
