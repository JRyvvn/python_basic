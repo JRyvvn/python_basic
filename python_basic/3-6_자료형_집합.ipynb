{
 "cells": [
  {
   "cell_type": "markdown",
   "id": "0e60a599-c432-453d-8409-db9b0209fd17",
   "metadata": {},
   "source": [
    "## 1. 집합은 어떻게 만들까요?"
   ]
  },
  {
   "cell_type": "code",
   "execution_count": 2,
   "id": "585d30ca-f7b2-4f3a-a1d2-d3dd4580b79a",
   "metadata": {},
   "outputs": [
    {
     "data": {
      "text/plain": [
       "{1, 2, 3}"
      ]
     },
     "execution_count": 2,
     "metadata": {},
     "output_type": "execute_result"
    }
   ],
   "source": [
    "s1=set([1,2,3])\n",
    "s1"
   ]
  },
  {
   "cell_type": "code",
   "execution_count": 3,
   "id": "cfbedae6-90a6-4fed-83ac-6f98978e8c1d",
   "metadata": {},
   "outputs": [
    {
     "data": {
      "text/plain": [
       "set"
      ]
     },
     "execution_count": 3,
     "metadata": {},
     "output_type": "execute_result"
    }
   ],
   "source": [
    "type(s1)"
   ]
  },
  {
   "cell_type": "code",
   "execution_count": 4,
   "id": "163c3ebe-238a-43ab-ae32-54aafe11c4fd",
   "metadata": {},
   "outputs": [
    {
     "data": {
      "text/plain": [
       "{'H', 'e', 'l', 'o'}"
      ]
     },
     "execution_count": 4,
     "metadata": {},
     "output_type": "execute_result"
    }
   ],
   "source": [
    "s2= set('Hello')\n",
    "s2"
   ]
  },
  {
   "cell_type": "code",
   "execution_count": 5,
   "id": "c1c08c73-9008-4be8-ad95-a5a8665517fd",
   "metadata": {},
   "outputs": [],
   "source": [
    "s=set()"
   ]
  },
  {
   "cell_type": "code",
   "execution_count": 6,
   "id": "719c485a-138e-4801-9da6-ddc6b84cac55",
   "metadata": {},
   "outputs": [
    {
     "data": {
      "text/plain": [
       "set()"
      ]
     },
     "execution_count": 6,
     "metadata": {},
     "output_type": "execute_result"
    }
   ],
   "source": [
    "s"
   ]
  },
  {
   "cell_type": "code",
   "execution_count": 7,
   "id": "eaec54ea-6da8-4258-93cd-0d13300be015",
   "metadata": {},
   "outputs": [],
   "source": [
    "# 데이터가 중복을 허용하지 않는다\n",
    "# 순서가 없다."
   ]
  },
  {
   "cell_type": "code",
   "execution_count": 8,
   "id": "007cea36-cd0c-48ba-9663-2fa1df67165e",
   "metadata": {},
   "outputs": [],
   "source": [
    "# set은 중복을 허용하지 않는 특징때문에 데이터의 중복을 제거하기 위한 필터로 많이 사용된다."
   ]
  },
  {
   "cell_type": "code",
   "execution_count": null,
   "id": "979f76e8-d015-4688-b603-4ad0bb89057e",
   "metadata": {},
   "outputs": [],
   "source": []
  },
  {
   "cell_type": "code",
   "execution_count": 9,
   "id": "fac862f3-69f2-48c4-9aca-9770ed176598",
   "metadata": {},
   "outputs": [],
   "source": [
    "#예제"
   ]
  },
  {
   "cell_type": "code",
   "execution_count": 10,
   "id": "654fcbe0-b54a-4f86-9031-49fb70b18df0",
   "metadata": {},
   "outputs": [
    {
     "data": {
      "text/plain": [
       "{1, 2, 3}"
      ]
     },
     "execution_count": 10,
     "metadata": {},
     "output_type": "execute_result"
    }
   ],
   "source": [
    "s1"
   ]
  },
  {
   "cell_type": "code",
   "execution_count": 12,
   "id": "55fa7ba1-40b2-49bb-8b35-3f6e3c1f822c",
   "metadata": {},
   "outputs": [],
   "source": [
    "l1=list(s1)"
   ]
  },
  {
   "cell_type": "markdown",
   "id": "5f84df33-ba1f-4791-b8f9-6f10d0c29b8f",
   "metadata": {},
   "source": [
    "l1"
   ]
  },
  {
   "cell_type": "code",
   "execution_count": 13,
   "id": "4bebd562-24cf-4acb-92ae-67b92c83bb1c",
   "metadata": {},
   "outputs": [
    {
     "data": {
      "text/plain": [
       "[1, 2, 3]"
      ]
     },
     "execution_count": 13,
     "metadata": {},
     "output_type": "execute_result"
    }
   ],
   "source": [
    "l1"
   ]
  },
  {
   "cell_type": "code",
   "execution_count": 14,
   "id": "c9401983-1c85-4833-8387-c46634b2bf81",
   "metadata": {},
   "outputs": [
    {
     "data": {
      "text/plain": [
       "list"
      ]
     },
     "execution_count": 14,
     "metadata": {},
     "output_type": "execute_result"
    }
   ],
   "source": [
    "type(l1)\n"
   ]
  },
  {
   "cell_type": "code",
   "execution_count": 15,
   "id": "7e005e2a-0b6d-4a6b-b9b2-7b969de8de82",
   "metadata": {},
   "outputs": [
    {
     "data": {
      "text/plain": [
       "2"
      ]
     },
     "execution_count": 15,
     "metadata": {},
     "output_type": "execute_result"
    }
   ],
   "source": [
    "l1[1]"
   ]
  },
  {
   "cell_type": "code",
   "execution_count": 16,
   "id": "aaddc44a-a496-4854-94af-758755b32461",
   "metadata": {},
   "outputs": [
    {
     "data": {
      "text/plain": [
       "(1, 2, 3)"
      ]
     },
     "execution_count": 16,
     "metadata": {},
     "output_type": "execute_result"
    }
   ],
   "source": [
    "t1=tuple(s1)\n",
    "t1"
   ]
  },
  {
   "cell_type": "code",
   "execution_count": 17,
   "id": "8b4d57cf-e424-4585-b20b-2ded0f27b4a8",
   "metadata": {},
   "outputs": [
    {
     "name": "stdout",
     "output_type": "stream",
     "text": [
      "(1, 2, 3)\n"
     ]
    }
   ],
   "source": [
    "print(t1)"
   ]
  },
  {
   "cell_type": "code",
   "execution_count": 18,
   "id": "8bb45167-1f54-4151-bc7a-1369a053dc7b",
   "metadata": {},
   "outputs": [
    {
     "name": "stdout",
     "output_type": "stream",
     "text": [
      "<class 'tuple'>\n"
     ]
    }
   ],
   "source": [
    "print(type(t1))"
   ]
  },
  {
   "cell_type": "code",
   "execution_count": 19,
   "id": "492992e8-fd68-4714-a6ba-e9f7ab156885",
   "metadata": {},
   "outputs": [
    {
     "ename": "TypeError",
     "evalue": "'set' object is not subscriptable",
     "output_type": "error",
     "traceback": [
      "\u001b[0;31m---------------------------------------------------------------------------\u001b[0m",
      "\u001b[0;31mTypeError\u001b[0m                                 Traceback (most recent call last)",
      "Cell \u001b[0;32mIn[19], line 1\u001b[0m\n\u001b[0;32m----> 1\u001b[0m s1[\u001b[38;5;241m0\u001b[39m]\n",
      "\u001b[0;31mTypeError\u001b[0m: 'set' object is not subscriptable"
     ]
    }
   ],
   "source": [
    "s1[0]"
   ]
  },
  {
   "cell_type": "markdown",
   "id": "247fff09-66ad-442b-8ffc-eb520b17a870",
   "metadata": {},
   "source": [
    "# 교집합, 합집합, 차집합 구하기"
   ]
  },
  {
   "cell_type": "code",
   "execution_count": 20,
   "id": "b83fbf30-962c-4803-b328-5d223d75ebd4",
   "metadata": {},
   "outputs": [],
   "source": [
    "s1=set([1,2,3,4,5,6])\n",
    "s2=set([4,5,6,7,8,9])\n"
   ]
  },
  {
   "cell_type": "code",
   "execution_count": 22,
   "id": "1cff7bc9-0075-4db7-9b24-3ec3b4b32c36",
   "metadata": {},
   "outputs": [],
   "source": [
    "# 교집합 '&'"
   ]
  },
  {
   "cell_type": "code",
   "execution_count": 23,
   "id": "a54a0444-9c6e-4d8a-a1db-90dd137e29df",
   "metadata": {},
   "outputs": [
    {
     "data": {
      "text/plain": [
       "{4, 5, 6}"
      ]
     },
     "execution_count": 23,
     "metadata": {},
     "output_type": "execute_result"
    }
   ],
   "source": [
    "s1&s2"
   ]
  },
  {
   "cell_type": "code",
   "execution_count": 24,
   "id": "2ffa09ee-a97a-4ad8-8ead-7e28a59bcb0c",
   "metadata": {},
   "outputs": [
    {
     "data": {
      "text/plain": [
       "{4, 5, 6}"
      ]
     },
     "execution_count": 24,
     "metadata": {},
     "output_type": "execute_result"
    }
   ],
   "source": [
    "#교집합 :  intersection()\n",
    "s1.intersection(s2)\n"
   ]
  },
  {
   "cell_type": "code",
   "execution_count": 25,
   "id": "4e4f1df5-71c1-42f0-be2b-a1ff179c091a",
   "metadata": {},
   "outputs": [
    {
     "data": {
      "text/plain": [
       "{1, 2, 3, 4, 5, 6, 7, 8, 9}"
      ]
     },
     "execution_count": 25,
     "metadata": {},
     "output_type": "execute_result"
    }
   ],
   "source": [
    "# 합집합 |\n",
    "s1 | s2"
   ]
  },
  {
   "cell_type": "code",
   "execution_count": 26,
   "id": "25541b6a-feb5-4e77-b072-ba95a5901969",
   "metadata": {},
   "outputs": [],
   "source": [
    "# 합집합 함수 : union()"
   ]
  },
  {
   "cell_type": "code",
   "execution_count": 27,
   "id": "4cb19b78-151a-483b-8fb7-a3957bea071f",
   "metadata": {},
   "outputs": [
    {
     "data": {
      "text/plain": [
       "{1, 2, 3, 4, 5, 6, 7, 8, 9}"
      ]
     },
     "execution_count": 27,
     "metadata": {},
     "output_type": "execute_result"
    }
   ],
   "source": [
    "s1.union(s2)"
   ]
  },
  {
   "cell_type": "code",
   "execution_count": 28,
   "id": "17b34342-6f3b-4c54-967e-43998aeeda8c",
   "metadata": {},
   "outputs": [
    {
     "data": {
      "text/plain": [
       "{1, 2, 3}"
      ]
     },
     "execution_count": 28,
     "metadata": {},
     "output_type": "execute_result"
    }
   ],
   "source": [
    "# 차집합 -\n",
    "s1-s2"
   ]
  },
  {
   "cell_type": "code",
   "execution_count": 29,
   "id": "05954735-2d0f-4f71-a3e0-f1778e9532e2",
   "metadata": {},
   "outputs": [
    {
     "name": "stdout",
     "output_type": "stream",
     "text": [
      "{1, 2, 3}\n",
      "{8, 9, 7}\n"
     ]
    }
   ],
   "source": [
    "print(s1-s2)\n",
    "print(s2-s1)"
   ]
  },
  {
   "cell_type": "code",
   "execution_count": 30,
   "id": "5b6a8d4e-c084-49f8-a88a-788f888a8bbe",
   "metadata": {},
   "outputs": [
    {
     "name": "stdout",
     "output_type": "stream",
     "text": [
      "{1, 2, 3}\n",
      "{8, 9, 7}\n"
     ]
    }
   ],
   "source": [
    "# 차집합 함수 : difference()\n",
    "print(s1.difference(s2))\n",
    "print(s2.difference(s1))"
   ]
  },
  {
   "cell_type": "markdown",
   "id": "0bb9d080-a71b-4774-a43b-17e4cd79cbef",
   "metadata": {},
   "source": [
    "### 4. 집합 자료형 관련 함수"
   ]
  },
  {
   "cell_type": "code",
   "execution_count": 31,
   "id": "bd702c9c-a6cf-421d-b18d-29cac680138d",
   "metadata": {},
   "outputs": [],
   "source": [
    "# add() 추가, 더하는것, 값 1개 추가\n",
    "s1=set([1,2,3])"
   ]
  },
  {
   "cell_type": "code",
   "execution_count": 32,
   "id": "be3a1c19-08c0-481b-9661-4cfae2a2574a",
   "metadata": {},
   "outputs": [
    {
     "data": {
      "text/plain": [
       "{1, 2, 3}"
      ]
     },
     "execution_count": 32,
     "metadata": {},
     "output_type": "execute_result"
    }
   ],
   "source": [
    "s1"
   ]
  },
  {
   "cell_type": "code",
   "execution_count": 33,
   "id": "447d66bc-99d2-4fe2-87a6-9dad5b1d522c",
   "metadata": {},
   "outputs": [],
   "source": [
    "s1.add(4)"
   ]
  },
  {
   "cell_type": "code",
   "execution_count": 34,
   "id": "2d1b4f94-74a5-43b2-af7e-8fe91e5f0ce1",
   "metadata": {},
   "outputs": [
    {
     "data": {
      "text/plain": [
       "{1, 2, 3, 4}"
      ]
     },
     "execution_count": 34,
     "metadata": {},
     "output_type": "execute_result"
    }
   ],
   "source": [
    "s1"
   ]
  },
  {
   "cell_type": "code",
   "execution_count": 35,
   "id": "6bd7f5c1-1038-4b7f-b00e-cf37ec2cbd1c",
   "metadata": {},
   "outputs": [
    {
     "data": {
      "text/plain": [
       "{1, 2, 3, 4, 5, 6}"
      ]
     },
     "execution_count": 35,
     "metadata": {},
     "output_type": "execute_result"
    }
   ],
   "source": [
    "# update() 값 여러개 추가\n",
    "s1.update([4,5,6])\n",
    "s1"
   ]
  },
  {
   "cell_type": "code",
   "execution_count": 36,
   "id": "5f51e323-55c3-4f1e-a343-dce4e9d53278",
   "metadata": {},
   "outputs": [
    {
     "ename": "NameError",
     "evalue": "name 'remove' is not defined",
     "output_type": "error",
     "traceback": [
      "\u001b[0;31m---------------------------------------------------------------------------\u001b[0m",
      "\u001b[0;31mNameError\u001b[0m                                 Traceback (most recent call last)",
      "Cell \u001b[0;32mIn[36], line 2\u001b[0m\n\u001b[1;32m      1\u001b[0m \u001b[38;5;66;03m# 특정한 값을 제거하기\u001b[39;00m\n\u001b[0;32m----> 2\u001b[0m remove()\n\u001b[1;32m      4\u001b[0m s1\u001b[38;5;241m.\u001b[39mremove(\u001b[38;5;241m3\u001b[39m)\n",
      "\u001b[0;31mNameError\u001b[0m: name 'remove' is not defined"
     ]
    }
   ],
   "source": [
    "# 특정한 값을 제거하기\n",
    "remove()\n",
    "\n",
    "s1.remove(3)"
   ]
  },
  {
   "cell_type": "code",
   "execution_count": 37,
   "id": "b1613691-e4b9-4100-aa32-d5cc3350b817",
   "metadata": {},
   "outputs": [
    {
     "data": {
      "text/plain": [
       "{1, 2, 3, 4, 5, 6}"
      ]
     },
     "execution_count": 37,
     "metadata": {},
     "output_type": "execute_result"
    }
   ],
   "source": [
    "s1"
   ]
  },
  {
   "cell_type": "code",
   "execution_count": 38,
   "id": "e59a4c0b-4219-47aa-b0be-2c541eca2fe2",
   "metadata": {},
   "outputs": [
    {
     "data": {
      "text/plain": [
       "{1, 2, 4, 5, 6}"
      ]
     },
     "execution_count": 38,
     "metadata": {},
     "output_type": "execute_result"
    }
   ],
   "source": [
    "s1.remove(3)\n",
    "s1"
   ]
  },
  {
   "cell_type": "code",
   "execution_count": null,
   "id": "c4f0cd1c-7068-406d-af4d-2fc424d063ee",
   "metadata": {},
   "outputs": [],
   "source": []
  }
 ],
 "metadata": {
  "kernelspec": {
   "display_name": "Python [conda env:base] *",
   "language": "python",
   "name": "conda-base-py"
  },
  "language_info": {
   "codemirror_mode": {
    "name": "ipython",
    "version": 3
   },
   "file_extension": ".py",
   "mimetype": "text/x-python",
   "name": "python",
   "nbconvert_exporter": "python",
   "pygments_lexer": "ipython3",
   "version": "3.13.5"
  }
 },
 "nbformat": 4,
 "nbformat_minor": 5
}
