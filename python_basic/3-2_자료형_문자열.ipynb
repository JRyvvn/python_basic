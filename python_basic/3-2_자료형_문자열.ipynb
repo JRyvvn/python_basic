{
 "cells": [
  {
   "cell_type": "markdown",
   "id": "958be10b-7d2c-4c3e-848a-ccbaab11cbfa",
   "metadata": {},
   "source": [
    "## 3-2_자료형_문자열"
   ]
  },
  {
   "cell_type": "code",
   "execution_count": 1,
   "id": "f3cfe381-280c-43af-a11d-28328d617552",
   "metadata": {},
   "outputs": [
    {
     "name": "stdout",
     "output_type": "stream",
     "text": [
      "python's favorite food is perl\n",
      "<class 'str'>\n"
     ]
    }
   ],
   "source": [
    "food=\"python's favorite food is perl\"\n",
    "print(food)\n",
    "print(type(food))"
   ]
  },
  {
   "cell_type": "code",
   "execution_count": 2,
   "id": "310a7d93-4844-45db-a275-e10582605538",
   "metadata": {},
   "outputs": [
    {
     "ename": "SyntaxError",
     "evalue": "unterminated string literal (detected at line 1); perhaps you escaped the end quote? (3855060767.py, line 1)",
     "output_type": "error",
     "traceback": [
      "\u001b[0;36m  Cell \u001b[0;32mIn[2], line 1\u001b[0;36m\u001b[0m\n\u001b[0;31m    food='python\\'s favorite food is perl\"\u001b[0m\n\u001b[0m         ^\u001b[0m\n\u001b[0;31mSyntaxError\u001b[0m\u001b[0;31m:\u001b[0m unterminated string literal (detected at line 1); perhaps you escaped the end quote?\n"
     ]
    }
   ],
   "source": [
    "food='python\\'s favorite food is perl\"\n",
    "print(food)\n",
    "print(type(food))"
   ]
  },
  {
   "cell_type": "code",
   "execution_count": null,
   "id": "4fd4f310-8c59-4882-8bfe-646371684019",
   "metadata": {},
   "outputs": [],
   "source": [
    "say='\"python is vert easy.' he says.''"
   ]
  },
  {
   "cell_type": "code",
   "execution_count": null,
   "id": "de0d8530-8ea6-469d-a8ba-bca889aa74cc",
   "metadata": {},
   "outputs": [],
   "source": [
    "say = '\"python is very easy.\" he says.'\n",
    "say\n"
   ]
  },
  {
   "cell_type": "code",
   "execution_count": null,
   "id": "464320c7-e416-450e-b653-81cb71a0ded8",
   "metadata": {},
   "outputs": [],
   "source": [
    "say = \"\\\"python is very easy.\\\" he says.\"\n",
    "say"
   ]
  },
  {
   "cell_type": "markdown",
   "id": "98f8827e-2c32-426f-83a6-c80ad8c02699",
   "metadata": {},
   "source": [
    "### 여러줄 문자열\n"
   ]
  },
  {
   "cell_type": "code",
   "execution_count": null,
   "id": "260d96c0-e05f-4703-bb51-7ae582f65601",
   "metadata": {},
   "outputs": [],
   "source": [
    "multiline = \"Life is too short\\n You need python\"\n",
    "print(multiline)\n"
   ]
  },
  {
   "cell_type": "code",
   "execution_count": null,
   "id": "78b93af6-15d7-4e36-b95b-40829c03b092",
   "metadata": {},
   "outputs": [],
   "source": [
    "multiline = \"\"\"\n",
    "Life is too short\n",
    "You need python\n",
    "\"\"\"\n",
    "print(multiline)"
   ]
  },
  {
   "cell_type": "code",
   "execution_count": null,
   "id": "018716b2-5f63-4b8b-b1bc-4b3089397d12",
   "metadata": {},
   "outputs": [],
   "source": [
    "multiline = '''\n",
    "Life is too short\n",
    "You need python'''\n",
    "print(multiline)\n"
   ]
  },
  {
   "cell_type": "markdown",
   "id": "c02c571d-fc20-4971-b86f-865ed1e09a32",
   "metadata": {},
   "source": [
    "### 문자열 연산\n"
   ]
  },
  {
   "cell_type": "code",
   "execution_count": null,
   "id": "94ae9260-280f-4f14-b2e2-8203e352d86d",
   "metadata": {},
   "outputs": [],
   "source": [
    "head = \"python\" \n",
    "tail = \" is fun!\"\n",
    "head + tail\n"
   ]
  },
  {
   "cell_type": "code",
   "execution_count": null,
   "id": "45a505a2-a80e-4519-b7f0-39efd0074720",
   "metadata": {},
   "outputs": [],
   "source": [
    "a = \"python \"\n",
    "print(a*2)\n",
    "print(a*3)"
   ]
  },
  {
   "cell_type": "code",
   "execution_count": null,
   "id": "c5498dd2-723c-4581-9b3e-6e9d9e182e6b",
   "metadata": {},
   "outputs": [],
   "source": [
    "print('='*50)\n",
    "print('python')\n",
    "print('+'*50)"
   ]
  },
  {
   "cell_type": "markdown",
   "id": "70c9e297-75b4-44a2-a94d-e510b34027f2",
   "metadata": {},
   "source": [
    "### 문자열 길이 구하기\n"
   ]
  },
  {
   "cell_type": "code",
   "execution_count": null,
   "id": "0882ccf3-bbac-4550-ad36-00794ec0f1a4",
   "metadata": {},
   "outputs": [],
   "source": [
    "a = \"Life is too short\"\n",
    "len(a)\n"
   ]
  },
  {
   "cell_type": "code",
   "execution_count": null,
   "id": "563a720b-b843-4c52-b3dd-464313fc6889",
   "metadata": {},
   "outputs": [],
   "source": [
    "a = \"Life is too short, You need Pythhon\""
   ]
  },
  {
   "cell_type": "code",
   "execution_count": null,
   "id": "673b4438-6693-4106-8bc2-18c0ad4714e9",
   "metadata": {},
   "outputs": [],
   "source": [
    "len(a)"
   ]
  },
  {
   "cell_type": "markdown",
   "id": "63b47680-5db2-40b0-a93b-de1f783ca2b6",
   "metadata": {},
   "source": [
    "### 문자열 인덱싱\n"
   ]
  },
  {
   "cell_type": "code",
   "execution_count": null,
   "id": "46b4daeb-307f-4951-af04-d64f498d26ce",
   "metadata": {},
   "outputs": [],
   "source": [
    "a = \"live is too short, You need Python\"\n",
    "a[3]"
   ]
  },
  {
   "cell_type": "code",
   "execution_count": null,
   "id": "ca6198b1-fca7-42dc-9e83-64d17c991aba",
   "metadata": {},
   "outputs": [],
   "source": [
    "a = \"Life is too short, You need Pythhon\"\n",
    "a[0]\n",
    "\n"
   ]
  },
  {
   "cell_type": "markdown",
   "id": "5dfc8aba-31d4-42d8-838f-8480b94a01c1",
   "metadata": {},
   "source": [
    "### 문자열 슬라이싱\n"
   ]
  },
  {
   "cell_type": "code",
   "execution_count": null,
   "id": "5f58b6f1-f0af-4b42-9871-9b8e9c8d11e3",
   "metadata": {},
   "outputs": [],
   "source": [
    "b=a[0] + a[1] + a[2] +a[3]\n",
    "print(b)\n"
   ]
  },
  {
   "cell_type": "code",
   "execution_count": null,
   "id": "09deb5e7-65a7-46b8-a0b0-42885f9b9077",
   "metadata": {},
   "outputs": [],
   "source": [
    "a[0:5]  # 끝번호 포함하지 않는다"
   ]
  },
  {
   "cell_type": "code",
   "execution_count": null,
   "id": "8cb7d279-f4bb-43f1-bf30-6176f00314f8",
   "metadata": {},
   "outputs": [],
   "source": [
    "# 문자열에서 short 문자 슬라이싱\n",
    "a[12:17]\n"
   ]
  },
  {
   "cell_type": "code",
   "execution_count": null,
   "id": "d59a50e6-595c-4327-9aaa-b7810b29d843",
   "metadata": {},
   "outputs": [],
   "source": [
    "a[28:-0]"
   ]
  },
  {
   "cell_type": "markdown",
   "id": "08c6994a-3291-4ce3-9e0e-2d0b00da8447",
   "metadata": {},
   "source": [
    "## 문자열 교체 h1\n"
   ]
  },
  {
   "cell_type": "code",
   "execution_count": null,
   "id": "71c6b007-8c67-4dbb-8130-c74aebbdbd8a",
   "metadata": {},
   "outputs": [],
   "source": [
    "a='pithon'\n",
    "a[:1]"
   ]
  },
  {
   "cell_type": "code",
   "execution_count": null,
   "id": "34bbbd6a-216d-4725-af74-5b3e7bc60ba4",
   "metadata": {},
   "outputs": [],
   "source": [
    "a='pithon'\n",
    "a[1]"
   ]
  },
  {
   "cell_type": "code",
   "execution_count": null,
   "id": "40392e74-8153-4a69-a654-3cd494b8f68c",
   "metadata": {},
   "outputs": [],
   "source": [
    "a[1]='y'"
   ]
  },
  {
   "cell_type": "code",
   "execution_count": null,
   "id": "c3b9c82e-6881-4c4e-9e22-07e1934839b6",
   "metadata": {},
   "outputs": [],
   "source": [
    "b='abc'\n",
    "b='def'\n",
    "print(b)\n"
   ]
  },
  {
   "cell_type": "code",
   "execution_count": null,
   "id": "7edd4314-e9a9-46ba-b3ed-0b61d8b1e51e",
   "metadata": {},
   "outputs": [],
   "source": [
    "print(a)\n"
   ]
  },
  {
   "cell_type": "code",
   "execution_count": null,
   "id": "35a5aee6-f3a5-459b-9218-db77d4f4c82e",
   "metadata": {},
   "outputs": [],
   "source": [
    "b=a[0]+'y'+a[2:]\n",
    "print(b)\n"
   ]
  },
  {
   "cell_type": "markdown",
   "id": "21ca7d4e-b85a-446f-83e0-dfeb311c4146",
   "metadata": {},
   "source": [
    "## 문자열 포매팅 h1\n"
   ]
  },
  {
   "cell_type": "code",
   "execution_count": null,
   "id": "a9a9f6b6-105d-4b66-a6f6-bb1f54b0df16",
   "metadata": {},
   "outputs": [],
   "source": [
    "\"I eat %d apples.\"%8\n"
   ]
  },
  {
   "cell_type": "code",
   "execution_count": null,
   "id": "4d12d601-3437-4f0d-a292-5c6c76fd70fd",
   "metadata": {},
   "outputs": [],
   "source": [
    "\"I eat %d apples.\"%abc"
   ]
  },
  {
   "cell_type": "code",
   "execution_count": null,
   "id": "b80b6b63-9e69-45d5-ba6f-6018f3f3befb",
   "metadata": {},
   "outputs": [],
   "source": []
  },
  {
   "cell_type": "code",
   "execution_count": 3,
   "id": "cee7b59b-6e60-419a-a245-23cbadedbb1b",
   "metadata": {},
   "outputs": [
    {
     "ename": "TypeError",
     "evalue": "%d format: a real number is required, not str",
     "output_type": "error",
     "traceback": [
      "\u001b[0;31m---------------------------------------------------------------------------\u001b[0m",
      "\u001b[0;31mTypeError\u001b[0m                                 Traceback (most recent call last)",
      "Cell \u001b[0;32mIn[3], line 1\u001b[0m\n\u001b[0;32m----> 1\u001b[0m \u001b[38;5;124m\"\u001b[39m\u001b[38;5;124mI eat \u001b[39m\u001b[38;5;132;01m%d\u001b[39;00m\u001b[38;5;124m apples.\u001b[39m\u001b[38;5;124m\"\u001b[39m\u001b[38;5;241m%\u001b[39m\u001b[38;5;124m\"\u001b[39m\u001b[38;5;124mabc\u001b[39m\u001b[38;5;124m\"\u001b[39m\n",
      "\u001b[0;31mTypeError\u001b[0m: %d format: a real number is required, not str"
     ]
    }
   ],
   "source": [
    "\"I eat %d apples.\"%\"abc\""
   ]
  },
  {
   "cell_type": "code",
   "execution_count": 4,
   "id": "63940f08-ed60-4243-b88b-7363a19786be",
   "metadata": {},
   "outputs": [
    {
     "ename": "TypeError",
     "evalue": "%d format: a real number is required, not str",
     "output_type": "error",
     "traceback": [
      "\u001b[0;31m---------------------------------------------------------------------------\u001b[0m",
      "\u001b[0;31mTypeError\u001b[0m                                 Traceback (most recent call last)",
      "Cell \u001b[0;32mIn[4], line 1\u001b[0m\n\u001b[0;32m----> 1\u001b[0m \u001b[38;5;124m\"\u001b[39m\u001b[38;5;124mI eat \u001b[39m\u001b[38;5;132;01m%d\u001b[39;00m\u001b[38;5;124m apples.\u001b[39m\u001b[38;5;124m\"\u001b[39m\u001b[38;5;241m%\u001b[39m\u001b[38;5;124m\"\u001b[39m\u001b[38;5;124mabc\u001b[39m\u001b[38;5;124m\"\u001b[39m\n",
      "\u001b[0;31mTypeError\u001b[0m: %d format: a real number is required, not str"
     ]
    }
   ],
   "source": [
    "\"I eat %d apples.\"%\"abc\""
   ]
  },
  {
   "cell_type": "code",
   "execution_count": 5,
   "id": "8cfed852-e4fb-46e4-8332-15ae9b3c4e7f",
   "metadata": {},
   "outputs": [
    {
     "ename": "SyntaxError",
     "evalue": "unterminated string literal (detected at line 1) (2311125376.py, line 1)",
     "output_type": "error",
     "traceback": [
      "\u001b[0;36m  Cell \u001b[0;32mIn[5], line 1\u001b[0;36m\u001b[0m\n\u001b[0;31m    \"I eat %s apples.\"%\"abc\u001b[0m\n\u001b[0m                       ^\u001b[0m\n\u001b[0;31mSyntaxError\u001b[0m\u001b[0;31m:\u001b[0m unterminated string literal (detected at line 1)\n"
     ]
    }
   ],
   "source": [
    "\"I eat %s apples.\"%\"abc\n",
    "\""
   ]
  },
  {
   "cell_type": "code",
   "execution_count": 6,
   "id": "57e37444-dee6-4680-875b-ff589afa33e3",
   "metadata": {},
   "outputs": [
    {
     "data": {
      "text/plain": [
       "'I eat abc apples.'"
      ]
     },
     "execution_count": 6,
     "metadata": {},
     "output_type": "execute_result"
    }
   ],
   "source": [
    "\"I eat %s apples.\"%\"abc\""
   ]
  },
  {
   "cell_type": "code",
   "execution_count": 7,
   "id": "1ebaed24-c2d6-445b-9a05-11860c9e3886",
   "metadata": {},
   "outputs": [],
   "source": [
    "number=3"
   ]
  },
  {
   "cell_type": "code",
   "execution_count": 8,
   "id": "374512c5-db67-4878-8eba-2b6d6f576438",
   "metadata": {},
   "outputs": [
    {
     "data": {
      "text/plain": [
       "'I eat 3 apples.'"
      ]
     },
     "execution_count": 8,
     "metadata": {},
     "output_type": "execute_result"
    }
   ],
   "source": [
    "\"I eat %d apples.\"%number\n"
   ]
  },
  {
   "cell_type": "code",
   "execution_count": 10,
   "id": "d28563d2-e615-45cb-97da-3dde6fc25f47",
   "metadata": {},
   "outputs": [
    {
     "data": {
      "text/plain": [
       "'I ate 10 apples, so I was sick for three days.'"
      ]
     },
     "execution_count": 10,
     "metadata": {},
     "output_type": "execute_result"
    }
   ],
   "source": [
    "number=10\n",
    "day=\"three\"\n",
    "\"I ate %d apples, so I was sick for %s days.\"%(number,day)"
   ]
  },
  {
   "cell_type": "markdown",
   "id": "e0205b16-2907-4e42-a686-71e07ae4241e",
   "metadata": {},
   "source": [
    "## 포맷코드와 문자%를 같이 사용\n",
    "\"Error is %d.\"%98"
   ]
  },
  {
   "cell_type": "code",
   "execution_count": 11,
   "id": "7cec3794-bc30-4e84-b20e-0eafac7cf56f",
   "metadata": {},
   "outputs": [
    {
     "data": {
      "text/plain": [
       "'Error is 98.'"
      ]
     },
     "execution_count": 11,
     "metadata": {},
     "output_type": "execute_result"
    }
   ],
   "source": [
    "\"Error is %d.\"%98\n"
   ]
  },
  {
   "cell_type": "code",
   "execution_count": 12,
   "id": "30099024-7878-4a18-bf48-8db26c93088e",
   "metadata": {},
   "outputs": [
    {
     "ename": "SyntaxError",
     "evalue": "invalid syntax (2151068569.py, line 1)",
     "output_type": "error",
     "traceback": [
      "\u001b[0;36m  Cell \u001b[0;32mIn[12], line 1\u001b[0;36m\u001b[0m\n\u001b[0;31m    \"Error is %d.\"%%98\u001b[0m\n\u001b[0m                   ^\u001b[0m\n\u001b[0;31mSyntaxError\u001b[0m\u001b[0;31m:\u001b[0m invalid syntax\n"
     ]
    }
   ],
   "source": [
    "\"Error is %d.\"%%98"
   ]
  },
  {
   "cell_type": "code",
   "execution_count": 13,
   "id": "e97d1d7f-b96b-4177-9559-94cade632ea9",
   "metadata": {},
   "outputs": [
    {
     "ename": "TypeError",
     "evalue": "not all arguments converted during string formatting",
     "output_type": "error",
     "traceback": [
      "\u001b[0;31m---------------------------------------------------------------------------\u001b[0m",
      "\u001b[0;31mTypeError\u001b[0m                                 Traceback (most recent call last)",
      "Cell \u001b[0;32mIn[13], line 1\u001b[0m\n\u001b[0;32m----> 1\u001b[0m \u001b[38;5;124m\"\u001b[39m\u001b[38;5;124mError is \u001b[39m\u001b[38;5;132;01m%%\u001b[39;00m\u001b[38;5;124md.\u001b[39m\u001b[38;5;124m\"\u001b[39m\u001b[38;5;241m%\u001b[39m\u001b[38;5;241m98\u001b[39m\n",
      "\u001b[0;31mTypeError\u001b[0m: not all arguments converted during string formatting"
     ]
    }
   ],
   "source": [
    "\"Error is %%d.\"%98"
   ]
  },
  {
   "cell_type": "code",
   "execution_count": 14,
   "id": "593c6040-040f-4d0a-a64b-4cdb5d71f61e",
   "metadata": {},
   "outputs": [
    {
     "data": {
      "text/plain": [
       "'Error is 98%.'"
      ]
     },
     "execution_count": 14,
     "metadata": {},
     "output_type": "execute_result"
    }
   ],
   "source": [
    "\"Error is %d%%.\"%98"
   ]
  },
  {
   "cell_type": "code",
   "execution_count": 16,
   "id": "11707b16-279f-41be-ba1f-122f6a5a2e3c",
   "metadata": {},
   "outputs": [],
   "source": [
    "a=\"%10s\"%\"hi\""
   ]
  },
  {
   "cell_type": "code",
   "execution_count": 17,
   "id": "46481ea9-3513-4283-8299-718f5ace9af6",
   "metadata": {},
   "outputs": [
    {
     "ename": "NameError",
     "evalue": "name 'A' is not defined",
     "output_type": "error",
     "traceback": [
      "\u001b[0;31m---------------------------------------------------------------------------\u001b[0m",
      "\u001b[0;31mNameError\u001b[0m                                 Traceback (most recent call last)",
      "Cell \u001b[0;32mIn[17], line 1\u001b[0m\n\u001b[0;32m----> 1\u001b[0m \u001b[38;5;28mprint\u001b[39m(A)\n",
      "\u001b[0;31mNameError\u001b[0m: name 'A' is not defined"
     ]
    }
   ],
   "source": [
    "print(A)\n"
   ]
  },
  {
   "cell_type": "code",
   "execution_count": 18,
   "id": "3a206d4a-e040-40b9-af12-3c0ef52a7ee5",
   "metadata": {},
   "outputs": [
    {
     "name": "stdout",
     "output_type": "stream",
     "text": [
      "        hi\n"
     ]
    }
   ],
   "source": [
    "print(a)\n"
   ]
  },
  {
   "cell_type": "code",
   "execution_count": 19,
   "id": "35088f87-489b-4170-9407-89e097977769",
   "metadata": {},
   "outputs": [
    {
     "data": {
      "text/plain": [
       "10"
      ]
     },
     "execution_count": 19,
     "metadata": {},
     "output_type": "execute_result"
    }
   ],
   "source": [
    "len(a)\n"
   ]
  },
  {
   "cell_type": "code",
   "execution_count": 20,
   "id": "b304e317-7211-44af-87b5-d0ec2c42692d",
   "metadata": {},
   "outputs": [],
   "source": [
    "a=\"%-10s\"%\"hi\""
   ]
  },
  {
   "cell_type": "code",
   "execution_count": 21,
   "id": "cd52e5d4-a325-4bc9-8d16-0fe56e1cc3d8",
   "metadata": {},
   "outputs": [
    {
     "name": "stdout",
     "output_type": "stream",
     "text": [
      "hi        \n"
     ]
    }
   ],
   "source": [
    "print(a)\n"
   ]
  },
  {
   "cell_type": "code",
   "execution_count": 22,
   "id": "de4f3498-810e-4ee5-92b5-29618333958a",
   "metadata": {},
   "outputs": [
    {
     "data": {
      "text/plain": [
       "'3.4325'"
      ]
     },
     "execution_count": 22,
     "metadata": {},
     "output_type": "execute_result"
    }
   ],
   "source": [
    "\"%0.4f\"%3.43245345"
   ]
  },
  {
   "cell_type": "code",
   "execution_count": 23,
   "id": "984f24fb-37c7-4c51-bb34-fd481f6dff20",
   "metadata": {},
   "outputs": [
    {
     "data": {
      "text/plain": [
       "'    3.4325'"
      ]
     },
     "execution_count": 23,
     "metadata": {},
     "output_type": "execute_result"
    }
   ],
   "source": [
    "\"%10.4f\"%3.43245345"
   ]
  },
  {
   "cell_type": "code",
   "execution_count": 24,
   "id": "218fb2e1-c5a4-4780-95e2-060d1adc58de",
   "metadata": {},
   "outputs": [
    {
     "data": {
      "text/plain": [
       "'    3.4325'"
      ]
     },
     "execution_count": 24,
     "metadata": {},
     "output_type": "execute_result"
    }
   ],
   "source": [
    "f=\"%10.4f\"%3.43245345\n",
    "f"
   ]
  },
  {
   "cell_type": "code",
   "execution_count": 25,
   "id": "969a8792-6bf6-4a03-bb76-4588e38bf257",
   "metadata": {},
   "outputs": [
    {
     "data": {
      "text/plain": [
       "10"
      ]
     },
     "execution_count": 25,
     "metadata": {},
     "output_type": "execute_result"
    }
   ],
   "source": [
    "len(f)"
   ]
  },
  {
   "cell_type": "code",
   "execution_count": 26,
   "id": "9b3eecf1-eebd-4f7b-876b-6b9477292011",
   "metadata": {},
   "outputs": [
    {
     "data": {
      "text/plain": [
       "'I eat 3 apples.'"
      ]
     },
     "execution_count": 26,
     "metadata": {},
     "output_type": "execute_result"
    }
   ],
   "source": [
    "\"I eat {} apples.\".format(3)"
   ]
  },
  {
   "cell_type": "code",
   "execution_count": 28,
   "id": "51dc207f-30d9-4dc4-80f9-3f60494ef444",
   "metadata": {},
   "outputs": [
    {
     "data": {
      "text/plain": [
       "'I eat five apples.'"
      ]
     },
     "execution_count": 28,
     "metadata": {},
     "output_type": "execute_result"
    }
   ],
   "source": [
    "\"I eat {} apples.\".format(\"five\")"
   ]
  },
  {
   "cell_type": "code",
   "execution_count": 29,
   "id": "3fd3fc9b-db18-444f-a11c-587fd63b2bd6",
   "metadata": {},
   "outputs": [
    {
     "data": {
      "text/plain": [
       "'I eat 3 apples.'"
      ]
     },
     "execution_count": 29,
     "metadata": {},
     "output_type": "execute_result"
    }
   ],
   "source": [
    "number=3\n",
    "\"I eat {} apples.\".format(number)"
   ]
  },
  {
   "cell_type": "code",
   "execution_count": 30,
   "id": "edd06e24-f357-459e-8016-957cb7027f09",
   "metadata": {},
   "outputs": [
    {
     "ename": "SyntaxError",
     "evalue": "invalid syntax (542076451.py, line 1)",
     "output_type": "error",
     "traceback": [
      "\u001b[0;36m  Cell \u001b[0;32mIn[30], line 1\u001b[0;36m\u001b[0m\n\u001b[0;31m    \"I ate {} apples, so I was sick for {} days.\"format(10, \"three\")\u001b[0m\n\u001b[0m                                                 ^\u001b[0m\n\u001b[0;31mSyntaxError\u001b[0m\u001b[0;31m:\u001b[0m invalid syntax\n"
     ]
    }
   ],
   "source": [
    "\"I ate {} apples, so I was sick for {} days.\"format(10, \"three\")"
   ]
  },
  {
   "cell_type": "code",
   "execution_count": 31,
   "id": "81c2b71f-8de2-4ea7-a3f1-6738a38a1867",
   "metadata": {},
   "outputs": [
    {
     "data": {
      "text/plain": [
       "'I ate 10 apples, so I was sick for three days.'"
      ]
     },
     "execution_count": 31,
     "metadata": {},
     "output_type": "execute_result"
    }
   ],
   "source": [
    "\"I ate {} apples, so I was sick for {} days.\".format(10, \"three\")"
   ]
  },
  {
   "cell_type": "code",
   "execution_count": 33,
   "id": "e2e3bbb4-3e10-4267-808f-f4c9b68491aa",
   "metadata": {},
   "outputs": [
    {
     "data": {
      "text/plain": [
       "'I ate three apples, so I was sick for 10 days.'"
      ]
     },
     "execution_count": 33,
     "metadata": {},
     "output_type": "execute_result"
    }
   ],
   "source": [
    "\"I ate {1} apples, so I was sick for {0} days.\".format(10, \"three\")"
   ]
  },
  {
   "cell_type": "code",
   "execution_count": 35,
   "id": "a05eaa2e-1c4d-425d-a000-c36c68c44d62",
   "metadata": {},
   "outputs": [
    {
     "ename": "KeyError",
     "evalue": "'number'",
     "output_type": "error",
     "traceback": [
      "\u001b[0;31m---------------------------------------------------------------------------\u001b[0m",
      "\u001b[0;31mKeyError\u001b[0m                                  Traceback (most recent call last)",
      "Cell \u001b[0;32mIn[35], line 3\u001b[0m\n\u001b[1;32m      1\u001b[0m number\u001b[38;5;241m=\u001b[39m\u001b[38;5;241m10\u001b[39m\n\u001b[1;32m      2\u001b[0m day\u001b[38;5;241m=\u001b[39m\u001b[38;5;241m3\u001b[39m\n\u001b[0;32m----> 3\u001b[0m \u001b[38;5;124m\"\u001b[39m\u001b[38;5;124mI ate \u001b[39m\u001b[38;5;132;01m{number}\u001b[39;00m\u001b[38;5;124m apples, so I was sick for \u001b[39m\u001b[38;5;132;01m{day}\u001b[39;00m\u001b[38;5;124m days.\u001b[39m\u001b[38;5;124m\"\u001b[39m\u001b[38;5;241m.\u001b[39mformat(number,day)\n",
      "\u001b[0;31mKeyError\u001b[0m: 'number'"
     ]
    }
   ],
   "source": [
    "number=10\n",
    "day=3\n",
    "\"I ate {number} apples, so I was sick for {day} days.\".format(number,day)"
   ]
  },
  {
   "cell_type": "code",
   "execution_count": 36,
   "id": "f4fd5f8f-be65-4443-9ff7-fbe151d7e7d5",
   "metadata": {},
   "outputs": [
    {
     "data": {
      "text/plain": [
       "'I ate 10 apples, so I was sick for three days.'"
      ]
     },
     "execution_count": 36,
     "metadata": {},
     "output_type": "execute_result"
    }
   ],
   "source": [
    "\"I ate {0} apples, so I was sick for {1} days.\".format(10, \"three\")"
   ]
  },
  {
   "cell_type": "code",
   "execution_count": 37,
   "id": "079713e0-7331-4487-a4b5-ae5ef10215ba",
   "metadata": {},
   "outputs": [
    {
     "data": {
      "text/plain": [
       "'I ate 10 apples, so I was sick for 3 days.'"
      ]
     },
     "execution_count": 37,
     "metadata": {},
     "output_type": "execute_result"
    }
   ],
   "source": [
    "\"I ate {0} apples, so I was sick for {1} days.\".format(number,day)"
   ]
  },
  {
   "cell_type": "code",
   "execution_count": 38,
   "id": "8059e354-c51c-427b-bdb3-9fa2d3b60f29",
   "metadata": {},
   "outputs": [
    {
     "data": {
      "text/plain": [
       "'I ate 10 apples, so I was sick for 3 days.'"
      ]
     },
     "execution_count": 38,
     "metadata": {},
     "output_type": "execute_result"
    }
   ],
   "source": [
    "\"I ate {number} apples, so I was sick for {day} days.\".format(number=number,day=day)"
   ]
  },
  {
   "cell_type": "code",
   "execution_count": 39,
   "id": "819556d7-7831-429e-9330-7ac9b4153eae",
   "metadata": {},
   "outputs": [
    {
     "data": {
      "text/plain": [
       "'hi        '"
      ]
     },
     "execution_count": 39,
     "metadata": {},
     "output_type": "execute_result"
    }
   ],
   "source": [
    "\"{:10}\" .format('hi')"
   ]
  },
  {
   "cell_type": "code",
   "execution_count": 40,
   "id": "4fdf2b79-5b55-44e1-8b61-c4206037dd0c",
   "metadata": {},
   "outputs": [
    {
     "ename": "IndexError",
     "evalue": "Replacement index 10 out of range for positional args tuple",
     "output_type": "error",
     "traceback": [
      "\u001b[0;31m---------------------------------------------------------------------------\u001b[0m",
      "\u001b[0;31mIndexError\u001b[0m                                Traceback (most recent call last)",
      "Cell \u001b[0;32mIn[40], line 1\u001b[0m\n\u001b[0;32m----> 1\u001b[0m \u001b[38;5;124m\"\u001b[39m\u001b[38;5;132;01m{10:}\u001b[39;00m\u001b[38;5;124m\"\u001b[39m \u001b[38;5;241m.\u001b[39mformat(\u001b[38;5;124m'\u001b[39m\u001b[38;5;124mhi\u001b[39m\u001b[38;5;124m'\u001b[39m)\n",
      "\u001b[0;31mIndexError\u001b[0m: Replacement index 10 out of range for positional args tuple"
     ]
    }
   ],
   "source": [
    "\"{10:}\" .format('hi')"
   ]
  },
  {
   "cell_type": "code",
   "execution_count": 41,
   "id": "cfae7a4f-2e3a-4585-8aa4-afa2131e4f23",
   "metadata": {},
   "outputs": [
    {
     "data": {
      "text/plain": [
       "'        hi'"
      ]
     },
     "execution_count": 41,
     "metadata": {},
     "output_type": "execute_result"
    }
   ],
   "source": [
    "\"{:>10}\" .format('hi')"
   ]
  },
  {
   "cell_type": "code",
   "execution_count": 42,
   "id": "b4649c48-2298-4a10-b3d5-82d7c62a43ca",
   "metadata": {},
   "outputs": [
    {
     "data": {
      "text/plain": [
       "'hi        '"
      ]
     },
     "execution_count": 42,
     "metadata": {},
     "output_type": "execute_result"
    }
   ],
   "source": [
    "\"{:<10}\" .format('hi')"
   ]
  },
  {
   "cell_type": "code",
   "execution_count": 43,
   "id": "9344c54d-50e3-42c8-8672-8cec365f209c",
   "metadata": {},
   "outputs": [
    {
     "data": {
      "text/plain": [
       "'    hi    '"
      ]
     },
     "execution_count": 43,
     "metadata": {},
     "output_type": "execute_result"
    }
   ],
   "source": [
    "\"{:^10}\" .format('hi')"
   ]
  },
  {
   "cell_type": "code",
   "execution_count": 44,
   "id": "b6d8717e-6a6a-40e0-a1b7-92de802eb0d9",
   "metadata": {},
   "outputs": [
    {
     "ename": "ValueError",
     "evalue": "'=' alignment not allowed in string format specifier",
     "output_type": "error",
     "traceback": [
      "\u001b[0;31m---------------------------------------------------------------------------\u001b[0m",
      "\u001b[0;31mValueError\u001b[0m                                Traceback (most recent call last)",
      "Cell \u001b[0;32mIn[44], line 1\u001b[0m\n\u001b[0;32m----> 1\u001b[0m \u001b[38;5;124m\"\u001b[39m\u001b[38;5;132;01m{:=10}\u001b[39;00m\u001b[38;5;124m\"\u001b[39m \u001b[38;5;241m.\u001b[39mformat(\u001b[38;5;124m'\u001b[39m\u001b[38;5;124mhi\u001b[39m\u001b[38;5;124m'\u001b[39m)\n",
      "\u001b[0;31mValueError\u001b[0m: '=' alignment not allowed in string format specifier"
     ]
    }
   ],
   "source": [
    "\"{:=10}\" .format('hi')"
   ]
  },
  {
   "cell_type": "code",
   "execution_count": 45,
   "id": "53db9287-d732-43da-afb6-0c8b0d7365e2",
   "metadata": {},
   "outputs": [
    {
     "data": {
      "text/plain": [
       "'====hi===='"
      ]
     },
     "execution_count": 45,
     "metadata": {},
     "output_type": "execute_result"
    }
   ],
   "source": [
    "\"{:=^10}\" .format('hi')"
   ]
  },
  {
   "cell_type": "code",
   "execution_count": 46,
   "id": "8f9a960d-d5af-4340-8ada-bfa745c87a68",
   "metadata": {},
   "outputs": [
    {
     "ename": "ValueError",
     "evalue": "'=' alignment not allowed in string format specifier",
     "output_type": "error",
     "traceback": [
      "\u001b[0;31m---------------------------------------------------------------------------\u001b[0m",
      "\u001b[0;31mValueError\u001b[0m                                Traceback (most recent call last)",
      "Cell \u001b[0;32mIn[46], line 1\u001b[0m\n\u001b[0;32m----> 1\u001b[0m \u001b[38;5;124m\"\u001b[39m\u001b[38;5;132;01m{:!=10}\u001b[39;00m\u001b[38;5;124m\"\u001b[39m \u001b[38;5;241m.\u001b[39mformat(\u001b[38;5;124m'\u001b[39m\u001b[38;5;124mhi\u001b[39m\u001b[38;5;124m'\u001b[39m)\n",
      "\u001b[0;31mValueError\u001b[0m: '=' alignment not allowed in string format specifier"
     ]
    }
   ],
   "source": [
    "\"{:!=10}\" .format('hi')"
   ]
  },
  {
   "cell_type": "code",
   "execution_count": 47,
   "id": "5d029ebd-f872-4e72-b07c-b182581d87fa",
   "metadata": {},
   "outputs": [
    {
     "data": {
      "text/plain": [
       "'hi!!!!!!!!'"
      ]
     },
     "execution_count": 47,
     "metadata": {},
     "output_type": "execute_result"
    }
   ],
   "source": [
    "\"{:!<10}\" .format('hi')"
   ]
  },
  {
   "cell_type": "code",
   "execution_count": 48,
   "id": "9002af2d-70e4-4ba3-a633-f6fa9bb70fbf",
   "metadata": {},
   "outputs": [
    {
     "data": {
      "text/plain": [
       "'!!!!hi!!!!'"
      ]
     },
     "execution_count": 48,
     "metadata": {},
     "output_type": "execute_result"
    }
   ],
   "source": [
    "\"{:!^10}\" .format('hi')"
   ]
  },
  {
   "cell_type": "code",
   "execution_count": 49,
   "id": "34639173-e1a2-4de7-b9bb-59eeef9b8667",
   "metadata": {},
   "outputs": [
    {
     "data": {
      "text/plain": [
       "'3.325'"
      ]
     },
     "execution_count": 49,
     "metadata": {},
     "output_type": "execute_result"
    }
   ],
   "source": [
    "\"{:0.4}\" .format(3.32523423)"
   ]
  },
  {
   "cell_type": "code",
   "execution_count": 50,
   "id": "38164be1-59ad-4476-8888-c8fdb6569fdc",
   "metadata": {},
   "outputs": [
    {
     "ename": "ValueError",
     "evalue": "Unknown format code 'f' for object of type 'str'",
     "output_type": "error",
     "traceback": [
      "\u001b[0;31m---------------------------------------------------------------------------\u001b[0m",
      "\u001b[0;31mValueError\u001b[0m                                Traceback (most recent call last)",
      "Cell \u001b[0;32mIn[50], line 1\u001b[0m\n\u001b[0;32m----> 1\u001b[0m \u001b[38;5;124m\"\u001b[39m\u001b[38;5;132;01m{:10.4f}\u001b[39;00m\u001b[38;5;124m\"\u001b[39m \u001b[38;5;241m.\u001b[39mformat(\u001b[38;5;124m'\u001b[39m\u001b[38;5;124mhi\u001b[39m\u001b[38;5;124m'\u001b[39m)\n",
      "\u001b[0;31mValueError\u001b[0m: Unknown format code 'f' for object of type 'str'"
     ]
    }
   ],
   "source": [
    "\"{:10.4f}\" .format('hi')"
   ]
  },
  {
   "cell_type": "code",
   "execution_count": 51,
   "id": "fd799523-8b9d-4571-9aff-65a1ed2e1dcd",
   "metadata": {},
   "outputs": [
    {
     "data": {
      "text/plain": [
       "'    1.2131'"
      ]
     },
     "execution_count": 51,
     "metadata": {},
     "output_type": "execute_result"
    }
   ],
   "source": [
    "\"{:10.4f}\" .format(1.21312)"
   ]
  },
  {
   "cell_type": "code",
   "execution_count": 52,
   "id": "075191d4-18d6-4fd3-ac9a-2f376fef408f",
   "metadata": {},
   "outputs": [
    {
     "data": {
      "text/plain": [
       "'{and}'"
      ]
     },
     "execution_count": 52,
     "metadata": {},
     "output_type": "execute_result"
    }
   ],
   "source": [
    "\"{{and}}\".format()"
   ]
  },
  {
   "cell_type": "code",
   "execution_count": 53,
   "id": "324cb014-ab06-4fa1-8e70-8fb7098c7ced",
   "metadata": {},
   "outputs": [
    {
     "ename": "SyntaxError",
     "evalue": "invalid syntax (1817914781.py, line 3)",
     "output_type": "error",
     "traceback": [
      "\u001b[0;36m  Cell \u001b[0;32mIn[53], line 3\u001b[0;36m\u001b[0m\n\u001b[0;31m    f 나의 이름은 {name} 입니다. 나이는 {age} 입니다.\u001b[0m\n\u001b[0m      ^\u001b[0m\n\u001b[0;31mSyntaxError\u001b[0m\u001b[0;31m:\u001b[0m invalid syntax\n"
     ]
    }
   ],
   "source": [
    "name='장우성'\n",
    "age=41\n",
    "f 나의 이름은 {name} 입니다. 나이는 {age} 입니다."
   ]
  },
  {
   "cell_type": "code",
   "execution_count": 55,
   "id": "6074dcdd-ee7d-4d7b-8b76-b7921c9fabec",
   "metadata": {},
   "outputs": [
    {
     "data": {
      "text/plain": [
       "'나의 이름은 장우성 입니다. 나이는 41 입니다.'"
      ]
     },
     "execution_count": 55,
     "metadata": {},
     "output_type": "execute_result"
    }
   ],
   "source": [
    "name='장우성'\n",
    "age=41\n",
    "f\"나의 이름은 {name} 입니다. 나이는 {age} 입니다.\""
   ]
  },
  {
   "cell_type": "code",
   "execution_count": 56,
   "id": "69c60495-a4e7-429d-98c4-62c5b6cc4891",
   "metadata": {},
   "outputs": [
    {
     "data": {
      "text/plain": [
       "'나는 내년에 42살이 됩니다'"
      ]
     },
     "execution_count": 56,
     "metadata": {},
     "output_type": "execute_result"
    }
   ],
   "source": [
    "age=41\n",
    "f\"나는 내년에 {age+1}살이 됩니다\""
   ]
  },
  {
   "cell_type": "code",
   "execution_count": 57,
   "id": "8da01a59-dfca-4f22-a6ce-844cc1fc915a",
   "metadata": {},
   "outputs": [
    {
     "data": {
      "text/plain": [
       "'나의 이름은 장우성 입니다. 나이는 41 입니다.'"
      ]
     },
     "execution_count": 57,
     "metadata": {},
     "output_type": "execute_result"
    }
   ],
   "source": [
    "d={'name':'장우성', 'age':41}\n",
    "f\"나의 이름은 {name} 입니다. 나이는 {age} 입니다.\""
   ]
  },
  {
   "cell_type": "code",
   "execution_count": 58,
   "id": "a4f01b20-892a-40c2-942c-ab2e69f809a1",
   "metadata": {},
   "outputs": [
    {
     "ename": "KeyError",
     "evalue": "'장우성'",
     "output_type": "error",
     "traceback": [
      "\u001b[0;31m---------------------------------------------------------------------------\u001b[0m",
      "\u001b[0;31mKeyError\u001b[0m                                  Traceback (most recent call last)",
      "Cell \u001b[0;32mIn[58], line 2\u001b[0m\n\u001b[1;32m      1\u001b[0m d\u001b[38;5;241m=\u001b[39m{\u001b[38;5;124m'\u001b[39m\u001b[38;5;124mname\u001b[39m\u001b[38;5;124m'\u001b[39m:\u001b[38;5;124m'\u001b[39m\u001b[38;5;124m장우성\u001b[39m\u001b[38;5;124m'\u001b[39m, \u001b[38;5;124m'\u001b[39m\u001b[38;5;124mage\u001b[39m\u001b[38;5;124m'\u001b[39m:\u001b[38;5;241m41\u001b[39m}\n\u001b[0;32m----> 2\u001b[0m \u001b[38;5;124mf\u001b[39m\u001b[38;5;124m\"\u001b[39m\u001b[38;5;124m나의 이름은 \u001b[39m\u001b[38;5;132;01m{\u001b[39;00md[name]\u001b[38;5;132;01m}\u001b[39;00m\u001b[38;5;124m 입니다. 나이는 \u001b[39m\u001b[38;5;132;01m{\u001b[39;00md[age]\u001b[38;5;132;01m}\u001b[39;00m\u001b[38;5;124m 입니다.\u001b[39m\u001b[38;5;124m\"\u001b[39m\n",
      "\u001b[0;31mKeyError\u001b[0m: '장우성'"
     ]
    }
   ],
   "source": [
    "d={'name':'장우성', 'age':41}\n",
    "f\"나의 이름은 {d[name]} 입니다. 나이는 {d[age]} 입니다.\""
   ]
  },
  {
   "cell_type": "code",
   "execution_count": 59,
   "id": "f13c3c4c-9a04-4c1b-9df6-fab7b4e0547d",
   "metadata": {},
   "outputs": [
    {
     "ename": "_IncompleteInputError",
     "evalue": "incomplete input (1188204720.py, line 2)",
     "output_type": "error",
     "traceback": [
      "\u001b[0;36m  Cell \u001b[0;32mIn[59], line 2\u001b[0;36m\u001b[0m\n\u001b[0;31m    f\"나의 이름은 {d[\"name']} 입니다. 나이는 {d'[age]''} 입니다.\"\u001b[0m\n\u001b[0m                                                   ^\u001b[0m\n\u001b[0;31m_IncompleteInputError\u001b[0m\u001b[0;31m:\u001b[0m incomplete input\n"
     ]
    }
   ],
   "source": [
    "d={'name':'장우성', 'age':41}\n",
    "f\"나의 이름은 {d[\"name']} 입니다. 나이는 {d'[age]''} 입니다.\""
   ]
  },
  {
   "cell_type": "code",
   "execution_count": 60,
   "id": "58933958-70cc-40c3-8718-ed18e6b6bb6b",
   "metadata": {},
   "outputs": [
    {
     "data": {
      "text/plain": [
       "'나의 이름은 장우성 입니다. 나이는 41 입니다.'"
      ]
     },
     "execution_count": 60,
     "metadata": {},
     "output_type": "execute_result"
    }
   ],
   "source": [
    "d={'name':'장우성', 'age':41}\n",
    "f\"나의 이름은 {d['name']} 입니다. 나이는 {d['age']} 입니다.\""
   ]
  },
  {
   "cell_type": "code",
   "execution_count": 64,
   "id": "79efd5a7-4fc9-4e2c-804a-b52df5239de4",
   "metadata": {},
   "outputs": [
    {
     "data": {
      "text/plain": [
       "'hi        '"
      ]
     },
     "execution_count": 64,
     "metadata": {},
     "output_type": "execute_result"
    }
   ],
   "source": [
    "f\"{\"hi\":<10}\"\n",
    "\n"
   ]
  },
  {
   "cell_type": "code",
   "execution_count": 65,
   "id": "37bf9517-fd71-4edb-8ecc-73d3f37f4aa1",
   "metadata": {},
   "outputs": [
    {
     "data": {
      "text/plain": [
       "'    hi    '"
      ]
     },
     "execution_count": 65,
     "metadata": {},
     "output_type": "execute_result"
    }
   ],
   "source": [
    "f\"{\"hi\":^10}\""
   ]
  },
  {
   "cell_type": "code",
   "execution_count": 70,
   "id": "8b95a910-e3d0-4bd8-bf6d-f1553187394d",
   "metadata": {},
   "outputs": [
    {
     "name": "stdout",
     "output_type": "stream",
     "text": [
      "====hi====\n"
     ]
    }
   ],
   "source": [
    "print(f\"{\"hi\":=^10}\")\n"
   ]
  },
  {
   "cell_type": "code",
   "execution_count": 71,
   "id": "30c555d5-6d65-4ed4-870b-d3d4a194c259",
   "metadata": {},
   "outputs": [
    {
     "data": {
      "text/plain": [
       "'3.2434'"
      ]
     },
     "execution_count": 71,
     "metadata": {},
     "output_type": "execute_result"
    }
   ],
   "source": [
    "f\"{3.243423234:0.4f}\""
   ]
  },
  {
   "cell_type": "code",
   "execution_count": 72,
   "id": "ab79ab25-bbe0-4f1a-b0eb-3e9c035a8e3d",
   "metadata": {},
   "outputs": [
    {
     "data": {
      "text/plain": [
       "'{and}'"
      ]
     },
     "execution_count": 72,
     "metadata": {},
     "output_type": "execute_result"
    }
   ],
   "source": [
    "f\"{{and}}\""
   ]
  },
  {
   "cell_type": "markdown",
   "id": "5db8b7e8-1ae6-4123-b0f0-4f9e5b02d155",
   "metadata": {},
   "source": [
    "## 문자열 관련 함수들"
   ]
  },
  {
   "cell_type": "code",
   "execution_count": 75,
   "id": "4b9ba080-d061-466b-9160-e03cd96144ec",
   "metadata": {},
   "outputs": [
    {
     "data": {
      "text/plain": [
       "2"
      ]
     },
     "execution_count": 75,
     "metadata": {},
     "output_type": "execute_result"
    }
   ],
   "source": [
    "# count() :문자 개수 세기\n",
    "\"hobby\".count('b')\n"
   ]
  },
  {
   "cell_type": "code",
   "execution_count": 76,
   "id": "dc42144b-e93a-4dc5-8f83-8bfc33fab79e",
   "metadata": {},
   "outputs": [
    {
     "data": {
      "text/plain": [
       "6"
      ]
     },
     "execution_count": 76,
     "metadata": {},
     "output_type": "execute_result"
    }
   ],
   "source": [
    "\"dsafsdfadsgasdfadsgsadfdasfdsagasdfadsg\".count('f')"
   ]
  },
  {
   "cell_type": "code",
   "execution_count": 77,
   "id": "5c792e6a-f573-419b-8930-065b42db4482",
   "metadata": {},
   "outputs": [
    {
     "data": {
      "text/plain": [
       "25"
      ]
     },
     "execution_count": 77,
     "metadata": {},
     "output_type": "execute_result"
    }
   ],
   "source": [
    "# find() : 위치 찾기\n",
    "\"python is the best choice!\".find('!')"
   ]
  },
  {
   "cell_type": "code",
   "execution_count": 79,
   "id": "88c0272f-25a9-4213-ac4e-5a91f633f54d",
   "metadata": {},
   "outputs": [
    {
     "data": {
      "text/plain": [
       "-1"
      ]
     },
     "execution_count": 79,
     "metadata": {},
     "output_type": "execute_result"
    }
   ],
   "source": [
    "\"python is the best choice!\".find('k') # 찾는 문자가 없으면 -1을 반환해준다."
   ]
  },
  {
   "cell_type": "code",
   "execution_count": 80,
   "id": "30b8d3fb-75e1-4321-aacb-70ba198d3704",
   "metadata": {},
   "outputs": [
    {
     "data": {
      "text/plain": [
       "8"
      ]
     },
     "execution_count": 80,
     "metadata": {},
     "output_type": "execute_result"
    }
   ],
   "source": [
    "# index() : 위치 찾기\n",
    "a=\"Life is too short\"\n",
    "a.index('t')"
   ]
  },
  {
   "cell_type": "code",
   "execution_count": 81,
   "id": "4cf793fe-eb9f-45d7-b541-571be0076079",
   "metadata": {},
   "outputs": [
    {
     "ename": "ValueError",
     "evalue": "substring not found",
     "output_type": "error",
     "traceback": [
      "\u001b[0;31m---------------------------------------------------------------------------\u001b[0m",
      "\u001b[0;31mValueError\u001b[0m                                Traceback (most recent call last)",
      "Cell \u001b[0;32mIn[81], line 2\u001b[0m\n\u001b[1;32m      1\u001b[0m a\u001b[38;5;241m=\u001b[39m\u001b[38;5;124m\"\u001b[39m\u001b[38;5;124mLife is too short\u001b[39m\u001b[38;5;124m\"\u001b[39m\n\u001b[0;32m----> 2\u001b[0m a\u001b[38;5;241m.\u001b[39mindex(\u001b[38;5;124m'\u001b[39m\u001b[38;5;124mk\u001b[39m\u001b[38;5;124m'\u001b[39m)\n",
      "\u001b[0;31mValueError\u001b[0m: substring not found"
     ]
    }
   ],
   "source": [
    "a=\"Life is too short\"\n",
    "a.index('k')"
   ]
  },
  {
   "cell_type": "code",
   "execution_count": 82,
   "id": "c6ef5b52-889f-4691-ab6f-e3f8c6e8223b",
   "metadata": {},
   "outputs": [
    {
     "data": {
      "text/plain": [
       "'a,b,c,d'"
      ]
     },
     "execution_count": 82,
     "metadata": {},
     "output_type": "execute_result"
    }
   ],
   "source": [
    "# join() : 문자열 삽입\n",
    "\",\".join('abcd')"
   ]
  },
  {
   "cell_type": "code",
   "execution_count": 87,
   "id": "9ea982d2-c51a-437c-9b65-7a9b66805f1e",
   "metadata": {},
   "outputs": [
    {
     "data": {
      "text/plain": [
       "['a', 'b', 'c', 'd']"
      ]
     },
     "execution_count": 87,
     "metadata": {},
     "output_type": "execute_result"
    }
   ],
   "source": [
    "list=['a','b','c','d']\n",
    "list\n"
   ]
  },
  {
   "cell_type": "code",
   "execution_count": 91,
   "id": "3062ae18-1e3b-4e6b-91d5-90752f2e719d",
   "metadata": {},
   "outputs": [
    {
     "name": "stdout",
     "output_type": "stream",
     "text": [
      "a,b,c,d\n",
      "<class 'str'>\n"
     ]
    }
   ],
   "source": [
    "list_join=',' .join(list)\n",
    "print(list_join)\n",
    "print(type(list_join))\n"
   ]
  },
  {
   "cell_type": "code",
   "execution_count": 92,
   "id": "a7cd2c14-eebe-4528-aea3-20b61c8851e0",
   "metadata": {},
   "outputs": [
    {
     "data": {
      "text/plain": [
       "'HI'"
      ]
     },
     "execution_count": 92,
     "metadata": {},
     "output_type": "execute_result"
    }
   ],
   "source": [
    "# upper() : 소문자를 대문자로\n",
    "\"hi\" .upper()"
   ]
  },
  {
   "cell_type": "code",
   "execution_count": 93,
   "id": "856c56f7-d4ab-44b3-b654-d99e401a48ca",
   "metadata": {},
   "outputs": [
    {
     "data": {
      "text/plain": [
       "'hi'"
      ]
     },
     "execution_count": 93,
     "metadata": {},
     "output_type": "execute_result"
    }
   ],
   "source": [
    "\"HI\" .lower()"
   ]
  },
  {
   "cell_type": "code",
   "execution_count": 95,
   "id": "82710d53-dbeb-4750-a96c-a2180daf24b4",
   "metadata": {},
   "outputs": [
    {
     "data": {
      "text/plain": [
       "'hi    '"
      ]
     },
     "execution_count": 95,
     "metadata": {},
     "output_type": "execute_result"
    }
   ],
   "source": [
    "# lstrip(): 왼쪽 공백 제거\n",
    "\"   hi    \".lstrip()"
   ]
  },
  {
   "cell_type": "code",
   "execution_count": 96,
   "id": "92429999-ce66-444d-ba07-0c612ddfa76e",
   "metadata": {},
   "outputs": [
    {
     "data": {
      "text/plain": [
       "'        hi'"
      ]
     },
     "execution_count": 96,
     "metadata": {},
     "output_type": "execute_result"
    }
   ],
   "source": [
    "\"        hi       \".rstrip()\n"
   ]
  },
  {
   "cell_type": "code",
   "execution_count": 98,
   "id": "8402d683-f6e1-4d66-ac2f-89bcf99eb1b4",
   "metadata": {},
   "outputs": [
    {
     "data": {
      "text/plain": [
       "'       hi'"
      ]
     },
     "execution_count": 98,
     "metadata": {},
     "output_type": "execute_result"
    }
   ],
   "source": [
    "\"       hi      \".rstrip()"
   ]
  },
  {
   "cell_type": "code",
   "execution_count": 99,
   "id": "c89a870e-79fd-4fb6-91d7-add65ebc98e3",
   "metadata": {},
   "outputs": [
    {
     "data": {
      "text/plain": [
       "'hi'"
      ]
     },
     "execution_count": 99,
     "metadata": {},
     "output_type": "execute_result"
    }
   ],
   "source": [
    "\"         hi       \".strip()"
   ]
  },
  {
   "cell_type": "code",
   "execution_count": 100,
   "id": "9951b20c-9131-4371-a6a5-cb7f6fd3dbad",
   "metadata": {},
   "outputs": [
    {
     "data": {
      "text/plain": [
       "'abcd'"
      ]
     },
     "execution_count": 100,
     "metadata": {},
     "output_type": "execute_result"
    }
   ],
   "source": [
    "\"\".join(list)"
   ]
  },
  {
   "cell_type": "code",
   "execution_count": 101,
   "id": "28150c8a-cf16-4507-8b99-5c3ca5bb2224",
   "metadata": {},
   "outputs": [
    {
     "data": {
      "text/plain": [
       "'Yourleg is too short'"
      ]
     },
     "execution_count": 101,
     "metadata": {},
     "output_type": "execute_result"
    }
   ],
   "source": [
    "# replace() : 문자열 바꾸기\n",
    "a=\"Life is too short\"\n",
    "a.replace(\"Life\",\"Yourleg\")"
   ]
  },
  {
   "cell_type": "code",
   "execution_count": 102,
   "id": "3d3a0ea9-ea21-4565-8403-28450943a865",
   "metadata": {},
   "outputs": [
    {
     "ename": "SyntaxError",
     "evalue": "invalid syntax (3585836569.py, line 1)",
     "output_type": "error",
     "traceback": [
      "\u001b[0;36m  Cell \u001b[0;32mIn[102], line 1\u001b[0;36m\u001b[0m\n\u001b[0;31m    .replace(\"Life\",\"aa\")\u001b[0m\n\u001b[0m    ^\u001b[0m\n\u001b[0;31mSyntaxError\u001b[0m\u001b[0;31m:\u001b[0m invalid syntax\n"
     ]
    }
   ],
   "source": [
    ".replace(\"Life\",\"aa\")"
   ]
  },
  {
   "cell_type": "code",
   "execution_count": 103,
   "id": "d8771f47-54c6-4855-9d5d-7632f3eba294",
   "metadata": {},
   "outputs": [],
   "source": [
    "# split() : # 문자열 나누기\n",
    "a=\"Life is too short\"\n",
    "b=a.split()"
   ]
  },
  {
   "cell_type": "code",
   "execution_count": 104,
   "id": "6cd6a1ef-eb41-46a2-be3d-926b24121d59",
   "metadata": {},
   "outputs": [
    {
     "name": "stdout",
     "output_type": "stream",
     "text": [
      "['Life', 'is', 'too', 'short']\n",
      "<class 'list'>\n"
     ]
    }
   ],
   "source": [
    "print(b)\n",
    "print(type(b))"
   ]
  },
  {
   "cell_type": "code",
   "execution_count": 105,
   "id": "91a511e3-4830-46f9-a392-5768eb5a5e37",
   "metadata": {},
   "outputs": [
    {
     "data": {
      "text/plain": [
       "['a', 'b', 'c', 'd']"
      ]
     },
     "execution_count": 105,
     "metadata": {},
     "output_type": "execute_result"
    }
   ],
   "source": [
    "c=\"a,b,c,d\"\n",
    "c.split(',')"
   ]
  },
  {
   "cell_type": "code",
   "execution_count": 106,
   "id": "9bcf8839-f30c-4616-aebc-c2eb085d5b51",
   "metadata": {},
   "outputs": [
    {
     "data": {
      "text/plain": [
       "'HI'"
      ]
     },
     "execution_count": 106,
     "metadata": {},
     "output_type": "execute_result"
    }
   ],
   "source": [
    "a=\"hi\"\n",
    "a.upper()"
   ]
  },
  {
   "cell_type": "code",
   "execution_count": 107,
   "id": "6c490482-a218-4ddb-abbc-adbe5003e2af",
   "metadata": {},
   "outputs": [
    {
     "data": {
      "text/plain": [
       "'hi'"
      ]
     },
     "execution_count": 107,
     "metadata": {},
     "output_type": "execute_result"
    }
   ],
   "source": [
    "a=\"HI\"\n",
    "a.lower()\n"
   ]
  },
  {
   "cell_type": "code",
   "execution_count": 108,
   "id": "6cdd9ab9-3b41-428a-993d-bbf9d8608a0b",
   "metadata": {},
   "outputs": [
    {
     "data": {
      "text/plain": [
       "'HI'"
      ]
     },
     "execution_count": 108,
     "metadata": {},
     "output_type": "execute_result"
    }
   ],
   "source": [
    "a"
   ]
  },
  {
   "cell_type": "code",
   "execution_count": 109,
   "id": "dd302847-10cf-4212-a4dc-c9ced3025284",
   "metadata": {},
   "outputs": [
    {
     "data": {
      "text/plain": [
       "'HI'"
      ]
     },
     "execution_count": 109,
     "metadata": {},
     "output_type": "execute_result"
    }
   ],
   "source": [
    "a=a.upper()\n",
    "a"
   ]
  },
  {
   "cell_type": "code",
   "execution_count": 110,
   "id": "a247d298-0f49-43b0-84ec-e9434e66cf02",
   "metadata": {},
   "outputs": [
    {
     "data": {
      "text/plain": [
       "[7, 1, 6, 8]"
      ]
     },
     "execution_count": 110,
     "metadata": {},
     "output_type": "execute_result"
    }
   ],
   "source": [
    "a=[8,6,1,7]\n",
    "a.reverse()\n",
    "a"
   ]
  },
  {
   "cell_type": "code",
   "execution_count": 111,
   "id": "ee241d34-da6c-4772-94ac-782985abc944",
   "metadata": {},
   "outputs": [
    {
     "name": "stdout",
     "output_type": "stream",
     "text": [
      "[7, 1, 6, 8]\n"
     ]
    },
    {
     "data": {
      "text/plain": [
       "2"
      ]
     },
     "execution_count": 111,
     "metadata": {},
     "output_type": "execute_result"
    }
   ],
   "source": [
    "# index() 위치 찾기\n",
    "print(a)\n",
    "a.index(6)"
   ]
  },
  {
   "cell_type": "code",
   "execution_count": 112,
   "id": "c036b306-3392-4268-b219-acb25ac957a4",
   "metadata": {},
   "outputs": [
    {
     "ename": "ValueError",
     "evalue": "2 is not in list",
     "output_type": "error",
     "traceback": [
      "\u001b[0;31m---------------------------------------------------------------------------\u001b[0m",
      "\u001b[0;31mValueError\u001b[0m                                Traceback (most recent call last)",
      "Cell \u001b[0;32mIn[112], line 1\u001b[0m\n\u001b[0;32m----> 1\u001b[0m a\u001b[38;5;241m.\u001b[39mindex(\u001b[38;5;241m2\u001b[39m)\n",
      "\u001b[0;31mValueError\u001b[0m: 2 is not in list"
     ]
    }
   ],
   "source": [
    "a.index(2)"
   ]
  },
  {
   "cell_type": "code",
   "execution_count": 113,
   "id": "e691abcf-b6b0-4dd9-acc7-ae186238a913",
   "metadata": {},
   "outputs": [
    {
     "ename": "AttributeError",
     "evalue": "'list' object has no attribute 'find'",
     "output_type": "error",
     "traceback": [
      "\u001b[0;31m---------------------------------------------------------------------------\u001b[0m",
      "\u001b[0;31mAttributeError\u001b[0m                            Traceback (most recent call last)",
      "Cell \u001b[0;32mIn[113], line 1\u001b[0m\n\u001b[0;32m----> 1\u001b[0m a\u001b[38;5;241m.\u001b[39mfind(\u001b[38;5;241m2\u001b[39m)\n",
      "\u001b[0;31mAttributeError\u001b[0m: 'list' object has no attribute 'find'"
     ]
    }
   ],
   "source": [
    "a.find(2)\n"
   ]
  },
  {
   "cell_type": "code",
   "execution_count": 114,
   "id": "68a90f0d-ced7-43dd-afb0-e4662c15ac93",
   "metadata": {},
   "outputs": [],
   "source": [
    "#insert(index 어디?, 위치값) 요소 추가\n",
    "a=[1,2,3]"
   ]
  },
  {
   "cell_type": "code",
   "execution_count": 115,
   "id": "5b2a3690-4a34-429f-af51-eb916472bce4",
   "metadata": {},
   "outputs": [],
   "source": [
    "a.insert(0,4)"
   ]
  },
  {
   "cell_type": "code",
   "execution_count": 116,
   "id": "068565a2-6551-4e00-a2ff-4696eb407e98",
   "metadata": {},
   "outputs": [
    {
     "data": {
      "text/plain": [
       "[4, 1, 2, 3]"
      ]
     },
     "execution_count": 116,
     "metadata": {},
     "output_type": "execute_result"
    }
   ],
   "source": [
    "a"
   ]
  },
  {
   "cell_type": "code",
   "execution_count": 117,
   "id": "7e166eaf-1745-461b-b138-9c2c7c37c364",
   "metadata": {},
   "outputs": [],
   "source": [
    "a.insert(3,5)"
   ]
  },
  {
   "cell_type": "code",
   "execution_count": 118,
   "id": "855bbcfd-2d95-421a-b342-e253b7de0a48",
   "metadata": {},
   "outputs": [
    {
     "data": {
      "text/plain": [
       "[4, 1, 2, 5, 3]"
      ]
     },
     "execution_count": 118,
     "metadata": {},
     "output_type": "execute_result"
    }
   ],
   "source": [
    "a"
   ]
  },
  {
   "cell_type": "code",
   "execution_count": 119,
   "id": "31b21568-0ed6-4d0c-8d28-27543f1c9e7f",
   "metadata": {},
   "outputs": [],
   "source": [
    "# a.remove() 요소 제거\n",
    "a.remove(2)"
   ]
  },
  {
   "cell_type": "code",
   "execution_count": 120,
   "id": "2a20194d-67bf-4eee-8aa4-08fb133b084f",
   "metadata": {},
   "outputs": [
    {
     "data": {
      "text/plain": [
       "[4, 1, 5, 3]"
      ]
     },
     "execution_count": 120,
     "metadata": {},
     "output_type": "execute_result"
    }
   ],
   "source": [
    "a"
   ]
  },
  {
   "cell_type": "code",
   "execution_count": 121,
   "id": "1aa76f40-82c4-4cd2-9a30-079869c43f1a",
   "metadata": {},
   "outputs": [
    {
     "ename": "AttributeError",
     "evalue": "'list' object has no attribute 'revove'",
     "output_type": "error",
     "traceback": [
      "\u001b[0;31m---------------------------------------------------------------------------\u001b[0m",
      "\u001b[0;31mAttributeError\u001b[0m                            Traceback (most recent call last)",
      "Cell \u001b[0;32mIn[121], line 1\u001b[0m\n\u001b[0;32m----> 1\u001b[0m a\u001b[38;5;241m.\u001b[39mrevove(\u001b[38;5;241m7\u001b[39m)\n",
      "\u001b[0;31mAttributeError\u001b[0m: 'list' object has no attribute 'revove'"
     ]
    }
   ],
   "source": [
    "a.revove(7)"
   ]
  },
  {
   "cell_type": "code",
   "execution_count": 122,
   "id": "b50390d9-f6d1-43b3-92f8-bf08f829ecbe",
   "metadata": {},
   "outputs": [
    {
     "data": {
      "text/plain": [
       "[4, 1, 5, 3]"
      ]
     },
     "execution_count": 122,
     "metadata": {},
     "output_type": "execute_result"
    }
   ],
   "source": [
    "a"
   ]
  },
  {
   "cell_type": "code",
   "execution_count": 123,
   "id": "acaff8a3-bcd4-4b83-8ea3-9eb999d819f4",
   "metadata": {},
   "outputs": [
    {
     "data": {
      "text/plain": [
       "3"
      ]
     },
     "execution_count": 123,
     "metadata": {},
     "output_type": "execute_result"
    }
   ],
   "source": [
    "# pop() 리스트 요소 끄집어내기\n",
    "a.pop(3)"
   ]
  },
  {
   "cell_type": "code",
   "execution_count": 124,
   "id": "9421e6a3-1303-4bf2-bb34-8f21b3a34f07",
   "metadata": {},
   "outputs": [
    {
     "data": {
      "text/plain": [
       "3"
      ]
     },
     "execution_count": 124,
     "metadata": {},
     "output_type": "execute_result"
    }
   ],
   "source": [
    "a=[1,2,3]\n",
    "a.pop()"
   ]
  },
  {
   "cell_type": "code",
   "execution_count": 125,
   "id": "2cf1012b-e62a-4fc2-99a9-8b4c3dcc4752",
   "metadata": {},
   "outputs": [
    {
     "data": {
      "text/plain": [
       "[1, 2]"
      ]
     },
     "execution_count": 125,
     "metadata": {},
     "output_type": "execute_result"
    }
   ],
   "source": [
    "a"
   ]
  },
  {
   "cell_type": "code",
   "execution_count": 126,
   "id": "9c71da54-30c0-4f3a-a81b-7fac82c0fe05",
   "metadata": {},
   "outputs": [
    {
     "data": {
      "text/plain": [
       "[1]"
      ]
     },
     "execution_count": 126,
     "metadata": {},
     "output_type": "execute_result"
    }
   ],
   "source": [
    "# pop 은 뒤에서부터 제거된다. (아무것도 안썼을때)\n",
    "a.pop(1)\n",
    "a"
   ]
  },
  {
   "cell_type": "code",
   "execution_count": 127,
   "id": "98939106-7d76-4b4d-81e4-3ecf6987c3b0",
   "metadata": {},
   "outputs": [
    {
     "data": {
      "text/plain": [
       "2"
      ]
     },
     "execution_count": 127,
     "metadata": {},
     "output_type": "execute_result"
    }
   ],
   "source": [
    "# count() : 요소 개수 세기\n",
    "a=[1,2,3,1]\n",
    "a.count(1)"
   ]
  },
  {
   "cell_type": "code",
   "execution_count": 128,
   "id": "845a0edd-461f-414b-a52f-145d91117478",
   "metadata": {},
   "outputs": [
    {
     "data": {
      "text/plain": [
       "[1, 2, 3, 1]"
      ]
     },
     "execution_count": 128,
     "metadata": {},
     "output_type": "execute_result"
    }
   ],
   "source": [
    "a"
   ]
  },
  {
   "cell_type": "code",
   "execution_count": 129,
   "id": "2b69190e-1ffd-468f-8d11-a3a1e7f6426a",
   "metadata": {},
   "outputs": [],
   "source": [
    "# index , 즉 위치가 아니라 개수로 적음"
   ]
  },
  {
   "cell_type": "code",
   "execution_count": 130,
   "id": "e8755746-8329-4bef-bc47-9eac96344e90",
   "metadata": {},
   "outputs": [],
   "source": [
    "# extend() : 리스트 확장\n",
    "a=[1,2,3]\n",
    "a.extend([4,5])"
   ]
  },
  {
   "cell_type": "code",
   "execution_count": 131,
   "id": "97e67e6a-ebc1-4ec1-8f10-3d8250041a1d",
   "metadata": {},
   "outputs": [
    {
     "data": {
      "text/plain": [
       "[1, 2, 3, 4, 5]"
      ]
     },
     "execution_count": 131,
     "metadata": {},
     "output_type": "execute_result"
    }
   ],
   "source": [
    "a"
   ]
  },
  {
   "cell_type": "code",
   "execution_count": 133,
   "id": "aa18571c-74da-4f86-b895-cabf7ee78411",
   "metadata": {},
   "outputs": [
    {
     "name": "stdout",
     "output_type": "stream",
     "text": [
      "[1, 2, 3, 4, 5]\n"
     ]
    }
   ],
   "source": [
    "a=[1,2,3]\n",
    "b=[4,5]\n",
    "print(a+b)\n",
    "# 리스트 연결"
   ]
  },
  {
   "cell_type": "code",
   "execution_count": null,
   "id": "4be8b2b5-1d5c-476e-8fac-bf38edfdf78d",
   "metadata": {},
   "outputs": [],
   "source": []
  }
 ],
 "metadata": {
  "kernelspec": {
   "display_name": "Python [conda env:base] *",
   "language": "python",
   "name": "conda-base-py"
  },
  "language_info": {
   "codemirror_mode": {
    "name": "ipython",
    "version": 3
   },
   "file_extension": ".py",
   "mimetype": "text/x-python",
   "name": "python",
   "nbconvert_exporter": "python",
   "pygments_lexer": "ipython3",
   "version": "3.13.5"
  }
 },
 "nbformat": 4,
 "nbformat_minor": 5
}
