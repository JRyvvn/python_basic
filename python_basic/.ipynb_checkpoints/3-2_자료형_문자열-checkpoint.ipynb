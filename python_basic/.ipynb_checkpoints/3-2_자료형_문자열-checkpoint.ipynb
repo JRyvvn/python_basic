{
 "cells": [
  {
   "cell_type": "markdown",
   "id": "958be10b-7d2c-4c3e-848a-ccbaab11cbfa",
   "metadata": {},
   "source": [
    "## 3-2_자료형_문자열"
   ]
  },
  {
   "cell_type": "code",
   "execution_count": 3,
   "id": "f3cfe381-280c-43af-a11d-28328d617552",
   "metadata": {},
   "outputs": [
    {
     "name": "stdout",
     "output_type": "stream",
     "text": [
      "python's favorite food is perl\n",
      "<class 'str'>\n"
     ]
    }
   ],
   "source": [
    "food=\"python's favorite food is perl\"\n",
    "print(food)\n",
    "print(type(food))"
   ]
  },
  {
   "cell_type": "code",
   "execution_count": 6,
   "id": "310a7d93-4844-45db-a275-e10582605538",
   "metadata": {},
   "outputs": [
    {
     "ename": "SyntaxError",
     "evalue": "unterminated string literal (detected at line 1); perhaps you escaped the end quote? (3855060767.py, line 1)",
     "output_type": "error",
     "traceback": [
      "\u001b[0;36m  Cell \u001b[0;32mIn[6], line 1\u001b[0;36m\u001b[0m\n\u001b[0;31m    food='python\\'s favorite food is perl\"\u001b[0m\n\u001b[0m         ^\u001b[0m\n\u001b[0;31mSyntaxError\u001b[0m\u001b[0;31m:\u001b[0m unterminated string literal (detected at line 1); perhaps you escaped the end quote?\n"
     ]
    }
   ],
   "source": [
    "food='python\\'s favorite food is perl\"\n",
    "print(food)\n",
    "print(type(food))"
   ]
  },
  {
   "cell_type": "code",
   "execution_count": 8,
   "id": "4fd4f310-8c59-4882-8bfe-646371684019",
   "metadata": {},
   "outputs": [
    {
     "ename": "SyntaxError",
     "evalue": "invalid syntax (2154772236.py, line 1)",
     "output_type": "error",
     "traceback": [
      "\u001b[0;36m  Cell \u001b[0;32mIn[8], line 1\u001b[0;36m\u001b[0m\n\u001b[0;31m    say='\"python is vert easy.' he says.''\u001b[0m\n\u001b[0m                                ^\u001b[0m\n\u001b[0;31mSyntaxError\u001b[0m\u001b[0;31m:\u001b[0m invalid syntax\n"
     ]
    }
   ],
   "source": [
    "say='\"python is vert easy.' he says.''"
   ]
  },
  {
   "cell_type": "code",
   "execution_count": 10,
   "id": "de0d8530-8ea6-469d-a8ba-bca889aa74cc",
   "metadata": {},
   "outputs": [
    {
     "data": {
      "text/plain": [
       "'\"python is very easy.\" he says.'"
      ]
     },
     "execution_count": 10,
     "metadata": {},
     "output_type": "execute_result"
    }
   ],
   "source": [
    "say = '\"python is very easy.\" he says.'\n",
    "say\n"
   ]
  },
  {
   "cell_type": "code",
   "execution_count": 19,
   "id": "464320c7-e416-450e-b653-81cb71a0ded8",
   "metadata": {},
   "outputs": [
    {
     "data": {
      "text/plain": [
       "'\"python is very easy.\" he says.'"
      ]
     },
     "execution_count": 19,
     "metadata": {},
     "output_type": "execute_result"
    }
   ],
   "source": [
    "say = \"\\\"python is very easy.\\\" he says.\"\n",
    "say"
   ]
  },
  {
   "cell_type": "markdown",
   "id": "98f8827e-2c32-426f-83a6-c80ad8c02699",
   "metadata": {},
   "source": [
    "### 여러줄 문자열\n"
   ]
  },
  {
   "cell_type": "code",
   "execution_count": 20,
   "id": "260d96c0-e05f-4703-bb51-7ae582f65601",
   "metadata": {},
   "outputs": [
    {
     "name": "stdout",
     "output_type": "stream",
     "text": [
      "Life is too short\n",
      " You need python\n"
     ]
    }
   ],
   "source": [
    "multiline = \"Life is too short\\n You need python\"\n",
    "print(multiline)\n"
   ]
  },
  {
   "cell_type": "code",
   "execution_count": 22,
   "id": "78b93af6-15d7-4e36-b95b-40829c03b092",
   "metadata": {},
   "outputs": [
    {
     "name": "stdout",
     "output_type": "stream",
     "text": [
      "\n",
      "Life is too short\n",
      "You need python\n",
      "\n"
     ]
    }
   ],
   "source": [
    "multiline = \"\"\"\n",
    "Life is too short\n",
    "You need python\n",
    "\"\"\"\n",
    "print(multiline)"
   ]
  },
  {
   "cell_type": "code",
   "execution_count": 24,
   "id": "018716b2-5f63-4b8b-b1bc-4b3089397d12",
   "metadata": {},
   "outputs": [
    {
     "name": "stdout",
     "output_type": "stream",
     "text": [
      "\n",
      "Life is too short\n",
      "You need python\n"
     ]
    }
   ],
   "source": [
    "multiline = '''\n",
    "Life is too short\n",
    "You need python'''\n",
    "print(multiline)\n"
   ]
  },
  {
   "cell_type": "markdown",
   "id": "c02c571d-fc20-4971-b86f-865ed1e09a32",
   "metadata": {},
   "source": [
    "### 문자열 연산\n"
   ]
  },
  {
   "cell_type": "code",
   "execution_count": 26,
   "id": "94ae9260-280f-4f14-b2e2-8203e352d86d",
   "metadata": {},
   "outputs": [
    {
     "data": {
      "text/plain": [
       "'python is fun!'"
      ]
     },
     "execution_count": 26,
     "metadata": {},
     "output_type": "execute_result"
    }
   ],
   "source": [
    "head = \"python\" \n",
    "tail = \" is fun!\"\n",
    "head + tail\n"
   ]
  },
  {
   "cell_type": "code",
   "execution_count": 28,
   "id": "45a505a2-a80e-4519-b7f0-39efd0074720",
   "metadata": {},
   "outputs": [
    {
     "name": "stdout",
     "output_type": "stream",
     "text": [
      "python python \n",
      "python python python \n"
     ]
    }
   ],
   "source": [
    "a = \"python \"\n",
    "print(a*2)\n",
    "print(a*3)"
   ]
  },
  {
   "cell_type": "code",
   "execution_count": 29,
   "id": "c5498dd2-723c-4581-9b3e-6e9d9e182e6b",
   "metadata": {},
   "outputs": [
    {
     "name": "stdout",
     "output_type": "stream",
     "text": [
      "==================================================\n",
      "python\n",
      "++++++++++++++++++++++++++++++++++++++++++++++++++\n"
     ]
    }
   ],
   "source": [
    "print('='*50)\n",
    "print('python')\n",
    "print('+'*50)"
   ]
  },
  {
   "cell_type": "markdown",
   "id": "70c9e297-75b4-44a2-a94d-e510b34027f2",
   "metadata": {},
   "source": [
    "### 문자열 길이 구하기\n"
   ]
  },
  {
   "cell_type": "code",
   "execution_count": 30,
   "id": "0882ccf3-bbac-4550-ad36-00794ec0f1a4",
   "metadata": {},
   "outputs": [
    {
     "data": {
      "text/plain": [
       "17"
      ]
     },
     "execution_count": 30,
     "metadata": {},
     "output_type": "execute_result"
    }
   ],
   "source": [
    "a = \"Life is too short\"\n",
    "len(a)\n"
   ]
  },
  {
   "cell_type": "code",
   "execution_count": 31,
   "id": "563a720b-b843-4c52-b3dd-464313fc6889",
   "metadata": {},
   "outputs": [],
   "source": [
    "a = \"Life is too short, You need Pythhon\""
   ]
  },
  {
   "cell_type": "code",
   "execution_count": 32,
   "id": "673b4438-6693-4106-8bc2-18c0ad4714e9",
   "metadata": {},
   "outputs": [
    {
     "data": {
      "text/plain": [
       "35"
      ]
     },
     "execution_count": 32,
     "metadata": {},
     "output_type": "execute_result"
    }
   ],
   "source": [
    "len(a)"
   ]
  },
  {
   "cell_type": "markdown",
   "id": "63b47680-5db2-40b0-a93b-de1f783ca2b6",
   "metadata": {},
   "source": [
    "### 문자열 인덱싱\n"
   ]
  },
  {
   "cell_type": "code",
   "execution_count": 33,
   "id": "46b4daeb-307f-4951-af04-d64f498d26ce",
   "metadata": {},
   "outputs": [
    {
     "data": {
      "text/plain": [
       "'e'"
      ]
     },
     "execution_count": 33,
     "metadata": {},
     "output_type": "execute_result"
    }
   ],
   "source": [
    "a = \"live is too short, You need Python\"\n",
    "a[3]"
   ]
  },
  {
   "cell_type": "code",
   "execution_count": 35,
   "id": "ca6198b1-fca7-42dc-9e83-64d17c991aba",
   "metadata": {},
   "outputs": [
    {
     "data": {
      "text/plain": [
       "'L'"
      ]
     },
     "execution_count": 35,
     "metadata": {},
     "output_type": "execute_result"
    }
   ],
   "source": [
    "a = \"Life is too short, You need Pythhon\"\n",
    "a[0]\n",
    "\n"
   ]
  },
  {
   "cell_type": "markdown",
   "id": "5dfc8aba-31d4-42d8-838f-8480b94a01c1",
   "metadata": {},
   "source": [
    "### 문자열 슬라이싱\n"
   ]
  },
  {
   "cell_type": "code",
   "execution_count": 42,
   "id": "5f58b6f1-f0af-4b42-9871-9b8e9c8d11e3",
   "metadata": {},
   "outputs": [
    {
     "name": "stdout",
     "output_type": "stream",
     "text": [
      "Life\n"
     ]
    }
   ],
   "source": [
    "b=a[0] + a[1] + a[2] +a[3]\n",
    "print(b)\n"
   ]
  },
  {
   "cell_type": "code",
   "execution_count": 46,
   "id": "09deb5e7-65a7-46b8-a0b0-42885f9b9077",
   "metadata": {},
   "outputs": [
    {
     "data": {
      "text/plain": [
       "'Life '"
      ]
     },
     "execution_count": 46,
     "metadata": {},
     "output_type": "execute_result"
    }
   ],
   "source": [
    "a[0:5]  # 끝번호 포함하지 않는다"
   ]
  },
  {
   "cell_type": "code",
   "execution_count": 48,
   "id": "8cb7d279-f4bb-43f1-bf30-6176f00314f8",
   "metadata": {},
   "outputs": [
    {
     "data": {
      "text/plain": [
       "'short'"
      ]
     },
     "execution_count": 48,
     "metadata": {},
     "output_type": "execute_result"
    }
   ],
   "source": [
    "# 문자열에서 short 문자 슬라이싱\n",
    "a[12:17]\n"
   ]
  },
  {
   "cell_type": "code",
   "execution_count": 49,
   "id": "d59a50e6-595c-4327-9aaa-b7810b29d843",
   "metadata": {},
   "outputs": [
    {
     "data": {
      "text/plain": [
       "''"
      ]
     },
     "execution_count": 49,
     "metadata": {},
     "output_type": "execute_result"
    }
   ],
   "source": [
    "a[28:-0]"
   ]
  }
 ],
 "metadata": {
  "kernelspec": {
   "display_name": "Python [conda env:base] *",
   "language": "python",
   "name": "conda-base-py"
  },
  "language_info": {
   "codemirror_mode": {
    "name": "ipython",
    "version": 3
   },
   "file_extension": ".py",
   "mimetype": "text/x-python",
   "name": "python",
   "nbconvert_exporter": "python",
   "pygments_lexer": "ipython3",
   "version": "3.13.5"
  }
 },
 "nbformat": 4,
 "nbformat_minor": 5
}
