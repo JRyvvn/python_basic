{
 "cells": [
  {
   "cell_type": "markdown",
   "id": "4685d4ee-9c70-4c01-ad8a-3e82f51cc68b",
   "metadata": {},
   "source": [
    "# 튜플 \n"
   ]
  },
  {
   "cell_type": "code",
   "execution_count": 1,
   "id": "f37490c7-6b6f-4321-883c-873fd2e725dc",
   "metadata": {},
   "outputs": [],
   "source": [
    "t1=()\n"
   ]
  },
  {
   "attachments": {},
   "cell_type": "markdown",
   "id": "46e431b9-199a-45c1-8555-5187c37de817",
   "metadata": {},
   "source": [
    "t1=(1,2,'a','b')\n",
    "del t1[0]\n",
    "\n",
    "### 인덱싱하기"
   ]
  },
  {
   "cell_type": "code",
   "execution_count": 3,
   "id": "55c6ac50-bf74-4d67-9921-24c0f2eef053",
   "metadata": {},
   "outputs": [],
   "source": [
    "t1=(1,2,'a','b')\n",
    "t1=[0]"
   ]
  },
  {
   "cell_type": "code",
   "execution_count": 4,
   "id": "42aada31-3b3f-4da2-9d1e-e16f3838f13f",
   "metadata": {},
   "outputs": [
    {
     "data": {
      "text/plain": [
       "0"
      ]
     },
     "execution_count": 4,
     "metadata": {},
     "output_type": "execute_result"
    }
   ],
   "source": [
    "t1[0]"
   ]
  },
  {
   "cell_type": "code",
   "execution_count": 5,
   "id": "0fee356c-88fd-48a1-abd5-ce42348a569b",
   "metadata": {},
   "outputs": [],
   "source": [
    "t1=(1,2,'a','b')\n"
   ]
  },
  {
   "attachments": {},
   "cell_type": "markdown",
   "id": "a17fb930-c986-4e43-8711-7c047d7b529d",
   "metadata": {},
   "source": [
    "t1[3]\n",
    "\n",
    "# 슬라이싱하기"
   ]
  },
  {
   "cell_type": "code",
   "execution_count": 7,
   "id": "e1b83e01-b4f7-4047-9fa5-923e43e532c7",
   "metadata": {},
   "outputs": [
    {
     "data": {
      "text/plain": [
       "(1, 2, 'a', 'b', 3, 4)"
      ]
     },
     "execution_count": 7,
     "metadata": {},
     "output_type": "execute_result"
    }
   ],
   "source": [
    "t1=(1,2,'a','b')\n",
    "t2=(3,4)\n",
    "t3=t1+t2\n",
    "t3"
   ]
  },
  {
   "cell_type": "code",
   "execution_count": 8,
   "id": "5662fcc2-659c-4e14-bb4e-47cd1fe508aa",
   "metadata": {},
   "outputs": [
    {
     "data": {
      "text/plain": [
       "4"
      ]
     },
     "execution_count": 8,
     "metadata": {},
     "output_type": "execute_result"
    }
   ],
   "source": [
    "t1=(1,2,'a','b')\n",
    "len(t1)"
   ]
  },
  {
   "cell_type": "code",
   "execution_count": 10,
   "id": "f57a66f2-5be7-4682-922f-558ce82dfeed",
   "metadata": {},
   "outputs": [
    {
     "data": {
      "text/plain": [
       "tuple"
      ]
     },
     "execution_count": 10,
     "metadata": {},
     "output_type": "execute_result"
    }
   ],
   "source": [
    "t4=1.2,'a'\n",
    "type(t4)"
   ]
  },
  {
   "cell_type": "code",
   "execution_count": null,
   "id": "e25cd4f4-1152-470d-92e5-ba6328ee328d",
   "metadata": {},
   "outputs": [],
   "source": []
  }
 ],
 "metadata": {
  "kernelspec": {
   "display_name": "Python [conda env:base] *",
   "language": "python",
   "name": "conda-base-py"
  },
  "language_info": {
   "codemirror_mode": {
    "name": "ipython",
    "version": 3
   },
   "file_extension": ".py",
   "mimetype": "text/x-python",
   "name": "python",
   "nbconvert_exporter": "python",
   "pygments_lexer": "ipython3",
   "version": "3.13.5"
  }
 },
 "nbformat": 4,
 "nbformat_minor": 5
}
