{
 "cells": [
  {
   "cell_type": "markdown",
   "id": "18726f34-1266-4521-b1ce-b7fd3fb7741a",
   "metadata": {},
   "source": [
    "# 1. if 문의 기본 구조"
   ]
  },
  {
   "cell_type": "code",
   "execution_count": 14,
   "id": "b764110e-8f42-406b-8fd5-a201c831ea31",
   "metadata": {},
   "outputs": [
    {
     "ename": "IndentationError",
     "evalue": "unexpected indent (4220479488.py, line 5)",
     "output_type": "error",
     "traceback": [
      "\u001b[0;36m  Cell \u001b[0;32mIn[14], line 5\u001b[0;36m\u001b[0m\n\u001b[0;31m    print(\"가라\")\u001b[0m\n\u001b[0m    ^\u001b[0m\n\u001b[0;31mIndentationError\u001b[0m\u001b[0;31m:\u001b[0m unexpected indent\n"
     ]
    }
   ],
   "source": [
    "money=True\n",
    "if money:\n",
    "    print(\"택시를\")\n",
    "print(\"타고\")\n",
    "    print(\"가라\")\n",
    "\n",
    "\n"
   ]
  },
  {
   "cell_type": "code",
   "execution_count": 26,
   "id": "313f94e2-2b46-4cf9-bbff-9b9148392a44",
   "metadata": {},
   "outputs": [],
   "source": [
    "money = False\n",
    "if money:\n",
    "    print(\"택시를\")\n",
    "    print(\"타고\")"
   ]
  },
  {
   "cell_type": "code",
   "execution_count": 25,
   "id": "2d3f876f-6105-462d-8345-9c341c9cfad7",
   "metadata": {},
   "outputs": [],
   "source": [
    "if money:\n",
    "    print(\"택시를 타고\")"
   ]
  },
  {
   "cell_type": "markdown",
   "id": "c20965f9-2ab8-42a7-94eb-411ebcec5de0",
   "metadata": {},
   "source": [
    "# 비교 연산자"
   ]
  },
  {
   "cell_type": "code",
   "execution_count": 30,
   "id": "1850f945-f1d7-4410-91e0-50f7cb800561",
   "metadata": {},
   "outputs": [
    {
     "name": "stdout",
     "output_type": "stream",
     "text": [
      "True\n",
      "False\n",
      "False\n",
      "True\n"
     ]
    }
   ],
   "source": [
    "x=3\n",
    "y=2\n",
    "\n",
    "print(x>y) #True\n",
    "print(x<y) #False\n",
    "print(x==y) #False\n",
    "print(x!=y) #True"
   ]
  },
  {
   "cell_type": "code",
   "execution_count": 31,
   "id": "6900f92d-b56f-4719-baa2-ca3b7b27b66c",
   "metadata": {},
   "outputs": [
    {
     "name": "stdout",
     "output_type": "stream",
     "text": [
      "걸어가라\n"
     ]
    }
   ],
   "source": [
    "money = 2000\n",
    "if money>=3000:\n",
    "    print(\"택시를 타고 가라\")\n",
    "else:\n",
    "    print(\"걸어가라\")"
   ]
  },
  {
   "cell_type": "code",
   "execution_count": 35,
   "id": "25e85cf9-7267-4e17-8853-74332ce89cd2",
   "metadata": {},
   "outputs": [
    {
     "name": "stdout",
     "output_type": "stream",
     "text": [
      "택시를 타고 가라\n"
     ]
    }
   ],
   "source": [
    "money=5000\n",
    "if money>=3000:\n",
    "    print(\"택시를 타고 가라\")"
   ]
  },
  {
   "cell_type": "code",
   "execution_count": 36,
   "id": "8e50b8c8-40b2-4704-939b-36b108ef8a95",
   "metadata": {},
   "outputs": [
    {
     "name": "stdout",
     "output_type": "stream",
     "text": [
      "택시를 타고 가라\n"
     ]
    }
   ],
   "source": [
    "nomey=2000\n",
    "card=True\n",
    "if money>=3000 or card:\n",
    "    print(\"택시를 타고 가라\")\n",
    "else:\n",
    "    print(\"걸어가라\")"
   ]
  },
  {
   "cell_type": "markdown",
   "id": "8b88254f-5c69-4f2c-a35f-6edae5422409",
   "metadata": {},
   "source": [
    "# 논리 연산자"
   ]
  },
  {
   "cell_type": "code",
   "execution_count": 38,
   "id": "5b9e995f-ee5a-4579-b065-57e755e11f8f",
   "metadata": {},
   "outputs": [
    {
     "name": "stdout",
     "output_type": "stream",
     "text": [
      "택시를 타고 가라\n"
     ]
    }
   ],
   "source": [
    "# 조건식이 x,y 가 있을때 and 는 둘다 True 일때 True 이다.\n",
    "#                    or    하나만 True 이면 True\n",
    "#                   not     True->False, False->True\n",
    "\n",
    "money=2000\n",
    "card=True\n",
    "\n",
    "if money >=3000 or card:\n",
    "    print(\"택시를 타고 가라\")\n",
    "else:\n",
    "    print(\"걸어가라\")\n"
   ]
  },
  {
   "cell_type": "code",
   "execution_count": 39,
   "id": "73220888-352c-4bd6-b421-2b0d4f2b5c02",
   "metadata": {},
   "outputs": [
    {
     "data": {
      "text/plain": [
       "True"
      ]
     },
     "execution_count": 39,
     "metadata": {},
     "output_type": "execute_result"
    }
   ],
   "source": [
    "# 튜플에서 썼던 in\n",
    "\n",
    "# in, not in\n",
    "\n",
    "1 in [1,3,4]\n"
   ]
  },
  {
   "cell_type": "code",
   "execution_count": 40,
   "id": "7b45d43a-53b7-4449-9d80-83d9bd29f53d",
   "metadata": {},
   "outputs": [
    {
     "data": {
      "text/plain": [
       "True"
      ]
     },
     "execution_count": 40,
     "metadata": {},
     "output_type": "execute_result"
    }
   ],
   "source": [
    "1 not in [2,4,5]"
   ]
  },
  {
   "cell_type": "code",
   "execution_count": 41,
   "id": "24578e5d-c06f-43e7-8dd0-1f97be1102bd",
   "metadata": {},
   "outputs": [
    {
     "data": {
      "text/plain": [
       "True"
      ]
     },
     "execution_count": 41,
     "metadata": {},
     "output_type": "execute_result"
    }
   ],
   "source": [
    "'a' in ('a','b','c')"
   ]
  },
  {
   "cell_type": "code",
   "execution_count": 46,
   "id": "06697611-47b0-4be1-b908-496e1bef394d",
   "metadata": {},
   "outputs": [
    {
     "data": {
      "text/plain": [
       "False"
      ]
     },
     "execution_count": 46,
     "metadata": {},
     "output_type": "execute_result"
    }
   ],
   "source": [
    "'d' in  ('a','b','c')"
   ]
  },
  {
   "cell_type": "code",
   "execution_count": 50,
   "id": "e413fa9e-eda5-46e4-bc61-db8142fbf98a",
   "metadata": {},
   "outputs": [
    {
     "name": "stdout",
     "output_type": "stream",
     "text": [
      "택시를 타고 가라\n"
     ]
    }
   ],
   "source": [
    "poket = ['paper','cellphone','money']\n",
    "\n",
    "if 'money' in poket:\n",
    "    print('택시를 타고 가라')\n",
    "else:\n",
    "    print(\"걸어가라\")"
   ]
  },
  {
   "cell_type": "code",
   "execution_count": 59,
   "id": "d9215ab1-b29d-4424-a297-2e83f2c743f2",
   "metadata": {},
   "outputs": [],
   "source": [
    "# 조건문에서 아무일도 하지 않게 설정하고싶다면 = pass\n",
    "\n",
    "pocket=['paper','money','cellphone']\n",
    "if 'money' in pocket:\n",
    "    pass\n",
    "else:\n",
    "    print(\"카드를 꺼내라\")\n",
    "\n",
    "    # =nothing"
   ]
  },
  {
   "cell_type": "code",
   "execution_count": 56,
   "id": "3149cbe6-263a-4dfb-a220-ab779c345be2",
   "metadata": {},
   "outputs": [
    {
     "name": "stdout",
     "output_type": "stream",
     "text": [
      "카드를 꺼내라\n"
     ]
    }
   ],
   "source": [
    "pocket=['paper','','cellphone']\n",
    "if 'money' in pocket:\n",
    "    pass\n",
    "else:\n",
    "    print(\"카드를 꺼내라\")"
   ]
  },
  {
   "cell_type": "markdown",
   "id": "0ab8fa2a-ef22-46e9-8029-c9ee5d005155",
   "metadata": {},
   "source": [
    "# 3. 다양한 조건을 판단하는 elif"
   ]
  },
  {
   "cell_type": "code",
   "execution_count": 61,
   "id": "ac9ed311-76c2-4175-baf7-c2eaba0cb20c",
   "metadata": {},
   "outputs": [],
   "source": [
    "# if 와 else 만으로는 다양한 조건을 판단하기 어렵다.\n",
    "\n",
    "#주머니에 돈이 있으면 택시를 타고가고,\n",
    "#주머니에 돈은 없지만 카드가 있으면 택시를 타고 가고, \n",
    "#돈도 없고 카드도 없으면 걸어가라."
   ]
  },
  {
   "cell_type": "code",
   "execution_count": 62,
   "id": "a8cb4d94-a280-45fc-b4cd-6c2f996e8d1c",
   "metadata": {},
   "outputs": [
    {
     "name": "stdout",
     "output_type": "stream",
     "text": [
      "택시를 타고 가라\n"
     ]
    }
   ],
   "source": [
    "# if, else 만으로 표현\n",
    "\n",
    "poket=['paper','cellphone']\n",
    "card=True\n",
    "\n",
    "if 'money' in pocket:\n",
    "    print(\"택시를 타고 가라\")\n",
    "else:\n",
    "    if card:\n",
    "        print(\"택시를 타고 가라\")\n",
    "    else:\n",
    "        print(\"걸어가라\")"
   ]
  },
  {
   "cell_type": "code",
   "execution_count": null,
   "id": "e89077c2-5eff-4ce7-aea8-9ec1fb73c360",
   "metadata": {},
   "outputs": [],
   "source": [
    "poket=['paper','cellphone']\n",
    "card=True\n",
    "\n",
    "if 'money' in pocket:\n",
    "    print(\"택시를 타고 가라\")\n",
    "elif card:\n",
    "    print(\"택시를 타고 가라\")\n",
    "else:\n",
    "    print(\"걸어가라\")"
   ]
  }
 ],
 "metadata": {
  "kernelspec": {
   "display_name": "Python [conda env:base] *",
   "language": "python",
   "name": "conda-base-py"
  },
  "language_info": {
   "codemirror_mode": {
    "name": "ipython",
    "version": 3
   },
   "file_extension": ".py",
   "mimetype": "text/x-python",
   "name": "python",
   "nbconvert_exporter": "python",
   "pygments_lexer": "ipython3",
   "version": "3.13.5"
  },
  "widgets": {
   "application/vnd.jupyter.widget-state+json": {
    "state": {},
    "version_major": 2,
    "version_minor": 0
   }
  }
 },
 "nbformat": 4,
 "nbformat_minor": 5
}
