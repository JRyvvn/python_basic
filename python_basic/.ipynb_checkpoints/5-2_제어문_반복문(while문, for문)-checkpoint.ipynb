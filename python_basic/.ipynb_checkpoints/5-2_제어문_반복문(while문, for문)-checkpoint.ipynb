{
 "cells": [
  {
   "cell_type": "markdown",
   "id": "b8d2b804-0880-4423-8a81-920fd5f3bbd2",
   "metadata": {},
   "source": [
    "## 1. while 문"
   ]
  },
  {
   "cell_type": "code",
   "execution_count": 1,
   "id": "085d2bce-7b49-400e-beb1-b9a78581b73b",
   "metadata": {},
   "outputs": [],
   "source": [
    "# 조건문이 True 인 동안에는 계속 진행\n",
    "# 조건문이 False 인 경우에는 종료.\n"
   ]
  },
  {
   "cell_type": "code",
   "execution_count": 2,
   "id": "d4dd47cd-46b5-4f0e-affa-226998030a02",
   "metadata": {},
   "outputs": [
    {
     "name": "stdout",
     "output_type": "stream",
     "text": [
      "나무를 1 번 찍었습니다.\n",
      "나무를 2 번 찍었습니다.\n",
      "나무를 3 번 찍었습니다.\n",
      "나무를 4 번 찍었습니다.\n",
      "나무를 5 번 찍었습니다.\n",
      "나무를 6 번 찍었습니다.\n",
      "나무를 7 번 찍었습니다.\n",
      "나무를 8 번 찍었습니다.\n",
      "나무를 9 번 찍었습니다.\n",
      "나무를 10 번 찍었습니다.\n",
      "나무 넘어갑니다.\n"
     ]
    }
   ],
   "source": [
    "treeHit=0\n",
    "\n",
    "while treeHit<10:\n",
    "    treeHit+=1  # \"treeHit+=1 = treeHit + 1\n",
    "    print(\"나무를 %d 번 찍었습니다.\" %treeHit)\n",
    "    if treeHit==10:\n",
    "        print(\"나무 넘어갑니다.\")"
   ]
  },
  {
   "cell_type": "markdown",
   "id": "cc77c422-ac87-4f82-9444-d4807f2d3b31",
   "metadata": {},
   "source": [
    "# while 문 만들기 - 입력 값에 따라 문자열"
   ]
  },
  {
   "cell_type": "code",
   "execution_count": 3,
   "id": "ecd6b941-c288-4af5-b661-1158aaeac1be",
   "metadata": {},
   "outputs": [],
   "source": [
    "prompt=\"\"\"\n",
    "1. Add\n",
    "2. Del\n",
    "3. List\n",
    "4. Quit\n",
    "\n",
    "Enter number:\"\"\"\n"
   ]
  },
  {
   "cell_type": "code",
   "execution_count": 4,
   "id": "68556071-6f42-453d-9067-69cfd844fb83",
   "metadata": {},
   "outputs": [
    {
     "name": "stdout",
     "output_type": "stream",
     "text": [
      "\n",
      "1. Add\n",
      "2. Del\n",
      "3. List\n",
      "4. Quit\n",
      "\n",
      "Enter number:\n"
     ]
    },
    {
     "name": "stdin",
     "output_type": "stream",
     "text": [
      " 1\n"
     ]
    },
    {
     "name": "stdout",
     "output_type": "stream",
     "text": [
      "\n",
      "1. Add\n",
      "2. Del\n",
      "3. List\n",
      "4. Quit\n",
      "\n",
      "Enter number:\n"
     ]
    },
    {
     "name": "stdin",
     "output_type": "stream",
     "text": [
      " 2\n"
     ]
    },
    {
     "name": "stdout",
     "output_type": "stream",
     "text": [
      "\n",
      "1. Add\n",
      "2. Del\n",
      "3. List\n",
      "4. Quit\n",
      "\n",
      "Enter number:\n"
     ]
    },
    {
     "name": "stdin",
     "output_type": "stream",
     "text": [
      " 3\n"
     ]
    },
    {
     "name": "stdout",
     "output_type": "stream",
     "text": [
      "\n",
      "1. Add\n",
      "2. Del\n",
      "3. List\n",
      "4. Quit\n",
      "\n",
      "Enter number:\n"
     ]
    },
    {
     "name": "stdin",
     "output_type": "stream",
     "text": [
      " 4\n"
     ]
    }
   ],
   "source": [
    "number=0\n",
    "while number !=4:\n",
    "    print(prompt)\n",
    "    number=int(input())"
   ]
  },
  {
   "cell_type": "markdown",
   "id": "18280ed2-57e5-46dd-b220-719cf152bcdc",
   "metadata": {},
   "source": [
    "# break 문 : while 문 강제로 빠져나가기\n",
    "\n",
    "# (ex) 커피 자판기 - 커피가 다 떨어졌을때 \"판매 중지\" 문구가 뜨도록 설정\n"
   ]
  },
  {
   "cell_type": "code",
   "execution_count": 5,
   "id": "d977d86a-b229-43a8-80da-19038cbe9c78",
   "metadata": {},
   "outputs": [
    {
     "name": "stdout",
     "output_type": "stream",
     "text": [
      "돈을 받았으니 커피를 줍니다.\n",
      "남은 커피의 양은 9 개 입니다.\n",
      "돈을 받았으니 커피를 줍니다.\n",
      "남은 커피의 양은 8 개 입니다.\n",
      "돈을 받았으니 커피를 줍니다.\n",
      "남은 커피의 양은 7 개 입니다.\n",
      "돈을 받았으니 커피를 줍니다.\n",
      "남은 커피의 양은 6 개 입니다.\n",
      "돈을 받았으니 커피를 줍니다.\n",
      "남은 커피의 양은 5 개 입니다.\n",
      "돈을 받았으니 커피를 줍니다.\n",
      "남은 커피의 양은 4 개 입니다.\n",
      "돈을 받았으니 커피를 줍니다.\n",
      "남은 커피의 양은 3 개 입니다.\n",
      "돈을 받았으니 커피를 줍니다.\n",
      "남은 커피의 양은 2 개 입니다.\n",
      "돈을 받았으니 커피를 줍니다.\n",
      "남은 커피의 양은 1 개 입니다.\n",
      "돈을 받았으니 커피를 줍니다.\n",
      "남은 커피의 양은 0 개 입니다.\n",
      "커피가 다 떨어졌습니다. 판매를 중지합니다.\n"
     ]
    }
   ],
   "source": [
    "coffee=10\n",
    "money=300\n",
    "while money:\n",
    "    print(\"돈을 받았으니 커피를 줍니다.\")\n",
    "    coffee-=1 #커피 양이 하나씩 줄어들기\n",
    "    print(\"남은 커피의 양은 %d 개 입니다.\" %coffee)\n",
    "    if coffee==0:\n",
    "        print(\"커피가 다 떨어졌습니다. 판매를 중지합니다.\")\n",
    "        break #반복문 강제 종료"
   ]
  },
  {
   "cell_type": "code",
   "execution_count": 11,
   "id": "1c8b2fb8-343e-491d-91d1-e8ca1d4db3a5",
   "metadata": {},
   "outputs": [
    {
     "name": "stdin",
     "output_type": "stream",
     "text": [
      "돈을 쳐 넣어라!: 700\n"
     ]
    },
    {
     "name": "stdout",
     "output_type": "stream",
     "text": [
      "거스름돈 400 를 줄게. 1개의 커피를 줄게.\n"
     ]
    },
    {
     "name": "stdin",
     "output_type": "stream",
     "text": [
      "돈을 쳐 넣어라!: 299\n"
     ]
    },
    {
     "name": "stdout",
     "output_type": "stream",
     "text": [
      "돈 냠냠\n",
      "남은 커피의 양은 9 개.\n"
     ]
    },
    {
     "name": "stdin",
     "output_type": "stream",
     "text": [
      "돈을 쳐 넣어라!: 300\n"
     ]
    },
    {
     "name": "stdout",
     "output_type": "stream",
     "text": [
      "옛다 커피!\n"
     ]
    },
    {
     "name": "stdin",
     "output_type": "stream",
     "text": [
      "돈을 쳐 넣어라!: 800\n"
     ]
    },
    {
     "name": "stdout",
     "output_type": "stream",
     "text": [
      "거스름돈 500 를 줄게. 1개의 커피를 줄게.\n"
     ]
    },
    {
     "name": "stdin",
     "output_type": "stream",
     "text": [
      "돈을 쳐 넣어라!: 200\n"
     ]
    },
    {
     "name": "stdout",
     "output_type": "stream",
     "text": [
      "돈 냠냠\n",
      "남은 커피의 양은 7 개.\n"
     ]
    },
    {
     "name": "stdin",
     "output_type": "stream",
     "text": [
      "돈을 쳐 넣어라!: 400\n"
     ]
    },
    {
     "name": "stdout",
     "output_type": "stream",
     "text": [
      "거스름돈 100 를 줄게. 1개의 커피를 줄게.\n"
     ]
    },
    {
     "name": "stdin",
     "output_type": "stream",
     "text": [
      "돈을 쳐 넣어라!: 500\n"
     ]
    },
    {
     "name": "stdout",
     "output_type": "stream",
     "text": [
      "거스름돈 200 를 줄게. 1개의 커피를 줄게.\n"
     ]
    },
    {
     "name": "stdin",
     "output_type": "stream",
     "text": [
      "돈을 쳐 넣어라!: 600\n"
     ]
    },
    {
     "name": "stdout",
     "output_type": "stream",
     "text": [
      "거스름돈 300 를 줄게. 1개의 커피를 줄게.\n"
     ]
    },
    {
     "name": "stdin",
     "output_type": "stream",
     "text": [
      "돈을 쳐 넣어라!: 100\n"
     ]
    },
    {
     "name": "stdout",
     "output_type": "stream",
     "text": [
      "돈 냠냠\n",
      "남은 커피의 양은 4 개.\n"
     ]
    },
    {
     "name": "stdin",
     "output_type": "stream",
     "text": [
      "돈을 쳐 넣어라!: 200\n"
     ]
    },
    {
     "name": "stdout",
     "output_type": "stream",
     "text": [
      "돈 냠냠\n",
      "남은 커피의 양은 4 개.\n"
     ]
    },
    {
     "name": "stdin",
     "output_type": "stream",
     "text": [
      "돈을 쳐 넣어라!: 300\n"
     ]
    },
    {
     "name": "stdout",
     "output_type": "stream",
     "text": [
      "옛다 커피!\n"
     ]
    },
    {
     "name": "stdin",
     "output_type": "stream",
     "text": [
      "돈을 쳐 넣어라!: 400\n"
     ]
    },
    {
     "name": "stdout",
     "output_type": "stream",
     "text": [
      "거스름돈 100 를 줄게. 1개의 커피를 줄게.\n"
     ]
    },
    {
     "name": "stdin",
     "output_type": "stream",
     "text": [
      "돈을 쳐 넣어라!: 500\n"
     ]
    },
    {
     "name": "stdout",
     "output_type": "stream",
     "text": [
      "거스름돈 200 를 줄게. 1개의 커피를 줄게.\n"
     ]
    },
    {
     "name": "stdin",
     "output_type": "stream",
     "text": [
      "돈을 쳐 넣어라!: 600\n"
     ]
    },
    {
     "name": "stdout",
     "output_type": "stream",
     "text": [
      "거스름돈 300 를 줄게. 1개의 커피를 줄게.\n",
      "커피 그만 먹어라. 건강에 안좋다. 판매 중지!\n"
     ]
    }
   ],
   "source": [
    "coffee=10\n",
    "while True:\n",
    "    money=int(input(\"돈을 쳐 넣어라!:\"))\n",
    "    if money ==300:\n",
    "        print(\"옛다 커피!\")\n",
    "        coffee-=1\n",
    "    elif money>300:\n",
    "        print(\"거스름돈 %d 를 줄게. 1개의 커피를 줄게.\" % (money -300))\n",
    "        coffee-=1\n",
    "    else:\n",
    "        print(\"돈 냠냠\")\n",
    "        print(\"남은 커피의 양은 %d 개.\" %coffee)\n",
    "    if coffee ==0:\n",
    "        print(\"커피 그만 먹어라. 건강에 안좋다. 판매 중지!\")\n",
    "        break\n",
    "        "
   ]
  },
  {
   "cell_type": "code",
   "execution_count": 17,
   "id": "e1b84f4f-2fd2-4998-ac18-7e89457fc28b",
   "metadata": {},
   "outputs": [
    {
     "name": "stdout",
     "output_type": "stream",
     "text": [
      "1\n",
      "3\n",
      "5\n",
      "7\n",
      "9\n"
     ]
    }
   ],
   "source": [
    "# continue 문 : 반복문 처음으로 돌아감. 다음으로 실행하지 않음. 처음으로.\n",
    "\n",
    "a=0\n",
    "while a<10:\n",
    "    a+=1\n",
    "    if a %2==0:continue\n",
    "    print(a)\n",
    "    "
   ]
  },
  {
   "cell_type": "code",
   "execution_count": 13,
   "id": "c3ce921a-8897-40bc-8086-2002874b0227",
   "metadata": {},
   "outputs": [],
   "source": [
    "# 1부터 10까지의 숫자 중 홀수만 출력하는 예이다. \n",
    "\n",
    "# a가 10보다 작은 동안 a는 1만큼씩 계속 증가한다. a % 2 == 0즉, a가 짝수이면 continue 문을 수행한다. (**** 배수)\n",
    "\n",
    "# continue 문은 뒤에 오는 print(a) 문장은 수행하지 않고while 문의 맨 처음인 조건문(a < 10)으로 돌아가게 하는 명령어이다.\n"
   ]
  },
  {
   "cell_type": "markdown",
   "id": "56476227-9c88-40ec-91e8-a25b9b759654",
   "metadata": {},
   "source": [
    "# 2.for 문"
   ]
  },
  {
   "cell_type": "code",
   "execution_count": 1,
   "id": "fa0a4786-be1c-4d99-afb5-d8c166dd4568",
   "metadata": {},
   "outputs": [
    {
     "name": "stdout",
     "output_type": "stream",
     "text": [
      "one\n",
      "two\n",
      "three\n"
     ]
    }
   ],
   "source": [
    "test_list=['one','two','three']\n",
    "for i in test_list:\n",
    "    print(i)"
   ]
  },
  {
   "cell_type": "code",
   "execution_count": 3,
   "id": "7dc57cfe-ea1d-4696-becd-de501fa7d220",
   "metadata": {},
   "outputs": [
    {
     "name": "stdout",
     "output_type": "stream",
     "text": [
      "3\n",
      "7\n",
      "11\n"
     ]
    }
   ],
   "source": [
    "# 튜플 : (1,2) 방식, 튜플은 한번 정하면 변경할 수 없다.\n",
    "a=[(1,2),(3,4),(5,6)]\n",
    "for (first,last) in a:\n",
    "    print(first+last)"
   ]
  },
  {
   "cell_type": "code",
   "execution_count": 4,
   "id": "f1052b95-608e-4776-9eac-8f36f6892a0b",
   "metadata": {},
   "outputs": [
    {
     "name": "stdout",
     "output_type": "stream",
     "text": [
      "(1, 2)\n",
      "(3, 4)\n",
      "(5, 6)\n"
     ]
    }
   ],
   "source": [
    "for i in a:\n",
    "    print(i)\n",
    "    "
   ]
  },
  {
   "cell_type": "code",
   "execution_count": 7,
   "id": "e68cd728-d775-4d04-a029-51bc8ad64eae",
   "metadata": {},
   "outputs": [
    {
     "name": "stdout",
     "output_type": "stream",
     "text": [
      "1번 학생은 합격입니다.\n",
      "2번 학생은 불합격입니다.\n",
      "3번 학생은 합격입니다.\n",
      "4번 학생은 불합격입니다.\n",
      "5번 학생은 합격입니다.\n"
     ]
    }
   ],
   "source": [
    "marks=[90,25,67,45,80]\n",
    "\n",
    "number=0\n",
    "for mark in marks:\n",
    "    number+=1\n",
    "    if mark>=60:\n",
    "        print(\"%d번 학생은 합격입니다.\" %number)\n",
    "    else:\n",
    "        print(\"%d번 학생은 불합격입니다.\" %number)"
   ]
  },
  {
   "cell_type": "code",
   "execution_count": 8,
   "id": "fa603609-3e6d-40b2-89be-d73b5cb5da39",
   "metadata": {},
   "outputs": [],
   "source": [
    "marks=[60]"
   ]
  },
  {
   "cell_type": "code",
   "execution_count": 9,
   "id": "eef3bb45-9829-475d-8ef9-a9c358a01b35",
   "metadata": {},
   "outputs": [
    {
     "name": "stdout",
     "output_type": "stream",
     "text": [
      "1번 학생은 합격입니다.\n"
     ]
    }
   ],
   "source": [
    "number=0\n",
    "for mark in marks:\n",
    "    number+=1\n",
    "    if mark>=60:\n",
    "        print(\"%d번 학생은 합격입니다.\" %number)\n",
    "    else:\n",
    "        print(\"%d번 학생은 불합격입니다.\" %number)\n",
    "        "
   ]
  },
  {
   "cell_type": "code",
   "execution_count": 16,
   "id": "33e57043-c3d4-4082-af46-59b3115aa835",
   "metadata": {},
   "outputs": [
    {
     "name": "stdout",
     "output_type": "stream",
     "text": [
      "1 번 학생 축하합니다. 합격입니다.\n",
      "3 번 학생 축하합니다. 합격입니다.\n",
      "5 번 학생 축하합니다. 합격입니다.\n"
     ]
    }
   ],
   "source": [
    "marks=[90,25,67,45,80]\n",
    "\n",
    "number=0\n",
    "for mark in marks:\n",
    "    number+=1\n",
    "    if mark<60:\n",
    "        continue\n",
    "    if mark>=60:\n",
    "        print(\"%d 번 학생 축하합니다. 합격입니다.\" %number)"
   ]
  },
  {
   "cell_type": "markdown",
   "id": "781da51f-2ae7-4ec6-afd8-53be31275edd",
   "metadata": {},
   "source": [
    " ## for 문과 함께 자주 사용하는 range 함수\n"
   ]
  },
  {
   "cell_type": "code",
   "execution_count": 17,
   "id": "e6fbf1ee-51bf-4a4a-8937-4b841fe4ac3f",
   "metadata": {},
   "outputs": [],
   "source": [
    " a=range(10)"
   ]
  },
  {
   "cell_type": "code",
   "execution_count": 18,
   "id": "5f9e10b2-fb54-44f3-90c5-b289531f19e5",
   "metadata": {},
   "outputs": [
    {
     "data": {
      "text/plain": [
       "range(0, 10)"
      ]
     },
     "execution_count": 18,
     "metadata": {},
     "output_type": "execute_result"
    }
   ],
   "source": [
    "a"
   ]
  },
  {
   "cell_type": "code",
   "execution_count": 21,
   "id": "74e724f9-b3fe-4cfd-b405-629d342da4a6",
   "metadata": {},
   "outputs": [
    {
     "name": "stdout",
     "output_type": "stream",
     "text": [
      "[0, 1, 2, 3, 4, 5, 6, 7, 8, 9]\n"
     ]
    }
   ],
   "source": [
    "print(a)"
   ]
  },
  {
   "cell_type": "code",
   "execution_count": 20,
   "id": "869fabd4-d9dd-49d4-9a69-f34e749e0595",
   "metadata": {},
   "outputs": [],
   "source": [
    "a=list(a)"
   ]
  },
  {
   "cell_type": "code",
   "execution_count": 22,
   "id": "9c8f6e31-78d9-4b49-a897-5dd854fcd543",
   "metadata": {},
   "outputs": [
    {
     "data": {
      "text/plain": [
       "[0, 1, 2, 3, 4, 5, 6, 7, 8, 9]"
      ]
     },
     "execution_count": 22,
     "metadata": {},
     "output_type": "execute_result"
    }
   ],
   "source": [
    "a"
   ]
  },
  {
   "cell_type": "code",
   "execution_count": 23,
   "id": "c4684035-25c1-4f1a-a40a-ce9577dd8fb4",
   "metadata": {},
   "outputs": [
    {
     "data": {
      "text/plain": [
       "range(1, 11)"
      ]
     },
     "execution_count": 23,
     "metadata": {},
     "output_type": "execute_result"
    }
   ],
   "source": [
    "a=range(1,11)\n",
    "a"
   ]
  },
  {
   "cell_type": "code",
   "execution_count": 24,
   "id": "4831309b-feae-488e-8628-0515ab073ca8",
   "metadata": {},
   "outputs": [
    {
     "name": "stdout",
     "output_type": "stream",
     "text": [
      "1\n",
      "3\n",
      "6\n",
      "10\n",
      "15\n",
      "21\n",
      "28\n",
      "36\n",
      "45\n",
      "55\n"
     ]
    }
   ],
   "source": [
    "add=0\n",
    "for i in range(1,11):\n",
    "    add+=i\n",
    "    print(add)"
   ]
  },
  {
   "cell_type": "code",
   "execution_count": 25,
   "id": "83609f0c-9e8d-4b69-bb92-b9ef47304c6f",
   "metadata": {},
   "outputs": [],
   "source": [
    "a=list(range(1,11))"
   ]
  },
  {
   "cell_type": "code",
   "execution_count": 26,
   "id": "669c409f-7128-4724-8800-f9be26770f9c",
   "metadata": {},
   "outputs": [
    {
     "data": {
      "text/plain": [
       "[1, 2, 3, 4, 5, 6, 7, 8, 9, 10]"
      ]
     },
     "execution_count": 26,
     "metadata": {},
     "output_type": "execute_result"
    }
   ],
   "source": [
    "a\n"
   ]
  },
  {
   "cell_type": "code",
   "execution_count": 27,
   "id": "0498af71-54a1-4fad-a313-c07475524ae6",
   "metadata": {},
   "outputs": [],
   "source": [
    "marks=[90,25,67,45,80]\n",
    "for number in range(len(marks)):\n",
    "    if marks[number]<60:\n",
    "        continue\n",
    "        print(\"%d번 학생 축하합니다. 합격입니다.\"%(number_1))"
   ]
  },
  {
   "cell_type": "code",
   "execution_count": 31,
   "id": "088d446c-5dbc-44b7-aa92-ab8485580c7d",
   "metadata": {},
   "outputs": [
    {
     "name": "stdout",
     "output_type": "stream",
     "text": [
      "2 \n",
      "4 \n",
      "6 \n",
      "8 \n",
      "10 \n",
      "12 \n",
      "14 \n",
      "16 \n",
      "18 \n",
      "3 \n",
      "6 \n",
      "9 \n",
      "12 \n",
      "15 \n",
      "18 \n",
      "21 \n",
      "24 \n",
      "27 \n",
      "4 \n",
      "8 \n",
      "12 \n",
      "16 \n",
      "20 \n",
      "24 \n",
      "28 \n",
      "32 \n",
      "36 \n",
      "5 \n",
      "10 \n",
      "15 \n",
      "20 \n",
      "25 \n",
      "30 \n",
      "35 \n",
      "40 \n",
      "45 \n",
      "6 \n",
      "12 \n",
      "18 \n",
      "24 \n",
      "30 \n",
      "36 \n",
      "42 \n",
      "48 \n",
      "54 \n",
      "7 \n",
      "14 \n",
      "21 \n",
      "28 \n",
      "35 \n",
      "42 \n",
      "49 \n",
      "56 \n",
      "63 \n",
      "8 \n",
      "16 \n",
      "24 \n",
      "32 \n",
      "40 \n",
      "48 \n",
      "56 \n",
      "64 \n",
      "72 \n",
      "9 \n",
      "18 \n",
      "27 \n",
      "36 \n",
      "45 \n",
      "54 \n",
      "63 \n",
      "72 \n",
      "81 \n"
     ]
    }
   ],
   "source": [
    "for i in range(2,10):\n",
    "    for j in range(1,10):\n",
    "        print(i*j,end=\" \")\n",
    "        print('')"
   ]
  },
  {
   "cell_type": "code",
   "execution_count": 40,
   "id": "df504f59-b14e-4372-9dfa-0106346369e6",
   "metadata": {},
   "outputs": [],
   "source": [
    "marks=[90,25,67,45,80]\n",
    "for number in range(len(marks)):\n",
    "    if marks[number]<60:\n",
    "        continue\n",
    "        print(\"%d번 학생 축하합니다. 합격입니다.\"%(number_1))"
   ]
  },
  {
   "cell_type": "raw",
   "id": "3400d893-82e1-4fde-9a4e-63fc47d4e22a",
   "metadata": {},
   "source": [
    "for i in range(2,10):\n",
    "for j in range(1,10):\n",
    "print(i*j, end=\"\")\n",
    "print(\"\")"
   ]
  },
  {
   "cell_type": "code",
   "execution_count": 69,
   "id": "9646f07b-c641-4e50-aa74-709742bcae70",
   "metadata": {
    "scrolled": true
   },
   "outputs": [
    {
     "ename": "ValueError",
     "evalue": "unsupported format character '?' (0xb2e8) at index 1",
     "output_type": "error",
     "traceback": [
      "\u001b[0;31m---------------------------------------------------------------------------\u001b[0m",
      "\u001b[0;31mValueError\u001b[0m                                Traceback (most recent call last)",
      "Cell \u001b[0;32mIn[69], line 3\u001b[0m\n\u001b[1;32m      1\u001b[0m \u001b[38;5;66;03m# 구구단\u001b[39;00m\n\u001b[1;32m      2\u001b[0m \u001b[38;5;28;01mfor\u001b[39;00m i \u001b[38;5;129;01min\u001b[39;00m \u001b[38;5;28mrange\u001b[39m(\u001b[38;5;241m2\u001b[39m,\u001b[38;5;241m10\u001b[39m):\n\u001b[0;32m----> 3\u001b[0m      \u001b[38;5;28mprint\u001b[39m(\u001b[38;5;124m\"\u001b[39m\u001b[38;5;124m%\u001b[39m\u001b[38;5;124m단\u001b[39m\u001b[38;5;124m\"\u001b[39m\u001b[38;5;241m%\u001b[39mi)\n\u001b[1;32m      4\u001b[0m \u001b[38;5;28;01mfor\u001b[39;00m j \u001b[38;5;129;01min\u001b[39;00m \u001b[38;5;28mrange\u001b[39m(\u001b[38;5;241m1\u001b[39m,\u001b[38;5;241m10\u001b[39m):\n\u001b[1;32m      5\u001b[0m     \u001b[38;5;28mprint\u001b[39m(\u001b[38;5;124m\"\u001b[39m\u001b[38;5;132;01m%d\u001b[39;00m\u001b[38;5;124m*\u001b[39m\u001b[38;5;132;01m%d\u001b[39;00m\u001b[38;5;124m=\u001b[39m\u001b[38;5;132;01m%d\u001b[39;00m\u001b[38;5;124m\"\u001b[39m\u001b[38;5;241m%\u001b[39m(i,j,i\u001b[38;5;241m*\u001b[39mj))\n",
      "\u001b[0;31mValueError\u001b[0m: unsupported format character '?' (0xb2e8) at index 1"
     ]
    }
   ],
   "source": [
    "# 구구단\n",
    "for i in range(2,10):\n",
    "     print(\"%단\"%i)\n",
    "for j in range(1,10):\n",
    "    print(\"%d*%d=%d\"%(i,j,i*j))\n",
    "    print(\"-\")"
   ]
  },
  {
   "cell_type": "code",
   "execution_count": 71,
   "id": "069adec0-a92e-4ee7-864c-ac10cf3e2ba4",
   "metadata": {},
   "outputs": [
    {
     "name": "stdout",
     "output_type": "stream",
     "text": [
      "2단\n",
      "2*1=2\n",
      "2*2=4\n",
      "2*3=6\n",
      "2*4=8\n",
      "2*5=10\n",
      "2*6=12\n",
      "2*7=14\n",
      "2*8=16\n",
      "2*9=18\n",
      "--------------------\n",
      "3단\n",
      "3*1=3\n",
      "3*2=6\n",
      "3*3=9\n",
      "3*4=12\n",
      "3*5=15\n",
      "3*6=18\n",
      "3*7=21\n",
      "3*8=24\n",
      "3*9=27\n",
      "--------------------\n",
      "4단\n",
      "4*1=4\n",
      "4*2=8\n",
      "4*3=12\n",
      "4*4=16\n",
      "4*5=20\n",
      "4*6=24\n",
      "4*7=28\n",
      "4*8=32\n",
      "4*9=36\n",
      "--------------------\n",
      "5단\n",
      "5*1=5\n",
      "5*2=10\n",
      "5*3=15\n",
      "5*4=20\n",
      "5*5=25\n",
      "5*6=30\n",
      "5*7=35\n",
      "5*8=40\n",
      "5*9=45\n",
      "--------------------\n",
      "6단\n",
      "6*1=6\n",
      "6*2=12\n",
      "6*3=18\n",
      "6*4=24\n",
      "6*5=30\n",
      "6*6=36\n",
      "6*7=42\n",
      "6*8=48\n",
      "6*9=54\n",
      "--------------------\n",
      "7단\n",
      "7*1=7\n",
      "7*2=14\n",
      "7*3=21\n",
      "7*4=28\n",
      "7*5=35\n",
      "7*6=42\n",
      "7*7=49\n",
      "7*8=56\n",
      "7*9=63\n",
      "--------------------\n",
      "8단\n",
      "8*1=8\n",
      "8*2=16\n",
      "8*3=24\n",
      "8*4=32\n",
      "8*5=40\n",
      "8*6=48\n",
      "8*7=56\n",
      "8*8=64\n",
      "8*9=72\n",
      "--------------------\n",
      "9단\n",
      "9*1=9\n",
      "9*2=18\n",
      "9*3=27\n",
      "9*4=36\n",
      "9*5=45\n",
      "9*6=54\n",
      "9*7=63\n",
      "9*8=72\n",
      "9*9=81\n",
      "--------------------\n"
     ]
    }
   ],
   "source": [
    "# 구구단\n",
    "for i in range(2,10):\n",
    "    print(f\"{i}단\")  # Using f-string instead of % formatting\n",
    "    for j in range(1,10):\n",
    "        print(\"%d*%d=%d\"%(i,j,i*j))\n",
    "    print(\"-\"*20)"
   ]
  },
  {
   "cell_type": "code",
   "execution_count": 75,
   "id": "54311da4-8b54-4fc9-99bb-44e02714cd72",
   "metadata": {},
   "outputs": [
    {
     "name": "stdout",
     "output_type": "stream",
     "text": [
      "[3]\n",
      "[3, 6]\n",
      "[3, 6, 9]\n",
      "[3, 6, 9, 12]\n"
     ]
    }
   ],
   "source": [
    "a=[1,2,3,4]\n",
    "result=[]\n",
    "for num in a:\n",
    "    result.append(num*3)\n",
    "    print(result)"
   ]
  },
  {
   "cell_type": "code",
   "execution_count": 74,
   "id": "041f33af-5a5d-4d9d-a15a-4004fa69afb0",
   "metadata": {},
   "outputs": [
    {
     "name": "stdout",
     "output_type": "stream",
     "text": [
      "[3]\n",
      "[3, 6]\n",
      "[3, 6, 9]\n",
      "[3, 6, 9, 12]\n"
     ]
    }
   ],
   "source": [
    "a = [1, 2, 3, 4]\n",
    "result = []\n",
    "for num in a:\n",
    "    result.append(num*3)  # Changed comma to period - append is a method of the list object\n",
    "    print(result)"
   ]
  },
  {
   "cell_type": "code",
   "execution_count": 76,
   "id": "35af3623-66bb-4152-a760-6e98d88354ff",
   "metadata": {},
   "outputs": [
    {
     "name": "stdout",
     "output_type": "stream",
     "text": [
      "[6, 12]\n"
     ]
    }
   ],
   "source": [
    "# 리스트 컴프리헨션으로 표현\n",
    "\n",
    "a=[1,2,3,4]\n",
    "result=[num*3 for num in a if num %2==0]\n",
    "print(result)"
   ]
  },
  {
   "cell_type": "code",
   "execution_count": 79,
   "id": "43dfdaeb-eff2-49b4-aad9-75551950e1d9",
   "metadata": {},
   "outputs": [
    {
     "ename": "IndentationError",
     "evalue": "unexpected indent (1886878739.py, line 3)",
     "output_type": "error",
     "traceback": [
      "\u001b[0;36m  Cell \u001b[0;32mIn[79], line 3\u001b[0;36m\u001b[0m\n\u001b[0;31m    print(result)\u001b[0m\n\u001b[0m    ^\u001b[0m\n\u001b[0;31mIndentationError\u001b[0m\u001b[0;31m:\u001b[0m unexpected indent\n"
     ]
    }
   ],
   "source": [
    "result=[x*y for x in range[2.10]\n",
    "       for y in range(1,10)]\n",
    "    print(result)\n"
   ]
  },
  {
   "cell_type": "code",
   "execution_count": null,
   "id": "77e2bc90-0bf7-4831-ac77-d7e31059d1c9",
   "metadata": {},
   "outputs": [],
   "source": []
  },
  {
   "cell_type": "code",
   "execution_count": 80,
   "id": "f198f724-260d-48c4-bb0c-79a0144a9f9d",
   "metadata": {},
   "outputs": [
    {
     "name": "stdout",
     "output_type": "stream",
     "text": [
      "[2, 4, 6, 8, 10, 12, 14, 16, 18, 3, 6, 9, 12, 15, 18, 21, 24, 27, 4, 8, 12, 16, 20, 24, 28, 32, 36, 5, 10, 15, 20, 25, 30, 35, 40, 45, 6, 12, 18, 24, 30, 36, 42, 48, 54, 7, 14, 21, 28, 35, 42, 49, 56, 63, 8, 16, 24, 32, 40, 48, 56, 64, 72, 9, 18, 27, 36, 45, 54, 63, 72, 81]\n"
     ]
    }
   ],
   "source": [
    "# Corrected code\n",
    "result = [x*y for x in range(2, 10)  # Changed [] to () for range function\n",
    "         for y in range(1, 10)]      # Added closing bracket for list comprehension\n",
    "print(result)                        # Fixed indentation for print statement"
   ]
  },
  {
   "cell_type": "code",
   "execution_count": 84,
   "id": "d16a025c-f1b8-4746-b1ff-8a129b26d688",
   "metadata": {},
   "outputs": [
    {
     "name": "stdout",
     "output_type": "stream",
     "text": [
      "[2, 4, 6, 8, 10, 12, 14, 16, 18, 3, 6, 9, 12, 15, 18, 21, 24, 27, 4, 8, 12, 16, 20, 24, 28, 32, 36, 5, 10, 15, 20, 25, 30, 35, 40, 45, 6, 12, 18, 24, 30, 36, 42, 48, 54, 7, 14, 21, 28, 35, 42, 49, 56, 63, 8, 16, 24, 32, 40, 48, 56, 64, 72, 9, 18, 27, 36, 45, 54, 63, 72, 81]\n"
     ]
    }
   ],
   "source": [
    "result=[x*y for x in range(2,10)\n",
    "       for y in range(1,10)]\n",
    "print(result)\n",
    "\n"
   ]
  },
  {
   "cell_type": "markdown",
   "id": "f5d5a2ee-501b-4ba5-b08e-086a0aca9d27",
   "metadata": {},
   "source": [
    "# 1)기본구조:[표현식+ofr문]\n",
    "\n",
    "\n"
   ]
  },
  {
   "cell_type": "code",
   "execution_count": 85,
   "id": "d5a92b86-bbf1-4549-b766-d112924077d7",
   "metadata": {},
   "outputs": [],
   "source": [
    "# 표현식에 변수 또는 상수를 쓰는 경우\n"
   ]
  },
  {
   "cell_type": "code",
   "execution_count": 87,
   "id": "fc47130c-ccf9-4087-bb53-b6d93817dfcb",
   "metadata": {},
   "outputs": [
    {
     "name": "stdout",
     "output_type": "stream",
     "text": [
      "[0, 0, 0, 0, 0]\n"
     ]
    }
   ],
   "source": [
    "n=5\n",
    "result=[0 for i in range(n)]\n",
    "print(result)\n"
   ]
  },
  {
   "cell_type": "code",
   "execution_count": 89,
   "id": "ce585bc5-16d9-4f03-875e-917683ec8ada",
   "metadata": {},
   "outputs": [
    {
     "name": "stdout",
     "output_type": "stream",
     "text": [
      "[0, 1, 2, 3, 4]\n"
     ]
    }
   ],
   "source": [
    "result= [i for i in range(n)]\n",
    "print(result)"
   ]
  },
  {
   "cell_type": "code",
   "execution_count": 92,
   "id": "73d9e1c1-491b-4265-b559-49a00c3a1a6a",
   "metadata": {},
   "outputs": [],
   "source": [
    "array=list(range(10)) \n",
    "result=[n for n in array]"
   ]
  },
  {
   "cell_type": "code",
   "execution_count": 93,
   "id": "5f7ddd6a-eff6-4e99-a8ee-82155f2e5cf4",
   "metadata": {},
   "outputs": [
    {
     "name": "stdout",
     "output_type": "stream",
     "text": [
      "[0, 1, 2, 3, 4, 5, 6, 7, 8, 9]\n"
     ]
    }
   ],
   "source": [
    "print(result)\n"
   ]
  },
  {
   "cell_type": "code",
   "execution_count": 94,
   "id": "698c8d1d-5fd0-4666-a448-09f96a0e122e",
   "metadata": {},
   "outputs": [],
   "source": [
    "# 표현식에 연산식이나 함수를 쓴ㄴ 경우\n",
    "\n"
   ]
  },
  {
   "cell_type": "code",
   "execution_count": 98,
   "id": "d8ad07cf-95e6-4ff7-9d5e-89f413a83f51",
   "metadata": {},
   "outputs": [
    {
     "name": "stdout",
     "output_type": "stream",
     "text": [
      "[0, 1, 4, 9, 16, 25, 36, 49, 64, 81]\n"
     ]
    }
   ],
   "source": [
    "result=[n*n for n in array]\n",
    "print(result)"
   ]
  },
  {
   "cell_type": "code",
   "execution_count": 97,
   "id": "a5d1a01b-2b8a-47c7-8ebf-75c606e7ca9e",
   "metadata": {},
   "outputs": [
    {
     "name": "stdout",
     "output_type": "stream",
     "text": [
      "[4, 13, 6]\n"
     ]
    }
   ],
   "source": [
    "str_array=[\"list\",\"comprehension\",\"python\"]\n",
    "result=[len(string) for string in str_array]\n",
    "print (result)\n"
   ]
  },
  {
   "cell_type": "code",
   "execution_count": 100,
   "id": "4bbcf19d-f048-49eb-b2a1-37827af5c6e0",
   "metadata": {},
   "outputs": [
    {
     "ename": "SyntaxError",
     "evalue": "invalid syntax (2700272070.py, line 2)",
     "output_type": "error",
     "traceback": [
      "\u001b[0;36m  Cell \u001b[0;32mIn[100], line 2\u001b[0;36m\u001b[0m\n\u001b[0;31m    retern number %5\u001b[0m\n\u001b[0m           ^\u001b[0m\n\u001b[0;31mSyntaxError\u001b[0m\u001b[0;31m:\u001b[0m invalid syntax\n"
     ]
    }
   ],
   "source": [
    "def mod_5 (number):\n",
    "    retern number %5\n",
    "result=[mod_5(n) for n in array]"
   ]
  },
  {
   "cell_type": "code",
   "execution_count": 103,
   "id": "a879911a-3e7b-46ba-9740-48276d21d78d",
   "metadata": {},
   "outputs": [],
   "source": [
    "def mod_5(number):\n",
    "    return number % 5  # Fixed typo: \"retern\" -> \"return\"\n",
    "\n",
    "# Define the array before using it\n",
    "array = [5, 10, 15, 20, 25]  # Example array, replace with your actual data\n",
    "result = [mod_5(n) for n in array]"
   ]
  },
  {
   "cell_type": "code",
   "execution_count": 105,
   "id": "6c5b2f74-ee68-4eca-aac1-cc71c4f1f02e",
   "metadata": {},
   "outputs": [
    {
     "name": "stdout",
     "output_type": "stream",
     "text": [
      "[0, 0, 0, 0, 0]\n"
     ]
    }
   ],
   "source": [
    "print(result)"
   ]
  },
  {
   "cell_type": "markdown",
   "id": "73d901ea-a92f-42d5-bf4d-37e510009585",
   "metadata": {},
   "source": [
    "## 2) [표현식+for문+조건문]"
   ]
  },
  {
   "cell_type": "code",
   "execution_count": 107,
   "id": "1772a459-b86a-430f-8e99-1437485dde05",
   "metadata": {},
   "outputs": [],
   "source": [
    "# if 문 한번 사용한 경우\n",
    "\n",
    "result=[n for n in range(10) if n%2 ==0]"
   ]
  },
  {
   "cell_type": "code",
   "execution_count": 108,
   "id": "22907b2d-7767-4a54-a1a8-da5f58811922",
   "metadata": {},
   "outputs": [
    {
     "data": {
      "text/plain": [
       "<function print(*args, sep=' ', end='\\n', file=None, flush=False)>"
      ]
     },
     "execution_count": 108,
     "metadata": {},
     "output_type": "execute_result"
    }
   ],
   "source": [
    "print"
   ]
  },
  {
   "cell_type": "code",
   "execution_count": 109,
   "id": "8b15778d-5028-48c0-8667-c88dca6634b3",
   "metadata": {},
   "outputs": [
    {
     "name": "stdout",
     "output_type": "stream",
     "text": [
      "[0, 2, 4, 6, 8]\n"
     ]
    }
   ],
   "source": [
    "print(result)"
   ]
  },
  {
   "cell_type": "code",
   "execution_count": 110,
   "id": "9000f7c2-412a-4d8e-9faa-00b458277c06",
   "metadata": {},
   "outputs": [],
   "source": [
    "array=[-1,0,-4,24,5,-10,2]"
   ]
  },
  {
   "cell_type": "code",
   "execution_count": 111,
   "id": "e83bccb8-abfa-4634-8b0a-b5dc5ed19241",
   "metadata": {},
   "outputs": [],
   "source": [
    "result=[n for n in array if n>0]"
   ]
  },
  {
   "cell_type": "code",
   "execution_count": 112,
   "id": "da4b779b-000e-4cfb-ba49-a44eb9482df7",
   "metadata": {},
   "outputs": [
    {
     "name": "stdout",
     "output_type": "stream",
     "text": [
      "[24, 5, 2]\n"
     ]
    }
   ],
   "source": [
    "print(result)"
   ]
  },
  {
   "cell_type": "code",
   "execution_count": 113,
   "id": "8c7555f0-435f-45bd-bcb1-053a8e727caf",
   "metadata": {},
   "outputs": [],
   "source": [
    "## if 여러번 사용\n",
    "\n"
   ]
  },
  {
   "cell_type": "code",
   "execution_count": 115,
   "id": "9d86c8f1-d651-4f21-a32c-9387aa11fd47",
   "metadata": {},
   "outputs": [
    {
     "name": "stdout",
     "output_type": "stream",
     "text": [
      "[3, 9, 15, 21, 27, 33, 39, 45]\n"
     ]
    }
   ],
   "source": [
    "result=[n for n in range(50) if n%3 ==0 if n%2 !=0]\n",
    "print(result)"
   ]
  },
  {
   "cell_type": "code",
   "execution_count": 116,
   "id": "a6feb69c-2110-4b21-bf67-eea9f8543cde",
   "metadata": {},
   "outputs": [
    {
     "name": "stdout",
     "output_type": "stream",
     "text": [
      "[3, 9, 15, 21, 27, 33, 39, 45]\n"
     ]
    }
   ],
   "source": [
    "result=[n for n in range(50) if n%3 ==0 and n%2 !=0]\n",
    "print(result)"
   ]
  },
  {
   "cell_type": "markdown",
   "id": "8db5cc16-5c45-4904-b85e-71e9e389b4e2",
   "metadata": {},
   "source": [
    "### [표현식+조건문+for문]\n"
   ]
  },
  {
   "cell_type": "code",
   "execution_count": 117,
   "id": "0bd52a22-90d1-4e44-a141-f83a6f156f38",
   "metadata": {},
   "outputs": [],
   "source": [
    "array=[-1,0,-4,24,5,-10,2]\n",
    "result=[n if n>0 else 0 for n in array]"
   ]
  },
  {
   "cell_type": "code",
   "execution_count": 118,
   "id": "a967f128-73ad-4a19-b3f3-e465388dd12e",
   "metadata": {},
   "outputs": [
    {
     "name": "stdout",
     "output_type": "stream",
     "text": [
      "[0, 0, 0, 24, 5, 0, 2]\n"
     ]
    }
   ],
   "source": [
    "print (result)"
   ]
  },
  {
   "cell_type": "code",
   "execution_count": 119,
   "id": "aebd4f68-1758-4792-8037-c59a88eca6ad",
   "metadata": {},
   "outputs": [
    {
     "name": "stdout",
     "output_type": "stream",
     "text": [
      "['even', 'odd', 'even', 'odd']\n"
     ]
    }
   ],
   "source": [
    "array=[0,1,2,3]\n",
    "result=['even' if n%2==0 else 'odd' for n in array]\n",
    "print(result)"
   ]
  },
  {
   "cell_type": "code",
   "execution_count": 120,
   "id": "b31cd6f1-5454-4083-bf11-893bb6997958",
   "metadata": {},
   "outputs": [],
   "source": [
    "pos=[i*j for i in range(1,4) for j in range(1,3)]"
   ]
  },
  {
   "cell_type": "code",
   "execution_count": 121,
   "id": "05952ff1-dc04-416e-9bdc-eb2a53b6c061",
   "metadata": {},
   "outputs": [
    {
     "name": "stdout",
     "output_type": "stream",
     "text": [
      "['even', 'odd', 'even', 'odd']\n"
     ]
    }
   ],
   "source": [
    "print (result)"
   ]
  },
  {
   "cell_type": "code",
   "execution_count": 122,
   "id": "09154a38-146c-46b6-8608-01ce3d25ee10",
   "metadata": {},
   "outputs": [
    {
     "name": "stdout",
     "output_type": "stream",
     "text": [
      "[1, 2, 2, 4, 3, 6]\n"
     ]
    }
   ],
   "source": [
    "print(pos)"
   ]
  },
  {
   "cell_type": "code",
   "execution_count": 123,
   "id": "d9a6b614-b653-4e61-896b-d288046d9edb",
   "metadata": {},
   "outputs": [],
   "source": [
    "## 중첩 list comprehension"
   ]
  },
  {
   "cell_type": "code",
   "execution_count": 124,
   "id": "9552bea6-39c1-4a61-8969-5b7a9e4db366",
   "metadata": {},
   "outputs": [],
   "source": [
    "result=[[0 for i in range(2)] for j in range(3)]"
   ]
  },
  {
   "cell_type": "code",
   "execution_count": 125,
   "id": "8c2d20c5-3b71-4528-a769-669f92a2381a",
   "metadata": {},
   "outputs": [
    {
     "name": "stdout",
     "output_type": "stream",
     "text": [
      "[[0, 0], [0, 0], [0, 0]]\n"
     ]
    }
   ],
   "source": [
    "print (result)"
   ]
  },
  {
   "cell_type": "code",
   "execution_count": null,
   "id": "94621756-e5fb-4681-9339-bd34d439fe01",
   "metadata": {},
   "outputs": [],
   "source": []
  },
  {
   "cell_type": "code",
   "execution_count": null,
   "id": "2bf9127a-d11d-4ca0-9d35-44d8555ca37f",
   "metadata": {},
   "outputs": [],
   "source": []
  }
 ],
 "metadata": {
  "kernelspec": {
   "display_name": "Python [conda env:base] *",
   "language": "python",
   "name": "conda-base-py"
  },
  "language_info": {
   "codemirror_mode": {
    "name": "ipython",
    "version": 3
   },
   "file_extension": ".py",
   "mimetype": "text/x-python",
   "name": "python",
   "nbconvert_exporter": "python",
   "pygments_lexer": "ipython3",
   "version": "3.13.5"
  },
  "widgets": {
   "application/vnd.jupyter.widget-state+json": {
    "state": {},
    "version_major": 2,
    "version_minor": 0
   }
  }
 },
 "nbformat": 4,
 "nbformat_minor": 5
}
