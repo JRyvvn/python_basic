{
 "cells": [
  {
   "cell_type": "code",
   "execution_count": 1,
   "id": "f145f4fd-2240-42d0-8601-c0d2688be6fb",
   "metadata": {},
   "outputs": [],
   "source": [
    "# 함수랑 클래스 되게 중요함.\n"
   ]
  },
  {
   "cell_type": "code",
   "execution_count": 2,
   "id": "c2a0a9b7-2cc3-4662-9630-888067742acb",
   "metadata": {},
   "outputs": [],
   "source": [
    "#1. 클래스는 왜 필요한가?\n",
    "\n",
    "# 프로그래머들이 가장 많이 사용하는 프로그래밍 언어 중 하나인 C 언어에는 클래스가 없다. 이 말은 굳이 클래스가 없어도 프로그램을 충분히 만들 수 있다는 뜻이다. 파이썬으로 잘 만든 프로그램을 살펴봐도 클래스를 사용하지 않고 작성한 것이 매우 많다. 즉, 클래스는 지금까지 공부한 함수나 자료형처럼 프로그램 작성을 위해 꼭 필요한 요소는 아니다.\n",
    "\n",
    "# 하지만 프로그램을 작성할 때 클래스를 적재적소에 사용하면 프로그래머가 얻을 수 있는 이익은 많다.\n"
   ]
  },
  {
   "cell_type": "code",
   "execution_count": 3,
   "id": "351644be-3446-48bf-ae80-286280c40ab9",
   "metadata": {},
   "outputs": [],
   "source": [
    "# 함수로 계산기 만들기"
   ]
  },
  {
   "cell_type": "code",
   "execution_count": 5,
   "id": "11e0eba4-0a87-44ee-9e43-f9c89ef89c6c",
   "metadata": {},
   "outputs": [
    {
     "name": "stdout",
     "output_type": "stream",
     "text": [
      "3\n",
      "7\n"
     ]
    }
   ],
   "source": [
    "result=0\n",
    "\n",
    "def add(num):\n",
    "    global result\n",
    "    result+=num\n",
    "    return result\n",
    "\n",
    "print(add(3))\n",
    "print(add(4))"
   ]
  },
  {
   "cell_type": "code",
   "execution_count": 7,
   "id": "8df3c118-167e-4ec4-98f0-db5cbe330fdd",
   "metadata": {},
   "outputs": [
    {
     "name": "stdout",
     "output_type": "stream",
     "text": [
      "3\n",
      "7\n",
      "3\n",
      "10\n"
     ]
    }
   ],
   "source": [
    "result1=0\n",
    "result2=0\n",
    "\n",
    "\n",
    "def add1(num): #계산기1\n",
    "    global result1\n",
    "    result1+=num\n",
    "    return result1\n",
    "\n",
    "def add2(num): #계산기2\n",
    "    global result2\n",
    "    result2+=num\n",
    "    return result2\n",
    "\n",
    "\n",
    "print(add1(3))\n",
    "print(add1(4))\n",
    "print(add2(3))\n",
    "print(add2(7))"
   ]
  },
  {
   "cell_type": "code",
   "execution_count": 12,
   "id": "012be784-f7bc-45cd-a82d-98f2cc0f81d8",
   "metadata": {},
   "outputs": [
    {
     "name": "stdout",
     "output_type": "stream",
     "text": [
      "3\n",
      "7\n",
      "3\n",
      "10\n"
     ]
    }
   ],
   "source": [
    "class Calculator:\n",
    "    def __init__(self):\n",
    "        self.result = 0#초기값 설정\n",
    "    def add(self,num):\n",
    "        self.result+=num\n",
    "        return self.result\n",
    "\n",
    "cal1=Calculator()\n",
    "cal2=Calculator()\n",
    "\n",
    "print(cal1.add(3))\n",
    "print(cal1.add(4))\n",
    "print(cal2.add(3))\n",
    "print(cal2.add(7))"
   ]
  },
  {
   "cell_type": "code",
   "execution_count": 15,
   "id": "4ee03e01-a1c3-4ae7-9836-2919961c19e6",
   "metadata": {},
   "outputs": [
    {
     "name": "stdout",
     "output_type": "stream",
     "text": [
      "10\n",
      "13\n",
      "18\n",
      "--------------------\n",
      "10\n",
      "13\n"
     ]
    }
   ],
   "source": [
    "# 더하기/빼기 기능이 있는 계산기의 설계도 (class)\n",
    "\n",
    "class Calculator:\n",
    "\n",
    "    def __init__(self):\n",
    "\n",
    "        self.result = 0   # 초기값 설정\n",
    "\n",
    "\n",
    "    def add(self, num):\n",
    "\n",
    "        self.result += num\n",
    "\n",
    "        return self.result\n",
    "\n",
    "\n",
    "    def sub(self, num):\n",
    "\n",
    "        self.result -= num\n",
    "\n",
    "        return self.result\n",
    "\n",
    "\n",
    "cal1=Calculator()\n",
    "print(cal1.add(10)) #0+10=10\n",
    "print(cal1.add(3)) #10+3=13\n",
    "print(cal1.add(5)) #13-5=8\n",
    "print('-'*20)\n",
    "cal2=Calculator()\n",
    "print(cal2.add(10)) #0-5=-5\n",
    "print(cal2.add(3)) #-5+20=15\n",
    "\n"
   ]
  },
  {
   "cell_type": "markdown",
   "id": "eb63f92b-97bf-410c-a633-b61c19092b80",
   "metadata": {},
   "source": [
    "# 3. 사칙연산 클래스 만들기"
   ]
  },
  {
   "cell_type": "code",
   "execution_count": 20,
   "id": "b325a135-fa84-4b02-b14f-57a85be84b9a",
   "metadata": {},
   "outputs": [],
   "source": [
    "class JRFourCal():\n",
    "    pass"
   ]
  },
  {
   "cell_type": "code",
   "execution_count": 21,
   "id": "4581ac02-69c5-4c7a-9b48-97dc57f7f420",
   "metadata": {},
   "outputs": [
    {
     "data": {
      "text/plain": [
       "__main__.JRFourCal"
      ]
     },
     "execution_count": 21,
     "metadata": {},
     "output_type": "execute_result"
    }
   ],
   "source": [
    "a=JRFourCal()\n",
    "type(a)"
   ]
  },
  {
   "cell_type": "code",
   "execution_count": 22,
   "id": "4d2e8e9e-efec-4048-9813-0415c31337b0",
   "metadata": {},
   "outputs": [],
   "source": [
    "class JRFourCal():\n",
    "    def setdata(self, first, second): #매개변수\n",
    "        self.first=first #매서드의 수행문\n",
    "        self.second=second #매서드의 수행문"
   ]
  },
  {
   "cell_type": "code",
   "execution_count": 24,
   "id": "b5452384-db85-4502-ac91-68be233b4a61",
   "metadata": {},
   "outputs": [
    {
     "name": "stdout",
     "output_type": "stream",
     "text": [
      "3 4\n"
     ]
    }
   ],
   "source": [
    "a=JRFourCal() #인스턴스 생성\n",
    "a.setdata(3,4) #매서드 호출\n",
    "\n",
    "print(a.first, a.second)"
   ]
  },
  {
   "cell_type": "code",
   "execution_count": 25,
   "id": "d922606b-8f3e-4daa-97e6-17567b80ad5e",
   "metadata": {},
   "outputs": [
    {
     "name": "stdout",
     "output_type": "stream",
     "text": [
      "\n",
      "=== 사칙연산 계산기 ===\n",
      "1. 덧셈\n",
      "2. 뺄셈\n",
      "3. 곱셈\n",
      "4. 나눗셈\n",
      "5. 종료\n"
     ]
    },
    {
     "name": "stdin",
     "output_type": "stream",
     "text": [
      "연산을 선택하세요 (1-5):  4.6\n"
     ]
    },
    {
     "name": "stdout",
     "output_type": "stream",
     "text": [
      "잘못된 선택입니다!\n",
      "\n",
      "=== 사칙연산 계산기 ===\n",
      "1. 덧셈\n",
      "2. 뺄셈\n",
      "3. 곱셈\n",
      "4. 나눗셈\n",
      "5. 종료\n"
     ]
    },
    {
     "name": "stdin",
     "output_type": "stream",
     "text": [
      "연산을 선택하세요 (1-5):  5+4\n"
     ]
    },
    {
     "name": "stdout",
     "output_type": "stream",
     "text": [
      "잘못된 선택입니다!\n",
      "\n",
      "=== 사칙연산 계산기 ===\n",
      "1. 덧셈\n",
      "2. 뺄셈\n",
      "3. 곱셈\n",
      "4. 나눗셈\n",
      "5. 종료\n"
     ]
    },
    {
     "name": "stdin",
     "output_type": "stream",
     "text": [
      "연산을 선택하세요 (1-5):  34\n"
     ]
    },
    {
     "name": "stdout",
     "output_type": "stream",
     "text": [
      "잘못된 선택입니다!\n",
      "\n",
      "=== 사칙연산 계산기 ===\n",
      "1. 덧셈\n",
      "2. 뺄셈\n",
      "3. 곱셈\n",
      "4. 나눗셈\n",
      "5. 종료\n"
     ]
    },
    {
     "name": "stdin",
     "output_type": "stream",
     "text": [
      "연산을 선택하세요 (1-5):  2,3\n"
     ]
    },
    {
     "name": "stdout",
     "output_type": "stream",
     "text": [
      "잘못된 선택입니다!\n",
      "\n",
      "=== 사칙연산 계산기 ===\n",
      "1. 덧셈\n",
      "2. 뺄셈\n",
      "3. 곱셈\n",
      "4. 나눗셈\n",
      "5. 종료\n"
     ]
    },
    {
     "name": "stdin",
     "output_type": "stream",
     "text": [
      "연산을 선택하세요 (1-5):  1\n",
      "첫 번째 숫자:  4\n",
      "두 번째 숫자:  5\n"
     ]
    },
    {
     "name": "stdout",
     "output_type": "stream",
     "text": [
      "4.0 + 5.0 = 9.0\n",
      "\n",
      "=== 사칙연산 계산기 ===\n",
      "1. 덧셈\n",
      "2. 뺄셈\n",
      "3. 곱셈\n",
      "4. 나눗셈\n",
      "5. 종료\n"
     ]
    },
    {
     "ename": "KeyboardInterrupt",
     "evalue": "Interrupted by user",
     "output_type": "error",
     "traceback": [
      "\u001b[0;31m---------------------------------------------------------------------------\u001b[0m",
      "\u001b[0;31mKeyboardInterrupt\u001b[0m                         Traceback (most recent call last)",
      "Cell \u001b[0;32mIn[25], line 65\u001b[0m\n\u001b[1;32m     63\u001b[0m \u001b[38;5;66;03m# 계산기 실행\u001b[39;00m\n\u001b[1;32m     64\u001b[0m calc \u001b[38;5;241m=\u001b[39m Calculator()\n\u001b[0;32m---> 65\u001b[0m calc\u001b[38;5;241m.\u001b[39mrun()\n",
      "Cell \u001b[0;32mIn[25], line 41\u001b[0m, in \u001b[0;36mCalculator.run\u001b[0;34m(self)\u001b[0m\n\u001b[1;32m     39\u001b[0m \u001b[38;5;28;01mwhile\u001b[39;00m \u001b[38;5;28;01mTrue\u001b[39;00m:\n\u001b[1;32m     40\u001b[0m     \u001b[38;5;28mself\u001b[39m\u001b[38;5;241m.\u001b[39mdisplay_menu()\n\u001b[0;32m---> 41\u001b[0m     choice \u001b[38;5;241m=\u001b[39m \u001b[38;5;28minput\u001b[39m(\u001b[38;5;124m\"\u001b[39m\u001b[38;5;124m연산을 선택하세요 (1-5): \u001b[39m\u001b[38;5;124m\"\u001b[39m)\n\u001b[1;32m     43\u001b[0m     \u001b[38;5;28;01mif\u001b[39;00m choice \u001b[38;5;241m==\u001b[39m \u001b[38;5;124m'\u001b[39m\u001b[38;5;124m5\u001b[39m\u001b[38;5;124m'\u001b[39m:\n\u001b[1;32m     44\u001b[0m         \u001b[38;5;28mprint\u001b[39m(\u001b[38;5;124m\"\u001b[39m\u001b[38;5;124m계산기를 종료합니다.\u001b[39m\u001b[38;5;124m\"\u001b[39m)\n",
      "File \u001b[0;32m/opt/anaconda3/lib/python3.13/site-packages/ipykernel/kernelbase.py:1282\u001b[0m, in \u001b[0;36mKernel.raw_input\u001b[0;34m(self, prompt)\u001b[0m\n\u001b[1;32m   1280\u001b[0m     msg \u001b[38;5;241m=\u001b[39m \u001b[38;5;124m\"\u001b[39m\u001b[38;5;124mraw_input was called, but this frontend does not support input requests.\u001b[39m\u001b[38;5;124m\"\u001b[39m\n\u001b[1;32m   1281\u001b[0m     \u001b[38;5;28;01mraise\u001b[39;00m StdinNotImplementedError(msg)\n\u001b[0;32m-> 1282\u001b[0m \u001b[38;5;28;01mreturn\u001b[39;00m \u001b[38;5;28mself\u001b[39m\u001b[38;5;241m.\u001b[39m_input_request(\n\u001b[1;32m   1283\u001b[0m     \u001b[38;5;28mstr\u001b[39m(prompt),\n\u001b[1;32m   1284\u001b[0m     \u001b[38;5;28mself\u001b[39m\u001b[38;5;241m.\u001b[39m_parent_ident[\u001b[38;5;124m\"\u001b[39m\u001b[38;5;124mshell\u001b[39m\u001b[38;5;124m\"\u001b[39m],\n\u001b[1;32m   1285\u001b[0m     \u001b[38;5;28mself\u001b[39m\u001b[38;5;241m.\u001b[39mget_parent(\u001b[38;5;124m\"\u001b[39m\u001b[38;5;124mshell\u001b[39m\u001b[38;5;124m\"\u001b[39m),\n\u001b[1;32m   1286\u001b[0m     password\u001b[38;5;241m=\u001b[39m\u001b[38;5;28;01mFalse\u001b[39;00m,\n\u001b[1;32m   1287\u001b[0m )\n",
      "File \u001b[0;32m/opt/anaconda3/lib/python3.13/site-packages/ipykernel/kernelbase.py:1325\u001b[0m, in \u001b[0;36mKernel._input_request\u001b[0;34m(self, prompt, ident, parent, password)\u001b[0m\n\u001b[1;32m   1322\u001b[0m \u001b[38;5;28;01mexcept\u001b[39;00m \u001b[38;5;167;01mKeyboardInterrupt\u001b[39;00m:\n\u001b[1;32m   1323\u001b[0m     \u001b[38;5;66;03m# re-raise KeyboardInterrupt, to truncate traceback\u001b[39;00m\n\u001b[1;32m   1324\u001b[0m     msg \u001b[38;5;241m=\u001b[39m \u001b[38;5;124m\"\u001b[39m\u001b[38;5;124mInterrupted by user\u001b[39m\u001b[38;5;124m\"\u001b[39m\n\u001b[0;32m-> 1325\u001b[0m     \u001b[38;5;28;01mraise\u001b[39;00m \u001b[38;5;167;01mKeyboardInterrupt\u001b[39;00m(msg) \u001b[38;5;28;01mfrom\u001b[39;00m\u001b[38;5;250m \u001b[39m\u001b[38;5;28;01mNone\u001b[39;00m\n\u001b[1;32m   1326\u001b[0m \u001b[38;5;28;01mexcept\u001b[39;00m \u001b[38;5;167;01mException\u001b[39;00m:\n\u001b[1;32m   1327\u001b[0m     \u001b[38;5;28mself\u001b[39m\u001b[38;5;241m.\u001b[39mlog\u001b[38;5;241m.\u001b[39mwarning(\u001b[38;5;124m\"\u001b[39m\u001b[38;5;124mInvalid Message:\u001b[39m\u001b[38;5;124m\"\u001b[39m, exc_info\u001b[38;5;241m=\u001b[39m\u001b[38;5;28;01mTrue\u001b[39;00m)\n",
      "\u001b[0;31mKeyboardInterrupt\u001b[0m: Interrupted by user"
     ]
    }
   ],
   "source": [
    "#\n",
    "#\n",
    "\n",
    "class Calculator:\n",
    "    def __init__(self):\n",
    "        self.operations = {\n",
    "            '1': ('덧셈', self.add),\n",
    "            '2': ('뺄셈', self.subtract),\n",
    "            '3': ('곱셈', self.multiply),\n",
    "            '4': ('나눗셈', self.divide)\n",
    "        }\n",
    "    \n",
    "    def add(self, x, y):\n",
    "        return x + y\n",
    "    \n",
    "    def subtract(self, x, y):\n",
    "        return x - y\n",
    "    \n",
    "    def multiply(self, x, y):\n",
    "        return x * y\n",
    "    \n",
    "    def divide(self, x, y):\n",
    "        if y == 0:\n",
    "            raise ValueError(\"0으로 나눌 수 없습니다!\")\n",
    "        return x / y\n",
    "    \n",
    "    def display_menu(self):\n",
    "        print(\"\\n=== 사칙연산 계산기 ===\")\n",
    "        for key, (name, _) in self.operations.items():\n",
    "            print(f\"{key}. {name}\")\n",
    "        print(\"5. 종료\")\n",
    "    \n",
    "    def get_numbers(self):\n",
    "        num1 = float(input(\"첫 번째 숫자: \"))\n",
    "        num2 = float(input(\"두 번째 숫자: \"))\n",
    "        return num1, num2\n",
    "    \n",
    "    def run(self):\n",
    "        while True:\n",
    "            self.display_menu()\n",
    "            choice = input(\"연산을 선택하세요 (1-5): \")\n",
    "            \n",
    "            if choice == '5':\n",
    "                print(\"계산기를 종료합니다.\")\n",
    "                break\n",
    "            \n",
    "            if choice in self.operations:\n",
    "                try:\n",
    "                    num1, num2 = self.get_numbers()\n",
    "                    operation_name, operation_func = self.operations[choice]\n",
    "                    result = operation_func(num1, num2)\n",
    "                    \n",
    "                    symbols = {'1': '+', '2': '-', '3': '*', '4': '/'}\n",
    "                    print(f\"{num1} {symbols[choice]} {num2} = {result}\")\n",
    "                \n",
    "                except ValueError as e:\n",
    "                    print(f\"오류: {e}\")\n",
    "                except Exception as e:\n",
    "                    print(f\"예상치 못한 오류: {e}\")\n",
    "            else:\n",
    "                print(\"잘못된 선택입니다!\")\n",
    "\n",
    "# 계산기 실행\n",
    "calc = Calculator()\n",
    "calc.run()\n",
    "    "
   ]
  },
  {
   "cell_type": "code",
   "execution_count": 26,
   "id": "9d45e760-13d4-45c3-9d5d-0acfe5d76abc",
   "metadata": {},
   "outputs": [
    {
     "name": "stdin",
     "output_type": "stream",
     "text": [
      "계산식을 입력하세요 (예: 5 + 3) 또는 'quit'로 종료:  4/3\n"
     ]
    },
    {
     "name": "stdout",
     "output_type": "stream",
     "text": [
      "결과: 1.3333333333333333\n"
     ]
    },
    {
     "name": "stdin",
     "output_type": "stream",
     "text": [
      "계산식을 입력하세요 (예: 5 + 3) 또는 'quit'로 종료:  5+2-56+22+44*8/3\n"
     ]
    },
    {
     "name": "stdout",
     "output_type": "stream",
     "text": [
      "결과: 90.33333333333333\n"
     ]
    },
    {
     "name": "stdin",
     "output_type": "stream",
     "text": [
      "계산식을 입력하세요 (예: 5 + 3) 또는 'quit'로 종료:  벼ㅑㅅ\n"
     ]
    },
    {
     "name": "stdout",
     "output_type": "stream",
     "text": [
      "허용되지 않는 문자가 포함되어 있습니다!\n"
     ]
    },
    {
     "name": "stdin",
     "output_type": "stream",
     "text": [
      "계산식을 입력하세요 (예: 5 + 3) 또는 'quit'로 종료:  quit\n"
     ]
    }
   ],
   "source": [
    "def simple_calculator():\n",
    "    while True:\n",
    "        try:\n",
    "            expression = input(\"계산식을 입력하세요 (예: 5 + 3) 또는 'quit'로 종료: \")\n",
    "            \n",
    "            if expression.lower() == 'quit':\n",
    "                break\n",
    "            \n",
    "            # 보안상 eval 사용 시 주의 필요\n",
    "            # 간단한 사칙연산만 허용하도록 검증\n",
    "            allowed_chars = set('0123456789+-*/.() ')\n",
    "            if all(c in allowed_chars for c in expression):\n",
    "                result = eval(expression)\n",
    "                print(f\"결과: {result}\")\n",
    "            else:\n",
    "                print(\"허용되지 않는 문자가 포함되어 있습니다!\")\n",
    "                \n",
    "        except ZeroDivisionError:\n",
    "            print(\"0으로 나눌 수 없습니다!\")\n",
    "        except:\n",
    "            print(\"올바른 계산식을 입력하세요!\")\n",
    "\n",
    "simple_calculator()\n"
   ]
  },
  {
   "cell_type": "markdown",
   "id": "4f82005f-589c-49c6-8d9e-2aad14f8b287",
   "metadata": {},
   "source": [
    "# 4.생성자"
   ]
  },
  {
   "cell_type": "code",
   "execution_count": 53,
   "id": "c0bae94a-b77c-44fc-adb2-a858dd54bc30",
   "metadata": {},
   "outputs": [],
   "source": [
    "class FourCal:\n",
    "    def __init__(self, first, second):  # __init__ (언더바 두 개)\n",
    "        self.first = first\n",
    "        self.second = second\n",
    "    \n",
    "    def setdata(self, first, second):   # 들여쓰기 맞춤\n",
    "        self.first = first\n",
    "        self.second = second            # 들여쓰기 맞춤\n",
    "    \n",
    "    def add(self):                      # 들여쓰기 맞춤\n",
    "        result = self.first + self.second\n",
    "        return result\n",
    "    \n",
    "    def mul(self):                      # 들여쓰기 맞춤\n",
    "        result = self.first * self.second  # 들여쓰기 맞춤\n",
    "        return result\n",
    "    \n",
    "    def sub(self):                      # 들여쓰기 맞춤\n",
    "        result = self.first - self.second\n",
    "        return result                   # 들여쓰기 맞춤\n",
    "    \n",
    "    def div(self):                      # 들여쓰기 맞춤\n",
    "        result = self.first / self.second\n",
    "        return result\n",
    "        "
   ]
  },
  {
   "cell_type": "code",
   "execution_count": 34,
   "id": "59f4604a-bbfb-4af7-a17d-02a821d36455",
   "metadata": {},
   "outputs": [],
   "source": [
    "calc1=FourCal(15,3)"
   ]
  },
  {
   "cell_type": "code",
   "execution_count": 38,
   "id": "a113fe0c-5cc0-444a-9a44-70798fdc65e0",
   "metadata": {},
   "outputs": [
    {
     "data": {
      "text/plain": [
       "15"
      ]
     },
     "execution_count": 38,
     "metadata": {},
     "output_type": "execute_result"
    }
   ],
   "source": [
    "calc1.first"
   ]
  },
  {
   "cell_type": "code",
   "execution_count": 37,
   "id": "ad8d9cd0-1a6f-4be0-9b90-845b83f13f26",
   "metadata": {},
   "outputs": [
    {
     "data": {
      "text/plain": [
       "3"
      ]
     },
     "execution_count": 37,
     "metadata": {},
     "output_type": "execute_result"
    }
   ],
   "source": [
    "calc1.second"
   ]
  },
  {
   "cell_type": "code",
   "execution_count": 39,
   "id": "7a3a414f-e020-4a5b-ae0d-d1df336970c0",
   "metadata": {},
   "outputs": [
    {
     "name": "stdout",
     "output_type": "stream",
     "text": [
      "15+3= 18\n",
      "15+3= 12\n",
      "15+3= 45\n",
      "15+3= 5.0\n"
     ]
    }
   ],
   "source": [
    "print('15+3=',calc1.add())\n",
    "print('15+3=',calc1.sub())\n",
    "print('15+3=',calc1.mul())\n",
    "print('15+3=',calc1.div())\n"
   ]
  },
  {
   "cell_type": "markdown",
   "id": "c23dcf7f-b6b5-4767-b9da-72d70fc7ea72",
   "metadata": {},
   "source": [
    "# 5. 클래스의 상속"
   ]
  },
  {
   "cell_type": "markdown",
   "id": "0c2f0f0e-0dfc-47b8-a531-bff7fc4b8740",
   "metadata": {},
   "source": [
    "## TV 리모콘의 버튼같은 개념. 스마트 티비같은 경우는 바로 들어갈수있는 버튼도 있다. 즉, 기본 기능도 있으면서 새로운 기능을 추가 시켜준다.\n",
    "\n"
   ]
  },
  {
   "cell_type": "code",
   "execution_count": 44,
   "id": "9694de38-58f4-42a1-ae81-02631dfc1e2f",
   "metadata": {},
   "outputs": [],
   "source": [
    "class MoreFourCal(FourCal):         #상속받을때는 () 가 필요하다.\n",
    "    pass\n"
   ]
  },
  {
   "cell_type": "code",
   "execution_count": 45,
   "id": "d5020035-8b34-4378-b000-3fabc8e72c65",
   "metadata": {},
   "outputs": [
    {
     "name": "stdout",
     "output_type": "stream",
     "text": [
      "15+3= 18\n",
      "15+3= 12\n",
      "15+3= 45\n",
      "15+3= 5.0\n"
     ]
    }
   ],
   "source": [
    "print('15+3=',calc1.add())\n",
    "print('15+3=',calc1.sub())\n",
    "print('15+3=',calc1.mul())\n",
    "print('15+3=',calc1.div())"
   ]
  },
  {
   "cell_type": "code",
   "execution_count": 56,
   "id": "51f7ae07-fb34-4b2f-b133-68284522b248",
   "metadata": {},
   "outputs": [],
   "source": [
    "class MoreFourCal(FourCal):\n",
    "\n",
    "    def pow(self):\n",
    "\n",
    "       result = self.first ** self.second\n",
    "\n",
    "  \n"
   ]
  },
  {
   "cell_type": "code",
   "execution_count": 58,
   "id": "54a1c44e-76e6-4c41-8008-fba9b602318b",
   "metadata": {},
   "outputs": [],
   "source": [
    "a = MoreFourCal(4, 2)\n",
    "\n",
    "a.pow()\n"
   ]
  },
  {
   "cell_type": "code",
   "execution_count": 59,
   "id": "093f742e-dc69-4b61-8fe9-516d2ed90072",
   "metadata": {},
   "outputs": [],
   "source": [
    "a.pow()"
   ]
  },
  {
   "cell_type": "code",
   "execution_count": 60,
   "id": "f2993b33-91d5-4a78-902e-f4429d50d28c",
   "metadata": {},
   "outputs": [],
   "source": [
    "cal3=MoreFourCal(4,0)"
   ]
  },
  {
   "cell_type": "code",
   "execution_count": 61,
   "id": "20ea8e73-e218-49d4-9fbc-61122952d43c",
   "metadata": {},
   "outputs": [
    {
     "name": "stdout",
     "output_type": "stream",
     "text": [
      "4\n"
     ]
    }
   ],
   "source": [
    "print(cal3.add())\n"
   ]
  },
  {
   "cell_type": "code",
   "execution_count": 64,
   "id": "d877685c-8b60-4c58-b5cb-9be8a4cbef16",
   "metadata": {},
   "outputs": [
    {
     "ename": "ZeroDivisionError",
     "evalue": "division by zero",
     "output_type": "error",
     "traceback": [
      "\u001b[0;31m---------------------------------------------------------------------------\u001b[0m",
      "\u001b[0;31mZeroDivisionError\u001b[0m                         Traceback (most recent call last)",
      "Cell \u001b[0;32mIn[64], line 1\u001b[0m\n\u001b[0;32m----> 1\u001b[0m \u001b[38;5;28mprint\u001b[39m(cal3\u001b[38;5;241m.\u001b[39mdiv())\n",
      "Cell \u001b[0;32mIn[53], line 23\u001b[0m, in \u001b[0;36mFourCal.div\u001b[0;34m(self)\u001b[0m\n\u001b[1;32m     22\u001b[0m \u001b[38;5;28;01mdef\u001b[39;00m\u001b[38;5;250m \u001b[39m\u001b[38;5;21mdiv\u001b[39m(\u001b[38;5;28mself\u001b[39m):                      \u001b[38;5;66;03m# 들여쓰기 맞춤\u001b[39;00m\n\u001b[0;32m---> 23\u001b[0m     result \u001b[38;5;241m=\u001b[39m \u001b[38;5;28mself\u001b[39m\u001b[38;5;241m.\u001b[39mfirst \u001b[38;5;241m/\u001b[39m \u001b[38;5;28mself\u001b[39m\u001b[38;5;241m.\u001b[39msecond\n",
      "\u001b[0;31mZeroDivisionError\u001b[0m: division by zero"
     ]
    }
   ],
   "source": [
    "print(cal3.div())"
   ]
  },
  {
   "cell_type": "markdown",
   "id": "200f71ac-26d1-4b2c-b819-cce9734911cb",
   "metadata": {},
   "source": [
    "## 6. 매서드 오버라이딩\n"
   ]
  },
  {
   "cell_type": "code",
   "execution_count": 65,
   "id": "bbe053b2-f144-4710-9a17-c1804f542300",
   "metadata": {},
   "outputs": [
    {
     "ename": "ZeroDivisionError",
     "evalue": "division by zero",
     "output_type": "error",
     "traceback": [
      "\u001b[0;31m---------------------------------------------------------------------------\u001b[0m",
      "\u001b[0;31mZeroDivisionError\u001b[0m                         Traceback (most recent call last)",
      "Cell \u001b[0;32mIn[65], line 2\u001b[0m\n\u001b[1;32m      1\u001b[0m a\u001b[38;5;241m=\u001b[39mFourCal(\u001b[38;5;241m4\u001b[39m,\u001b[38;5;241m0\u001b[39m)\n\u001b[0;32m----> 2\u001b[0m a\u001b[38;5;241m.\u001b[39mdiv()\n",
      "Cell \u001b[0;32mIn[53], line 23\u001b[0m, in \u001b[0;36mFourCal.div\u001b[0;34m(self)\u001b[0m\n\u001b[1;32m     22\u001b[0m \u001b[38;5;28;01mdef\u001b[39;00m\u001b[38;5;250m \u001b[39m\u001b[38;5;21mdiv\u001b[39m(\u001b[38;5;28mself\u001b[39m):                      \u001b[38;5;66;03m# 들여쓰기 맞춤\u001b[39;00m\n\u001b[0;32m---> 23\u001b[0m     result \u001b[38;5;241m=\u001b[39m \u001b[38;5;28mself\u001b[39m\u001b[38;5;241m.\u001b[39mfirst \u001b[38;5;241m/\u001b[39m \u001b[38;5;28mself\u001b[39m\u001b[38;5;241m.\u001b[39msecond\n",
      "\u001b[0;31mZeroDivisionError\u001b[0m: division by zero"
     ]
    }
   ],
   "source": [
    "a=FourCal(4,0)\n",
    "a.div()\n",
    "                        # 값이 나눠지지않아서 오류"
   ]
  },
  {
   "cell_type": "code",
   "execution_count": 66,
   "id": "83360d2b-128f-4fa6-a796-3246f9ee9e53",
   "metadata": {},
   "outputs": [],
   "source": [
    "class SafeFourCal(FourCal):\n",
    "    def div(self):\n",
    "        if self.second==0:             # 나누는 값이 0인 경우 0을 리턴하도록 수정\n",
    "            return 0\n",
    "        else:\n",
    "            return self.first / self.second"
   ]
  },
  {
   "cell_type": "code",
   "execution_count": 67,
   "id": "7c41a55c-c622-4749-821a-9f47db80f611",
   "metadata": {},
   "outputs": [],
   "source": [
    "a=SafeFourCal(4,0)"
   ]
  },
  {
   "cell_type": "code",
   "execution_count": 68,
   "id": "aa527c4d-4c97-4ece-b22a-ef9d43f54f3c",
   "metadata": {},
   "outputs": [
    {
     "data": {
      "text/plain": [
       "0"
      ]
     },
     "execution_count": 68,
     "metadata": {},
     "output_type": "execute_result"
    }
   ],
   "source": [
    "a.div()\n"
   ]
  },
  {
   "cell_type": "code",
   "execution_count": 69,
   "id": "5d0096a5-9585-4adf-9d1c-f3f287074d16",
   "metadata": {},
   "outputs": [],
   "source": [
    "calc=SafeFourCal(4,0)"
   ]
  },
  {
   "cell_type": "code",
   "execution_count": 72,
   "id": "67d1355f-d9d2-4820-9545-e3d820a0c680",
   "metadata": {},
   "outputs": [
    {
     "name": "stdout",
     "output_type": "stream",
     "text": [
      "4\n",
      "4\n",
      "0\n",
      "0\n"
     ]
    }
   ],
   "source": [
    "print(calc.add())\n",
    "print(calc.sub())\n",
    "print(calc.mul())\n",
    "print(calc.div())"
   ]
  },
  {
   "cell_type": "markdown",
   "id": "0a2fe974-a27b-4792-8d76-2f7bc7c086d3",
   "metadata": {},
   "source": [
    "##  **상속이랑 오버라이딩이 중요하다"
   ]
  },
  {
   "cell_type": "markdown",
   "id": "9f0b45fd-a6df-4069-9d1f-4cab558dbb1e",
   "metadata": {},
   "source": [
    "## 7. 클래스 변수"
   ]
  },
  {
   "cell_type": "code",
   "execution_count": 73,
   "id": "09b4214b-77bc-4c0b-9227-3e1de878f9e5",
   "metadata": {},
   "outputs": [
    {
     "data": {
      "text/plain": [
       "'김'"
      ]
     },
     "execution_count": 73,
     "metadata": {},
     "output_type": "execute_result"
    }
   ],
   "source": [
    "class Family:\n",
    "    lastname=\"김\"\n",
    "Family.lastname"
   ]
  },
  {
   "cell_type": "code",
   "execution_count": 74,
   "id": "f73820cc-e3c7-4a87-8796-ac66ed77c3a2",
   "metadata": {},
   "outputs": [
    {
     "data": {
      "text/plain": [
       "'김'"
      ]
     },
     "execution_count": 74,
     "metadata": {},
     "output_type": "execute_result"
    }
   ],
   "source": [
    "a=Family()\n",
    "b=Family()\n",
    "a.lastname"
   ]
  },
  {
   "cell_type": "code",
   "execution_count": 75,
   "id": "d530b7bd-4b66-4313-a0ba-1e34a7494890",
   "metadata": {},
   "outputs": [
    {
     "data": {
      "text/plain": [
       "'김'"
      ]
     },
     "execution_count": 75,
     "metadata": {},
     "output_type": "execute_result"
    }
   ],
   "source": [
    "b.lastname"
   ]
  },
  {
   "cell_type": "code",
   "execution_count": 78,
   "id": "747b0d69-4ca5-47c8-87db-d41e1a5b4e9b",
   "metadata": {},
   "outputs": [
    {
     "data": {
      "text/plain": [
       "'박'"
      ]
     },
     "execution_count": 78,
     "metadata": {},
     "output_type": "execute_result"
    }
   ],
   "source": [
    "Family.lastname=\"박\"\n",
    "a.lastname"
   ]
  },
  {
   "cell_type": "code",
   "execution_count": 79,
   "id": "c0f074e4-4cc8-43a4-95da-62140cebbcf8",
   "metadata": {},
   "outputs": [
    {
     "data": {
      "text/plain": [
       "'박'"
      ]
     },
     "execution_count": 79,
     "metadata": {},
     "output_type": "execute_result"
    }
   ],
   "source": [
    "b.lastname"
   ]
  },
  {
   "cell_type": "code",
   "execution_count": 80,
   "id": "2a42d7bc-d030-4312-b622-784dec8963f5",
   "metadata": {},
   "outputs": [],
   "source": [
    "# 클래스 변수와 동일한 이름의 객체변수를 생성하면? - 인스턴스 변수만 따로 변경"
   ]
  },
  {
   "cell_type": "code",
   "execution_count": 81,
   "id": "6c99f6dd-43a6-4a37-9e97-8cf697362aab",
   "metadata": {},
   "outputs": [
    {
     "data": {
      "text/plain": [
       "'최'"
      ]
     },
     "execution_count": 81,
     "metadata": {},
     "output_type": "execute_result"
    }
   ],
   "source": [
    "a.lastname=\"최\"\n",
    "a.lastname"
   ]
  },
  {
   "cell_type": "code",
   "execution_count": 82,
   "id": "43c29f81-0fbf-49a6-aa17-821e0cc75103",
   "metadata": {},
   "outputs": [
    {
     "data": {
      "text/plain": [
       "'박'"
      ]
     },
     "execution_count": 82,
     "metadata": {},
     "output_type": "execute_result"
    }
   ],
   "source": [
    "Family.lastname"
   ]
  },
  {
   "cell_type": "code",
   "execution_count": 83,
   "id": "b0dee6dc-c8ce-4142-849d-47619420d072",
   "metadata": {},
   "outputs": [
    {
     "data": {
      "text/plain": [
       "'박'"
      ]
     },
     "execution_count": 83,
     "metadata": {},
     "output_type": "execute_result"
    }
   ],
   "source": [
    "b.lastname"
   ]
  },
  {
   "cell_type": "code",
   "execution_count": 84,
   "id": "831e7c7b-0f9b-473f-9fc0-dc1764b4f45a",
   "metadata": {},
   "outputs": [],
   "source": []
  }
 ],
 "metadata": {
  "kernelspec": {
   "display_name": "Python [conda env:base] *",
   "language": "python",
   "name": "conda-base-py"
  },
  "language_info": {
   "codemirror_mode": {
    "name": "ipython",
    "version": 3
   },
   "file_extension": ".py",
   "mimetype": "text/x-python",
   "name": "python",
   "nbconvert_exporter": "python",
   "pygments_lexer": "ipython3",
   "version": "3.13.5"
  },
  "widgets": {
   "application/vnd.jupyter.widget-state+json": {
    "state": {},
    "version_major": 2,
    "version_minor": 0
   }
  }
 },
 "nbformat": 4,
 "nbformat_minor": 5
}
