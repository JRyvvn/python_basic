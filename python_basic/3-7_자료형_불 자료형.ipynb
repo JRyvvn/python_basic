{
 "cells": [
  {
   "cell_type": "markdown",
   "id": "aa94e665-d5db-4017-a9be-4cc049f0b728",
   "metadata": {
    "panel-layout": {
     "height": 60.59375,
     "visible": true,
     "width": 100
    }
   },
   "source": [
    "# 불 자료형"
   ]
  },
  {
   "cell_type": "code",
   "execution_count": 1,
   "id": "050199a7-2780-46a4-872c-88dd4247f0f4",
   "metadata": {},
   "outputs": [],
   "source": [
    "# 변수에 불 자료형 지정\n",
    "a=True\n",
    "b=False"
   ]
  },
  {
   "cell_type": "code",
   "execution_count": 2,
   "id": "560eb5db-df58-48ac-aedb-9725c811a2ae",
   "metadata": {},
   "outputs": [
    {
     "data": {
      "text/plain": [
       "bool"
      ]
     },
     "execution_count": 2,
     "metadata": {},
     "output_type": "execute_result"
    }
   ],
   "source": [
    "type(a)\n"
   ]
  },
  {
   "cell_type": "code",
   "execution_count": 3,
   "id": "bbf8a544-6d20-4515-b15e-2d503fa4f7a9",
   "metadata": {},
   "outputs": [
    {
     "data": {
      "text/plain": [
       "True"
      ]
     },
     "execution_count": 3,
     "metadata": {},
     "output_type": "execute_result"
    }
   ],
   "source": [
    "# 불 자료형은 조건문의 리턴값으로도 사용\n",
    "1==1"
   ]
  },
  {
   "cell_type": "code",
   "execution_count": 4,
   "id": "1e066baa-783e-442a-b864-8d8c3dd8cbe9",
   "metadata": {},
   "outputs": [
    {
     "data": {
      "text/plain": [
       "False"
      ]
     },
     "execution_count": 4,
     "metadata": {},
     "output_type": "execute_result"
    }
   ],
   "source": [
    "1==2"
   ]
  },
  {
   "cell_type": "code",
   "execution_count": 5,
   "id": "d9342f91-6873-4947-ae76-2ac10821cbfc",
   "metadata": {},
   "outputs": [
    {
     "data": {
      "text/plain": [
       "False"
      ]
     },
     "execution_count": 5,
     "metadata": {},
     "output_type": "execute_result"
    }
   ],
   "source": [
    "2>10\n"
   ]
  },
  {
   "cell_type": "code",
   "execution_count": 6,
   "id": "cd0fbc88-5809-4450-9eb1-1a47ff317bc0",
   "metadata": {},
   "outputs": [
    {
     "data": {
      "text/plain": [
       "True"
      ]
     },
     "execution_count": 6,
     "metadata": {},
     "output_type": "execute_result"
    }
   ],
   "source": [
    "20>10"
   ]
  },
  {
   "cell_type": "code",
   "execution_count": 7,
   "id": "51af4476-78fa-493c-b871-88372ffe09ed",
   "metadata": {},
   "outputs": [],
   "source": [
    "# 값이 있으면 True, 값이 없으면 Fales 공란이나 문자도 다 인식함."
   ]
  },
  {
   "cell_type": "markdown",
   "id": "52cb4fae-f359-43ce-b2b8-896752ac3081",
   "metadata": {},
   "source": [
    "# 자료형의 참과 거짓이 프로그램에서 어떻게 쓰이는지 간단히 알아보자."
   ]
  },
  {
   "cell_type": "code",
   "execution_count": 8,
   "id": "e80e5c0d-2224-4f17-b357-619ff6d3369b",
   "metadata": {},
   "outputs": [
    {
     "name": "stdout",
     "output_type": "stream",
     "text": [
      "4\n",
      "3\n",
      "2\n",
      "1\n"
     ]
    }
   ],
   "source": [
    "a=[1,2,3,4]\n",
    "while a:\n",
    "    print(a.pop())\n",
    "    #pop-뒤에서 하나제거"
   ]
  },
  {
   "cell_type": "code",
   "execution_count": 9,
   "id": "662a2537-0bd2-4509-902f-e2118ac97eb2",
   "metadata": {},
   "outputs": [
    {
     "data": {
      "text/plain": [
       "[]"
      ]
     },
     "execution_count": 9,
     "metadata": {},
     "output_type": "execute_result"
    }
   ],
   "source": [
    "a"
   ]
  },
  {
   "cell_type": "code",
   "execution_count": 10,
   "id": "a066b391-7a57-463b-9694-14c3f1e78bb2",
   "metadata": {},
   "outputs": [
    {
     "data": {
      "text/plain": [
       "False"
      ]
     },
     "execution_count": 10,
     "metadata": {},
     "output_type": "execute_result"
    }
   ],
   "source": [
    "bool(a)"
   ]
  },
  {
   "cell_type": "code",
   "execution_count": 11,
   "id": "067e4b59-f8fa-439b-913b-8afb8c118934",
   "metadata": {},
   "outputs": [],
   "source": [
    "if []:\n",
    "    print(\"참\")"
   ]
  },
  {
   "cell_type": "code",
   "execution_count": 12,
   "id": "698f4f50-ca4a-4067-8f9e-92c878dbcbb1",
   "metadata": {},
   "outputs": [
    {
     "ename": "SyntaxError",
     "evalue": "invalid syntax (1874738990.py, line 1)",
     "output_type": "error",
     "traceback": [
      "\u001b[0;36m  Cell \u001b[0;32mIn[12], line 1\u001b[0;36m\u001b[0m\n\u001b[0;31m    else:\u001b[0m\n\u001b[0m    ^\u001b[0m\n\u001b[0;31mSyntaxError\u001b[0m\u001b[0;31m:\u001b[0m invalid syntax\n"
     ]
    }
   ],
   "source": [
    "else:\n",
    "print(\"거짓\")"
   ]
  },
  {
   "cell_type": "code",
   "execution_count": 13,
   "id": "447460ea-7e84-43f1-8ff6-a7a8ddb765c5",
   "metadata": {},
   "outputs": [
    {
     "name": "stdout",
     "output_type": "stream",
     "text": [
      "거짓\n"
     ]
    }
   ],
   "source": [
    "if []:\n",
    "    print(\"참\")\n",
    "else:\n",
    "    print(\"거짓\")"
   ]
  },
  {
   "cell_type": "code",
   "execution_count": 15,
   "id": "76e95d42-7f50-404a-8923-f93f35bd8325",
   "metadata": {},
   "outputs": [
    {
     "name": "stdout",
     "output_type": "stream",
     "text": [
      "참\n"
     ]
    }
   ],
   "source": [
    "if [1,2,3]:\n",
    "    print(\"참\")\n",
    "else:\n",
    "    print(\"거짓\")"
   ]
  },
  {
   "cell_type": "markdown",
   "id": "f6afc893-dd9b-43eb-acb8-2b43e8ea380b",
   "metadata": {},
   "source": [
    "# 3. 불 연산 - bool()"
   ]
  },
  {
   "cell_type": "code",
   "execution_count": 18,
   "id": "9cb0fa65-fd69-4c3b-85c0-6d2b932751f6",
   "metadata": {},
   "outputs": [
    {
     "name": "stdout",
     "output_type": "stream",
     "text": [
      "False\n",
      "True\n",
      "False\n",
      "True\n",
      "False\n",
      "True\n",
      "False\n",
      "False\n",
      "True\n",
      "True\n",
      "True\n"
     ]
    }
   ],
   "source": [
    "# bool() True 인지, False 인지 식별해주는 함수\n",
    "print(bool('')) #False\n",
    "print(bool('aaa')) #True\n",
    "print(bool([])) #False\n",
    "print(bool([1,2])) #True\n",
    "print(bool({})) #False\n",
    "print(bool({'a':1,'b':2})) #True\n",
    "print(bool('')) #False\n",
    "print(bool(0)) #False\n",
    "print(bool(1)) #True\n",
    "print(bool(-1)) #True\n",
    "print(bool(2.5)) #True\n"
   ]
  },
  {
   "cell_type": "markdown",
   "id": "b1081ca3-5c4b-4f93-ae09-ed995819f21c",
   "metadata": {},
   "source": [
    "# -------------------------------------연습------------------------------------"
   ]
  },
  {
   "cell_type": "code",
   "execution_count": 19,
   "id": "0f122c86-b140-43fe-aa36-a3fb085b58c8",
   "metadata": {},
   "outputs": [
    {
     "data": {
      "text/plain": [
       "list"
      ]
     },
     "execution_count": 19,
     "metadata": {},
     "output_type": "execute_result"
    }
   ],
   "source": [
    "type(a)"
   ]
  },
  {
   "cell_type": "code",
   "execution_count": 20,
   "id": "addf6178-b9f2-4713-adbf-f3d0bd445cd0",
   "metadata": {},
   "outputs": [
    {
     "data": {
      "text/plain": [
       "bool"
      ]
     },
     "execution_count": 20,
     "metadata": {},
     "output_type": "execute_result"
    }
   ],
   "source": [
    "a=True\n",
    "type(a)"
   ]
  },
  {
   "cell_type": "code",
   "execution_count": 21,
   "id": "24542afd-5105-4c1c-9387-7cbb9f618a85",
   "metadata": {},
   "outputs": [
    {
     "data": {
      "text/plain": [
       "True"
      ]
     },
     "execution_count": 21,
     "metadata": {},
     "output_type": "execute_result"
    }
   ],
   "source": [
    "1==1"
   ]
  },
  {
   "cell_type": "code",
   "execution_count": 22,
   "id": "7f538f38-b156-49bd-8cd4-8c4fac900e00",
   "metadata": {},
   "outputs": [
    {
     "name": "stdout",
     "output_type": "stream",
     "text": [
      "4\n",
      "3\n",
      "2\n",
      "1\n"
     ]
    }
   ],
   "source": [
    "a=[1,2,3,4]\n",
    "while a:\n",
    "    print(a.pop())"
   ]
  },
  {
   "cell_type": "code",
   "execution_count": 24,
   "id": "33f80248-a1a9-4777-9f03-8f61193db14d",
   "metadata": {},
   "outputs": [
    {
     "name": "stdout",
     "output_type": "stream",
     "text": [
      "참\n"
     ]
    }
   ],
   "source": [
    "if [1,2,3,]:\n",
    "    print('참')\n",
    "\n",
    "else:\n",
    "    print('거짓')"
   ]
  },
  {
   "cell_type": "code",
   "execution_count": 25,
   "id": "af4fa44f-f789-4642-b78f-d0e68b4097e3",
   "metadata": {},
   "outputs": [
    {
     "data": {
      "text/plain": [
       "True"
      ]
     },
     "execution_count": 25,
     "metadata": {},
     "output_type": "execute_result"
    }
   ],
   "source": [
    "bool('python')"
   ]
  },
  {
   "cell_type": "code",
   "execution_count": 26,
   "id": "509e50f5-fe4a-4dc3-bc15-1958c758195a",
   "metadata": {},
   "outputs": [
    {
     "data": {
      "text/plain": [
       "False"
      ]
     },
     "execution_count": 26,
     "metadata": {},
     "output_type": "execute_result"
    }
   ],
   "source": [
    "bool()"
   ]
  },
  {
   "cell_type": "code",
   "execution_count": 27,
   "id": "577d7a04-7d38-4c1e-a46a-f665ac1615b9",
   "metadata": {},
   "outputs": [
    {
     "data": {
      "text/plain": [
       "True"
      ]
     },
     "execution_count": 27,
     "metadata": {},
     "output_type": "execute_result"
    }
   ],
   "source": [
    "bool([1,2,3])"
   ]
  },
  {
   "cell_type": "code",
   "execution_count": 28,
   "id": "0777a5cf-67ad-466b-90ff-fbab9055926f",
   "metadata": {},
   "outputs": [
    {
     "data": {
      "text/plain": [
       "False"
      ]
     },
     "execution_count": 28,
     "metadata": {},
     "output_type": "execute_result"
    }
   ],
   "source": [
    "bool([])"
   ]
  },
  {
   "cell_type": "code",
   "execution_count": null,
   "id": "679546c8-d79a-4154-a30d-9a92d463f493",
   "metadata": {},
   "outputs": [],
   "source": []
  }
 ],
 "metadata": {
  "kernelspec": {
   "display_name": "Python [conda env:base] *",
   "language": "python",
   "name": "conda-base-py"
  },
  "language_info": {
   "codemirror_mode": {
    "name": "ipython",
    "version": 3
   },
   "file_extension": ".py",
   "mimetype": "text/x-python",
   "name": "python",
   "nbconvert_exporter": "python",
   "pygments_lexer": "ipython3",
   "version": "3.13.5"
  },
  "panel-cell-order": [
   "aa94e665-d5db-4017-a9be-4cc049f0b728"
  ]
 },
 "nbformat": 4,
 "nbformat_minor": 5
}
