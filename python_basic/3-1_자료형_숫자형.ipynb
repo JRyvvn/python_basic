{
 "cells": [
  {
   "cell_type": "code",
   "execution_count": 3,
   "id": "9a1f159a-a3e3-4881-b4ab-f9628aec4df5",
   "metadata": {},
   "outputs": [
    {
     "name": "stdout",
     "output_type": "stream",
     "text": [
      "hello python!!\n",
      "hello world!!\n"
     ]
    }
   ],
   "source": [
    "print('hello python!!')\n",
    "\n",
    "print('hello world!!')\n",
    "\n",
    "a = 123\n"
   ]
  },
  {
   "cell_type": "code",
   "execution_count": 4,
   "id": "011e0460-188a-41b1-b421-26828aa8c363",
   "metadata": {},
   "outputs": [],
   "source": [
    "a = 123"
   ]
  },
  {
   "cell_type": "code",
   "execution_count": 6,
   "id": "64fef447-bdea-4c5c-bee8-1f96a1ea0298",
   "metadata": {},
   "outputs": [
    {
     "data": {
      "text/plain": [
       "123"
      ]
     },
     "execution_count": 6,
     "metadata": {},
     "output_type": "execute_result"
    }
   ],
   "source": [
    "a"
   ]
  },
  {
   "cell_type": "code",
   "execution_count": 8,
   "id": "7a2431b4-6ddf-45f0-b068-48245b785f3b",
   "metadata": {},
   "outputs": [],
   "source": [
    "a = -178\n"
   ]
  },
  {
   "cell_type": "code",
   "execution_count": 9,
   "id": "989af4ff-6445-40ac-8301-8f08124ed662",
   "metadata": {},
   "outputs": [
    {
     "data": {
      "text/plain": [
       "-178"
      ]
     },
     "execution_count": 9,
     "metadata": {},
     "output_type": "execute_result"
    }
   ],
   "source": [
    "a\n"
   ]
  },
  {
   "cell_type": "code",
   "execution_count": 10,
   "id": "4ece5f52-8957-4269-a571-bd4cb3a55c94",
   "metadata": {},
   "outputs": [],
   "source": [
    "a = 0"
   ]
  },
  {
   "cell_type": "code",
   "execution_count": 12,
   "id": "84b2da2f-2536-4119-9afa-dfb6500f0219",
   "metadata": {},
   "outputs": [
    {
     "data": {
      "text/plain": [
       "0"
      ]
     },
     "execution_count": 12,
     "metadata": {},
     "output_type": "execute_result"
    }
   ],
   "source": [
    "a\n"
   ]
  },
  {
   "cell_type": "code",
   "execution_count": 14,
   "id": "7ef8b529-d733-474c-ae6b-39bdbd51abfa",
   "metadata": {},
   "outputs": [
    {
     "data": {
      "text/plain": [
       "int"
      ]
     },
     "execution_count": 14,
     "metadata": {},
     "output_type": "execute_result"
    }
   ],
   "source": [
    "type(a)\n"
   ]
  },
  {
   "cell_type": "code",
   "execution_count": 15,
   "id": "81c91ce8-405f-4261-8ab6-ae961e213ba2",
   "metadata": {},
   "outputs": [],
   "source": [
    "a = 1.2"
   ]
  },
  {
   "cell_type": "code",
   "execution_count": 17,
   "id": "0801fb63-31f2-4af8-93e2-7849773ab94f",
   "metadata": {},
   "outputs": [
    {
     "name": "stdout",
     "output_type": "stream",
     "text": [
      "1.2\n",
      "<class 'float'>\n"
     ]
    }
   ],
   "source": [
    "print(a)\n",
    "print(type(a))\n"
   ]
  },
  {
   "cell_type": "code",
   "execution_count": 19,
   "id": "e4768959-d926-4637-b682-3dc25c2cefeb",
   "metadata": {},
   "outputs": [
    {
     "name": "stdout",
     "output_type": "stream",
     "text": [
      "4.24\n",
      "<class 'float'>\n"
     ]
    }
   ],
   "source": [
    "a=4.24\n",
    "print(a)\n",
    "print(type(a))\n"
   ]
  },
  {
   "cell_type": "code",
   "execution_count": 21,
   "id": "f2e836d3-a421-4627-b660-92a6f9ec98e2",
   "metadata": {},
   "outputs": [
    {
     "name": "stdout",
     "output_type": "stream",
     "text": [
      "127\n",
      "<class 'int'>\n"
     ]
    }
   ],
   "source": [
    "a=0o177\n",
    "print(a)\n",
    "print(type(a))"
   ]
  },
  {
   "cell_type": "code",
   "execution_count": 23,
   "id": "c7318768-fdf8-4ee0-8b46-cf6b02093c84",
   "metadata": {},
   "outputs": [
    {
     "data": {
      "text/plain": [
       "7"
      ]
     },
     "execution_count": 23,
     "metadata": {},
     "output_type": "execute_result"
    }
   ],
   "source": [
    "a=3\n",
    "b=4\n",
    "a+b"
   ]
  },
  {
   "cell_type": "code",
   "execution_count": 25,
   "id": "b8d94452-2b2d-4361-ab3c-6ac365bfe4f8",
   "metadata": {},
   "outputs": [
    {
     "data": {
      "text/plain": [
       "81"
      ]
     },
     "execution_count": 25,
     "metadata": {},
     "output_type": "execute_result"
    }
   ],
   "source": [
    "a**b\n"
   ]
  },
  {
   "cell_type": "code",
   "execution_count": 27,
   "id": "7596b1c1-784f-4bb2-8669-e6553bf89c8e",
   "metadata": {},
   "outputs": [
    {
     "data": {
      "text/plain": [
       "1"
      ]
     },
     "execution_count": 27,
     "metadata": {},
     "output_type": "execute_result"
    }
   ],
   "source": [
    "7%3\n"
   ]
  },
  {
   "cell_type": "code",
   "execution_count": 29,
   "id": "80c76ba4-22a8-49d8-942c-8dd7b5eff943",
   "metadata": {},
   "outputs": [
    {
     "data": {
      "text/plain": [
       "0"
      ]
     },
     "execution_count": 29,
     "metadata": {},
     "output_type": "execute_result"
    }
   ],
   "source": [
    "4%2"
   ]
  },
  {
   "cell_type": "code",
   "execution_count": 31,
   "id": "92a4da45-1988-45cf-b480-54a7a09a8d94",
   "metadata": {},
   "outputs": [
    {
     "data": {
      "text/plain": [
       "1.75"
      ]
     },
     "execution_count": 31,
     "metadata": {},
     "output_type": "execute_result"
    }
   ],
   "source": [
    "7/4"
   ]
  },
  {
   "cell_type": "code",
   "execution_count": 58,
   "id": "a424bf8c-07f1-458d-8c75-bf565dc9e93d",
   "metadata": {},
   "outputs": [],
   "source": [
    "# ㄴㅁㅇㄹㅇㄴㄹ\n"
   ]
  },
  {
   "cell_type": "markdown",
   "id": "f9becc30-c5ca-4a8a-bc4f-3237dcf87812",
   "metadata": {},
   "source": [
    "#### 7//4"
   ]
  },
  {
   "cell_type": "code",
   "execution_count": null,
   "id": "41470b08-94c4-4b3b-b95e-8bc27e674fa8",
   "metadata": {},
   "outputs": [],
   "source": []
  },
  {
   "cell_type": "code",
   "execution_count": 33,
   "id": "13c94c95-d853-48e5-8d8e-7bb2a76548ac",
   "metadata": {},
   "outputs": [
    {
     "data": {
      "text/plain": [
       "1"
      ]
     },
     "execution_count": 33,
     "metadata": {},
     "output_type": "execute_result"
    }
   ],
   "source": [
    "7//4"
   ]
  },
  {
   "cell_type": "code",
   "execution_count": 36,
   "id": "4d028d42-5f99-4452-af6a-9e46424a79ee",
   "metadata": {},
   "outputs": [
    {
     "data": {
      "text/plain": [
       "4"
      ]
     },
     "execution_count": 36,
     "metadata": {},
     "output_type": "execute_result"
    }
   ],
   "source": [
    "a=4\n",
    "b=7\n",
    "c=1\n",
    "a%b//c\n"
   ]
  },
  {
   "cell_type": "code",
   "execution_count": 64,
   "id": "2a60e198-85fa-4b4d-94b3-cbaee858f8c9",
   "metadata": {},
   "outputs": [
    {
     "data": {
      "text/plain": [
       "7"
      ]
     },
     "execution_count": 64,
     "metadata": {},
     "output_type": "execute_result"
    }
   ],
   "source": [
    "a\n",
    "b\n"
   ]
  },
  {
   "cell_type": "code",
   "execution_count": 65,
   "id": "a7267e69-174a-40f1-9598-a668eecf665a",
   "metadata": {},
   "outputs": [
    {
     "data": {
      "text/plain": [
       "4"
      ]
     },
     "execution_count": 65,
     "metadata": {},
     "output_type": "execute_result"
    }
   ],
   "source": [
    "a\n"
   ]
  },
  {
   "cell_type": "code",
   "execution_count": 66,
   "id": "a3e2bfa3-2f5d-4ee1-a04a-c7cbbe02f3cc",
   "metadata": {},
   "outputs": [],
   "source": [
    "### 정수형\n"
   ]
  },
  {
   "cell_type": "code",
   "execution_count": 67,
   "id": "662298f5-65b5-4698-b30e-bbc2df0309f0",
   "metadata": {},
   "outputs": [
    {
     "ename": "NameError",
     "evalue": "name 'd' is not defined",
     "output_type": "error",
     "traceback": [
      "\u001b[0;31m---------------------------------------------------------------------------\u001b[0m",
      "\u001b[0;31mNameError\u001b[0m                                 Traceback (most recent call last)",
      "Cell \u001b[0;32mIn[67], line 1\u001b[0m\n\u001b[0;32m----> 1\u001b[0m d\n\u001b[1;32m      2\u001b[0m a\n\u001b[1;32m      3\u001b[0m printa\n",
      "\u001b[0;31mNameError\u001b[0m: name 'd' is not defined"
     ]
    }
   ],
   "source": [
    "d\n",
    "a\n",
    "printa\n"
   ]
  },
  {
   "cell_type": "markdown",
   "id": "774b1e28-ccdd-4f1b-8e56-a58d48907e0c",
   "metadata": {},
   "source": [
    "# Assistant\n",
    "The error occurs because you're trying to use variables (`d` and `a`) that haven't been defined, and there's also a typo in the `print` function.\n",
    "\n",
    "In Python, you need to define variables before using them, and built-in functions like `print` need to be spelled correctly.\n",
    "\n",
    "Would you like me to provide the corrected code?"
   ]
  },
  {
   "cell_type": "markdown",
   "id": "47d469f9-2d96-47b1-a54c-51796d982f89",
   "metadata": {},
   "source": [
    "# python\n",
    "## 1. 자료형-숫자\n",
    "\n"
   ]
  },
  {
   "cell_type": "code",
   "execution_count": null,
   "id": "6a3dd569-fd1a-4719-b9c7-753e591cc784",
   "metadata": {},
   "outputs": [],
   "source": [
    "### 정수형\n",
    "\n",
    "\n"
   ]
  }
 ],
 "metadata": {
  "kernelspec": {
   "display_name": "Python [conda env:base] *",
   "language": "python",
   "name": "conda-base-py"
  },
  "language_info": {
   "codemirror_mode": {
    "name": "ipython",
    "version": 3
   },
   "file_extension": ".py",
   "mimetype": "text/x-python",
   "name": "python",
   "nbconvert_exporter": "python",
   "pygments_lexer": "ipython3",
   "version": "3.13.5"
  }
 },
 "nbformat": 4,
 "nbformat_minor": 5
}
