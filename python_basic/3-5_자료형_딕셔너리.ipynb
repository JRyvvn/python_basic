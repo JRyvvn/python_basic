{
 "cells": [
  {
   "cell_type": "markdown",
   "id": "43c5d083-cdf9-4ee4-86f8-104a521a8ab9",
   "metadata": {},
   "source": [
    "# 딕셔너리 활용"
   ]
  },
  {
   "cell_type": "code",
   "execution_count": 1,
   "id": "c1e07c0a-60e1-4815-8697-2e74e30ce8d5",
   "metadata": {},
   "outputs": [],
   "source": [
    "dic={'name': 'jang','phone':'010-2222-3333','birth':'0313'}"
   ]
  },
  {
   "cell_type": "markdown",
   "id": "10188b7b-bd38-4354-90a0-645495a46565",
   "metadata": {},
   "source": [
    "# 딕셔너리 쌍 추가, 삭제하기\n"
   ]
  },
  {
   "cell_type": "code",
   "execution_count": 2,
   "id": "7274df13-7d82-4ba7-afaf-d5b2de5514ed",
   "metadata": {},
   "outputs": [
    {
     "data": {
      "text/plain": [
       "{1: 'a', 2: 'b'}"
      ]
     },
     "execution_count": 2,
     "metadata": {},
     "output_type": "execute_result"
    }
   ],
   "source": [
    "a={1:'a'}\n",
    "a[2]='b'\n",
    "a"
   ]
  },
  {
   "cell_type": "code",
   "execution_count": 3,
   "id": "f3387af5-63a7-4199-9c15-9a07fb2ca54a",
   "metadata": {},
   "outputs": [
    {
     "data": {
      "text/plain": [
       "{1: 'a', 2: 'b', 'name': 'jws'}"
      ]
     },
     "execution_count": 3,
     "metadata": {},
     "output_type": "execute_result"
    }
   ],
   "source": [
    "a['name']='jws'\n",
    "a"
   ]
  },
  {
   "cell_type": "code",
   "execution_count": 4,
   "id": "e0148e13-34fb-4cf5-9336-8425a0720e13",
   "metadata": {},
   "outputs": [],
   "source": [
    "a[3]=[1,2,3]"
   ]
  },
  {
   "cell_type": "code",
   "execution_count": 5,
   "id": "adab2b8f-1a85-4540-ac97-79e887036e1b",
   "metadata": {},
   "outputs": [
    {
     "data": {
      "text/plain": [
       "{1: 'a', 2: 'b', 'name': 'jws', 3: [1, 2, 3]}"
      ]
     },
     "execution_count": 5,
     "metadata": {},
     "output_type": "execute_result"
    }
   ],
   "source": [
    "a"
   ]
  },
  {
   "cell_type": "code",
   "execution_count": 6,
   "id": "e6a05f34-3b81-47a5-b8f5-a2e0281c5555",
   "metadata": {},
   "outputs": [
    {
     "data": {
      "text/plain": [
       "{2: 'b', 'name': 'jws', 3: [1, 2, 3]}"
      ]
     },
     "execution_count": 6,
     "metadata": {},
     "output_type": "execute_result"
    }
   ],
   "source": [
    "del a[1]\n",
    "a"
   ]
  },
  {
   "cell_type": "markdown",
   "id": "0a44d2c8-c2e1-4bff-8d22-904626195906",
   "metadata": {},
   "source": [
    "# 딕셔너리를 사용하는 방법"
   ]
  },
  {
   "cell_type": "code",
   "execution_count": 7,
   "id": "72a755f7-41bb-4840-9d1e-be9f8924c33e",
   "metadata": {},
   "outputs": [
    {
     "data": {
      "text/plain": [
       "10"
      ]
     },
     "execution_count": 7,
     "metadata": {},
     "output_type": "execute_result"
    }
   ],
   "source": [
    "grade={'pey':10, 'julliet':99, 'jws':100}\n",
    "grade['pey']"
   ]
  },
  {
   "cell_type": "code",
   "execution_count": 11,
   "id": "22553971-8213-4eb6-a89b-bac8ac48e1e2",
   "metadata": {},
   "outputs": [
    {
     "data": {
      "text/plain": [
       "100"
      ]
     },
     "execution_count": 11,
     "metadata": {},
     "output_type": "execute_result"
    }
   ],
   "source": [
    "grade['jws']"
   ]
  },
  {
   "cell_type": "code",
   "execution_count": 9,
   "id": "37550515-deef-4eeb-8b54-f613684bcde3",
   "metadata": {},
   "outputs": [
    {
     "data": {
      "text/plain": [
       "100"
      ]
     },
     "execution_count": 9,
     "metadata": {},
     "output_type": "execute_result"
    }
   ],
   "source": [
    "grade['jws']\n"
   ]
  },
  {
   "cell_type": "code",
   "execution_count": 12,
   "id": "8c80b3e5-a2ea-4363-b9f2-015561714e9f",
   "metadata": {},
   "outputs": [
    {
     "name": "stdout",
     "output_type": "stream",
     "text": [
      "100\n",
      "10\n"
     ]
    }
   ],
   "source": [
    "print(grade['jws'])\n",
    "print(grade['pey'])"
   ]
  },
  {
   "cell_type": "code",
   "execution_count": 13,
   "id": "31641584-16cf-4666-9e26-a3f6ac90cdb4",
   "metadata": {},
   "outputs": [
    {
     "data": {
      "text/plain": [
       "'a'"
      ]
     },
     "execution_count": 13,
     "metadata": {},
     "output_type": "execute_result"
    }
   ],
   "source": [
    "a={1:'a',2:'b'}\n",
    "a[1]"
   ]
  },
  {
   "cell_type": "code",
   "execution_count": 14,
   "id": "84ccdded-afee-462d-a9db-8ee24ff2c977",
   "metadata": {},
   "outputs": [
    {
     "data": {
      "text/plain": [
       "'b'"
      ]
     },
     "execution_count": 14,
     "metadata": {},
     "output_type": "execute_result"
    }
   ],
   "source": [
    "a[2]"
   ]
  },
  {
   "cell_type": "code",
   "execution_count": 15,
   "id": "dcca41f5-71ae-442e-a915-37a785b4f72c",
   "metadata": {},
   "outputs": [
    {
     "data": {
      "text/plain": [
       "{1: 'b'}"
      ]
     },
     "execution_count": 15,
     "metadata": {},
     "output_type": "execute_result"
    }
   ],
   "source": [
    "a={1:'a',1:'b'}\n",
    "a"
   ]
  },
  {
   "cell_type": "markdown",
   "id": "7e224788-41cb-455a-9ed6-5ec50be7c2b2",
   "metadata": {},
   "source": [
    "# 중복하면 안된다. 덮어씌워진다\n"
   ]
  },
  {
   "cell_type": "code",
   "execution_count": 18,
   "id": "08a14035-44ae-495b-9946-73686a8ede5d",
   "metadata": {},
   "outputs": [
    {
     "ename": "TypeError",
     "evalue": "unhashable type: 'list'",
     "output_type": "error",
     "traceback": [
      "\u001b[0;31m---------------------------------------------------------------------------\u001b[0m",
      "\u001b[0;31mTypeError\u001b[0m                                 Traceback (most recent call last)",
      "Cell \u001b[0;32mIn[18], line 2\u001b[0m\n\u001b[1;32m      1\u001b[0m \u001b[38;5;66;03m# 키는 리스트 불가 [ 숫자, 문자열 가능]\u001b[39;00m\n\u001b[0;32m----> 2\u001b[0m a\u001b[38;5;241m=\u001b[39ma\u001b[38;5;241m=\u001b[39m{[\u001b[38;5;241m1\u001b[39m,\u001b[38;5;241m2\u001b[39m]:\u001b[38;5;124m'\u001b[39m\u001b[38;5;124mhi\u001b[39m\u001b[38;5;124m'\u001b[39m}\n",
      "\u001b[0;31mTypeError\u001b[0m: unhashable type: 'list'"
     ]
    }
   ],
   "source": [
    "# 키는 리스트 불가 [ 숫자, 문자열 가능]\n",
    "a=a={[1,2]:'hi'}"
   ]
  },
  {
   "cell_type": "markdown",
   "id": "5fd05094-4246-422a-a310-7add3e6ea470",
   "metadata": {},
   "source": [
    "# 5.딕셔너리 관련 함수\n"
   ]
  },
  {
   "cell_type": "code",
   "execution_count": 20,
   "id": "f9c60663-4f48-4b2f-9626-b351a25d86de",
   "metadata": {},
   "outputs": [
    {
     "data": {
      "text/plain": [
       "dict_keys(['name', 'phone', 'birth'])"
      ]
     },
     "execution_count": 20,
     "metadata": {},
     "output_type": "execute_result"
    }
   ],
   "source": [
    "# keys() : key 리스트 만들기\n",
    "dic = {'name':'jws', 'phone' :'010-2222-3333', 'birth':\"0313\"}\n",
    "dic.keys()"
   ]
  },
  {
   "cell_type": "code",
   "execution_count": 21,
   "id": "38441307-1a2b-4b33-895c-6ab3b5ab8717",
   "metadata": {},
   "outputs": [
    {
     "data": {
      "text/plain": [
       "dict_values(['jws', '010-2222-3333', '0313'])"
      ]
     },
     "execution_count": 21,
     "metadata": {},
     "output_type": "execute_result"
    }
   ],
   "source": [
    "# values() : value 리스트 만들기\n",
    "dic.values()\n"
   ]
  },
  {
   "cell_type": "code",
   "execution_count": 27,
   "id": "2f1ce562-4d38-4770-9f59-711eed817f03",
   "metadata": {},
   "outputs": [
    {
     "name": "stdout",
     "output_type": "stream",
     "text": [
      "name\n",
      "phone\n",
      "birth\n"
     ]
    }
   ],
   "source": [
    "for k in dic.keys():\n",
    "    print(k)"
   ]
  },
  {
   "cell_type": "code",
   "execution_count": 28,
   "id": "079c0d27-7380-434f-8efe-831db1b86e65",
   "metadata": {},
   "outputs": [
    {
     "data": {
      "text/plain": [
       "dict_items([('name', 'jws'), ('phone', '010-2222-3333'), ('birth', '0313')])"
      ]
     },
     "execution_count": 28,
     "metadata": {},
     "output_type": "execute_result"
    }
   ],
   "source": [
    "# items() key, value 쌍 얻기\n",
    "dic.items()"
   ]
  },
  {
   "cell_type": "code",
   "execution_count": 29,
   "id": "328c1c29-edba-47a0-bd4d-db164712e2de",
   "metadata": {},
   "outputs": [
    {
     "data": {
      "text/plain": [
       "{'name': 'jws', 'phone': '010-2222-3333', 'birth': '0313'}"
      ]
     },
     "execution_count": 29,
     "metadata": {},
     "output_type": "execute_result"
    }
   ],
   "source": [
    "dic"
   ]
  },
  {
   "cell_type": "code",
   "execution_count": 58,
   "id": "c585436c-057e-417c-a8d9-b02db8d5248b",
   "metadata": {},
   "outputs": [
    {
     "data": {
      "text/plain": [
       "{}"
      ]
     },
     "execution_count": 58,
     "metadata": {},
     "output_type": "execute_result"
    }
   ],
   "source": [
    "# clear() 딕셔너리 아이템들 모두 지우기\n",
    "dic.clear()\n",
    "dic"
   ]
  },
  {
   "cell_type": "code",
   "execution_count": 31,
   "id": "9a98bf1a-960f-485d-9548-04d01ab46f70",
   "metadata": {},
   "outputs": [
    {
     "data": {
      "text/plain": [
       "dict"
      ]
     },
     "execution_count": 31,
     "metadata": {},
     "output_type": "execute_result"
    }
   ],
   "source": [
    "type(dic)\n"
   ]
  },
  {
   "cell_type": "code",
   "execution_count": 33,
   "id": "18d681bb-a676-4969-ae12-300829f680c3",
   "metadata": {},
   "outputs": [
    {
     "data": {
      "text/plain": [
       "{'name': 'jws'}"
      ]
     },
     "execution_count": 33,
     "metadata": {},
     "output_type": "execute_result"
    }
   ],
   "source": [
    "dic['name']='jws'\n",
    "dic"
   ]
  },
  {
   "cell_type": "code",
   "execution_count": 35,
   "id": "7ec66771-e079-476e-a120-89ef62f3ab77",
   "metadata": {},
   "outputs": [
    {
     "data": {
      "text/plain": [
       "{'name': 'jws', 'phone': '010-2222-3333'}"
      ]
     },
     "execution_count": 35,
     "metadata": {},
     "output_type": "execute_result"
    }
   ],
   "source": [
    "dic['phone']='010-2222-3333'\n",
    "dic"
   ]
  },
  {
   "cell_type": "code",
   "execution_count": 36,
   "id": "7e82b7ea-c6d9-4f3c-879f-287111de712c",
   "metadata": {},
   "outputs": [
    {
     "data": {
      "text/plain": [
       "{'name': 'jws', 'phone': '010-2222-3333', 'birth': '0313'}"
      ]
     },
     "execution_count": 36,
     "metadata": {},
     "output_type": "execute_result"
    }
   ],
   "source": [
    "dic['birth']='0313'\n",
    "dic"
   ]
  },
  {
   "cell_type": "code",
   "execution_count": 37,
   "id": "e44a242c-9ff9-4689-ae0b-e37beea89a37",
   "metadata": {},
   "outputs": [
    {
     "name": "stdout",
     "output_type": "stream",
     "text": [
      "jws\n"
     ]
    }
   ],
   "source": [
    "print(dic['name'])"
   ]
  },
  {
   "cell_type": "code",
   "execution_count": 38,
   "id": "ae1da9d6-d386-40ab-b8bf-815ef8f3bab6",
   "metadata": {},
   "outputs": [
    {
     "name": "stdout",
     "output_type": "stream",
     "text": [
      "내 이름은 jws\n"
     ]
    }
   ],
   "source": [
    "print(f\"내 이름은 {dic['name']}\")"
   ]
  },
  {
   "cell_type": "code",
   "execution_count": 39,
   "id": "629f868e-05b1-4821-91c2-7bc232851ddb",
   "metadata": {},
   "outputs": [],
   "source": [
    "# 변수는 {} 를 넣어야 한다"
   ]
  },
  {
   "cell_type": "code",
   "execution_count": 40,
   "id": "3a694b5e-8c97-4e2b-88f8-6fa23eabbdd4",
   "metadata": {},
   "outputs": [
    {
     "name": "stdout",
     "output_type": "stream",
     "text": [
      "내 전화번호는 010-2222-3333 입니다.\n"
     ]
    }
   ],
   "source": [
    "print(f\"내 전화번호는 {dic['phone']} 입니다.\")"
   ]
  },
  {
   "cell_type": "code",
   "execution_count": 41,
   "id": "dd514a66-ec99-4398-b33f-efe7f3c5b80e",
   "metadata": {},
   "outputs": [
    {
     "data": {
      "text/plain": [
       "'0313'"
      ]
     },
     "execution_count": 41,
     "metadata": {},
     "output_type": "execute_result"
    }
   ],
   "source": [
    "# get() key로 value 얻기\n",
    "dic.get('birth')"
   ]
  },
  {
   "cell_type": "code",
   "execution_count": 42,
   "id": "af6d640d-da0e-48b7-86b4-9c54d3aee927",
   "metadata": {},
   "outputs": [
    {
     "data": {
      "text/plain": [
       "'jws'"
      ]
     },
     "execution_count": 42,
     "metadata": {},
     "output_type": "execute_result"
    }
   ],
   "source": [
    "dic.get('name')"
   ]
  },
  {
   "cell_type": "code",
   "execution_count": 43,
   "id": "abc69fe5-9586-41fc-9517-176d1f179ddf",
   "metadata": {},
   "outputs": [
    {
     "ename": "KeyError",
     "evalue": "'age'",
     "output_type": "error",
     "traceback": [
      "\u001b[0;31m---------------------------------------------------------------------------\u001b[0m",
      "\u001b[0;31mKeyError\u001b[0m                                  Traceback (most recent call last)",
      "Cell \u001b[0;32mIn[43], line 1\u001b[0m\n\u001b[0;32m----> 1\u001b[0m \u001b[38;5;28mprint\u001b[39m(a[\u001b[38;5;124m'\u001b[39m\u001b[38;5;124mage\u001b[39m\u001b[38;5;124m'\u001b[39m])\n",
      "\u001b[0;31mKeyError\u001b[0m: 'age'"
     ]
    }
   ],
   "source": [
    "print(a['age'])"
   ]
  },
  {
   "cell_type": "code",
   "execution_count": 44,
   "id": "3a7fd181-0350-4bf1-acbc-78f79288d2dd",
   "metadata": {},
   "outputs": [
    {
     "name": "stdout",
     "output_type": "stream",
     "text": [
      "None\n"
     ]
    }
   ],
   "source": [
    "print(dic.get('age'))"
   ]
  },
  {
   "cell_type": "code",
   "execution_count": 45,
   "id": "10dc6717-8487-4b2c-8cdb-5efd4dd310c7",
   "metadata": {},
   "outputs": [
    {
     "data": {
      "text/plain": [
       "25"
      ]
     },
     "execution_count": 45,
     "metadata": {},
     "output_type": "execute_result"
    }
   ],
   "source": [
    "dic.get('age', 25)"
   ]
  },
  {
   "cell_type": "code",
   "execution_count": 49,
   "id": "0ac68a94-39cb-4408-87ed-b3cd7411778f",
   "metadata": {},
   "outputs": [],
   "source": [
    "dic['age']=28"
   ]
  },
  {
   "cell_type": "code",
   "execution_count": 50,
   "id": "5a185bd1-96a7-4619-8f82-5a705d150759",
   "metadata": {},
   "outputs": [
    {
     "data": {
      "text/plain": [
       "{'name': 'jws', 'phone': '010-2222-3333', 'birth': '0313', 'age': 28}"
      ]
     },
     "execution_count": 50,
     "metadata": {},
     "output_type": "execute_result"
    }
   ],
   "source": [
    "dic"
   ]
  },
  {
   "cell_type": "code",
   "execution_count": 51,
   "id": "79bc3d93-5ea3-4f82-9f18-97438a191468",
   "metadata": {},
   "outputs": [
    {
     "ename": "KeyError",
     "evalue": "'age'",
     "output_type": "error",
     "traceback": [
      "\u001b[0;31m---------------------------------------------------------------------------\u001b[0m",
      "\u001b[0;31mKeyError\u001b[0m                                  Traceback (most recent call last)",
      "Cell \u001b[0;32mIn[51], line 1\u001b[0m\n\u001b[0;32m----> 1\u001b[0m \u001b[38;5;28mprint\u001b[39m(a[\u001b[38;5;124m'\u001b[39m\u001b[38;5;124mage\u001b[39m\u001b[38;5;124m'\u001b[39m])\n",
      "\u001b[0;31mKeyError\u001b[0m: 'age'"
     ]
    }
   ],
   "source": [
    "print(a['age'])"
   ]
  },
  {
   "cell_type": "code",
   "execution_count": 52,
   "id": "c5a60437-5abf-4c4f-bc1a-b2762f90886d",
   "metadata": {},
   "outputs": [
    {
     "name": "stdout",
     "output_type": "stream",
     "text": [
      "28\n"
     ]
    }
   ],
   "source": [
    "print(dic.get('age'))"
   ]
  },
  {
   "cell_type": "code",
   "execution_count": 53,
   "id": "db807913-1d45-468c-ad01-1fdb13ce9df6",
   "metadata": {},
   "outputs": [
    {
     "data": {
      "text/plain": [
       "{'name': 'jws', 'phone': '010-2222-3333', 'birth': '0313', 'age': 28}"
      ]
     },
     "execution_count": 53,
     "metadata": {},
     "output_type": "execute_result"
    }
   ],
   "source": [
    "dic\n"
   ]
  },
  {
   "cell_type": "code",
   "execution_count": 54,
   "id": "ce615d7a-9eb4-413e-b7e1-15913431e2a4",
   "metadata": {},
   "outputs": [],
   "source": [
    "# in key 가 딕셔너리에 존재하는지 여부를 확인"
   ]
  },
  {
   "cell_type": "code",
   "execution_count": null,
   "id": "9220bd95-ab23-40cb-8b64-336cb123c062",
   "metadata": {},
   "outputs": [],
   "source": []
  },
  {
   "cell_type": "code",
   "execution_count": 55,
   "id": "5bcf4010-1f52-48f8-9a3e-01ead9bbb3f8",
   "metadata": {},
   "outputs": [
    {
     "data": {
      "text/plain": [
       "True"
      ]
     },
     "execution_count": 55,
     "metadata": {},
     "output_type": "execute_result"
    }
   ],
   "source": [
    "'name' in dic\n"
   ]
  },
  {
   "cell_type": "code",
   "execution_count": 56,
   "id": "0866fb4f-b81c-4cae-8259-f847364426e1",
   "metadata": {},
   "outputs": [
    {
     "data": {
      "text/plain": [
       "False"
      ]
     },
     "execution_count": 56,
     "metadata": {},
     "output_type": "execute_result"
    }
   ],
   "source": [
    "'email' in dic"
   ]
  },
  {
   "cell_type": "code",
   "execution_count": 57,
   "id": "cb4a0494-2277-4273-9e52-059074ce6836",
   "metadata": {},
   "outputs": [
    {
     "data": {
      "text/plain": [
       "{1: 'b'}"
      ]
     },
     "execution_count": 57,
     "metadata": {},
     "output_type": "execute_result"
    }
   ],
   "source": [
    "a"
   ]
  },
  {
   "cell_type": "code",
   "execution_count": null,
   "id": "61d73adf-afb8-4001-b264-299d48b3efb2",
   "metadata": {},
   "outputs": [],
   "source": []
  }
 ],
 "metadata": {
  "kernelspec": {
   "display_name": "Python [conda env:base] *",
   "language": "python",
   "name": "conda-base-py"
  },
  "language_info": {
   "codemirror_mode": {
    "name": "ipython",
    "version": 3
   },
   "file_extension": ".py",
   "mimetype": "text/x-python",
   "name": "python",
   "nbconvert_exporter": "python",
   "pygments_lexer": "ipython3",
   "version": "3.13.5"
  }
 },
 "nbformat": 4,
 "nbformat_minor": 5
}
